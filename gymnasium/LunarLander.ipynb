{
 "cells": [
  {
   "cell_type": "markdown",
   "metadata": {
    "colab_type": "text",
    "id": "view-in-github"
   },
   "source": [
    "<a href=\"https://colab.research.google.com/github/jasompi/colab-test/blob/main/gymnasium/LunarLander.ipynb\" target=\"_parent\"><img src=\"https://colab.research.google.com/assets/colab-badge.svg\" alt=\"Open In Colab\"/></a>"
   ]
  },
  {
   "cell_type": "markdown",
   "metadata": {
    "id": "s1tFJZOimKgG"
   },
   "source": [
    "# Deep Q-Learning - Lunar Lander\n",
    "\n",
    "In this assignment, you will train an agent to land a lunar lander safely on a landing pad on the surface of the moon.\n",
    "\n",
    "\n",
    "# Outline\n",
    "- [ 1 - Import Packages <img align=\"Right\" src=\"https://github.com/jasompi/colab-test/blob/main/gymnasium/images/lunar_lander.gif?raw=1\" width = 60% >](#1)\n",
    "- [ 2 - Hyperparameters](#2)\n",
    "- [ 3 - The Lunar Lander Environment](#3)\n",
    "  - [ 3.1 Action Space](#3.1)\n",
    "  - [ 3.2 Observation Space](#3.2)\n",
    "  - [ 3.3 Rewards](#3.3)\n",
    "  - [ 3.4 Episode Termination](#3.4)\n",
    "- [ 4 - Load the Environment](#4)\n",
    "- [ 5 - Interacting with the Gym Environment](#5)\n",
    "    - [ 5.1 Exploring the Environment's Dynamics](#5.1)\n",
    "- [ 6 - Deep Q-Learning](#6)\n",
    "  - [ 6.1 Target Network](#6.1)\n",
    "    - [ Exercise 1](#ex01)\n",
    "  - [ 6.2 Experience Replay](#6.2)\n",
    "- [ 7 - Deep Q-Learning Algorithm with Experience Replay](#7)\n",
    "  - [ Exercise 2](#ex02)\n",
    "- [ 8 - Update the Network Weights](#8)\n",
    "- [ 9 - Train the Agent](#9)\n",
    "- [ 10 - See the Trained Agent In Action](#10)\n",
    "- [ 11 - Congratulations!](#11)\n",
    "- [ 12 - References](#12)\n"
   ]
  },
  {
   "cell_type": "markdown",
   "metadata": {
    "id": "_CLqqz5JmKgI"
   },
   "source": [
    "_**NOTE:** To prevent errors from the autograder, you are not allowed to edit or delete non-graded cells in this lab. Please also refrain from adding any new cells.\n",
    "**Once you have passed this assignment** and want to experiment with any of the non-graded code, you may follow the instructions at the bottom of this notebook._"
   ]
  },
  {
   "cell_type": "markdown",
   "metadata": {
    "id": "THPrwLSYmKgI"
   },
   "source": [
    "<a name=\"1\"></a>\n",
    "## 1 - Import Packages\n",
    "\n",
    "We'll make use of the following packages:\n",
    "- `numpy` is a package for scientific computing in python.\n",
    "- `deque` will be our data structure for our memory buffer.\n",
    "- `namedtuple` will be used to store the experience tuples.\n",
    "- The `gym` toolkit is a collection of environments that can be used to test reinforcement learning algorithms. We should note that in this notebook we are using `gym` version `0.24.0`.\n",
    "- `PIL.Image` and `pyvirtualdisplay` are needed to render the Lunar Lander environment.\n",
    "- We will use several modules from the `tensorflow.keras` framework for building deep learning models.\n",
    "- `utils` is a module that contains helper functions for this assignment. You do not need to modify the code in this file.\n",
    "\n",
    "Run the cell below to import all the necessary packages."
   ]
  },
  {
   "cell_type": "code",
   "execution_count": 12,
   "metadata": {
    "colab": {
     "base_uri": "https://localhost:8080/"
    },
    "id": "MX4L_1ULpI0F",
    "outputId": "4ca15bdd-c4a2-4050-ab66-1cc844e16cb9"
   },
   "outputs": [
    {
     "name": "stdout",
     "output_type": "stream",
     "text": [
      "\r",
      "0% [Working]\r",
      "            \r",
      "Hit:1 https://cloud.r-project.org/bin/linux/ubuntu jammy-cran40/ InRelease\n",
      "\r",
      "0% [Connecting to archive.ubuntu.com (91.189.91.83)] [Connecting to security.ubuntu.com] [Connected \r",
      "                                                                                                    \r",
      "Hit:2 http://archive.ubuntu.com/ubuntu jammy InRelease\n",
      "\r",
      "0% [Waiting for headers] [Connecting to security.ubuntu.com] [Waiting for headers] [Connecting to pp\r",
      "                                                                                                    \r",
      "Hit:3 http://archive.ubuntu.com/ubuntu jammy-updates InRelease\n",
      "\r",
      "0% [Waiting for headers] [Connecting to security.ubuntu.com (185.125.190.83)] [Waiting for headers] \r",
      "                                                                                                    \r",
      "Hit:4 http://archive.ubuntu.com/ubuntu jammy-backports InRelease\n",
      "Hit:5 https://r2u.stat.illinois.edu/ubuntu jammy InRelease\n",
      "Hit:6 http://security.ubuntu.com/ubuntu jammy-security InRelease\n",
      "Hit:7 https://ppa.launchpadcontent.net/deadsnakes/ppa/ubuntu jammy InRelease\n",
      "Hit:8 https://ppa.launchpadcontent.net/ubuntugis/ppa/ubuntu jammy InRelease\n",
      "Reading package lists... Done\n",
      "W: Skipping acquire of configured file 'main/source/Sources' as repository 'https://r2u.stat.illinois.edu/ubuntu jammy InRelease' does not seem to provide it (sources.list entry misspelt?)\n",
      "Reading package lists... Done\n",
      "Building dependency tree... Done\n",
      "Reading state information... Done\n",
      "xvfb is already the newest version (2:21.1.4-2ubuntu1.7~22.04.13).\n",
      "0 upgraded, 0 newly installed, 0 to remove and 23 not upgraded.\n",
      "Reading package lists... Done\n",
      "Building dependency tree... Done\n",
      "Reading state information... Done\n",
      "swig is already the newest version (4.0.2-1ubuntu1).\n",
      "0 upgraded, 0 newly installed, 0 to remove and 23 not upgraded.\n"
     ]
    }
   ],
   "source": [
    "!apt-get update\n",
    "!apt-get install -y xvfb\n",
    "!apt-get install -y swig"
   ]
  },
  {
   "cell_type": "code",
   "execution_count": 13,
   "metadata": {
    "colab": {
     "base_uri": "https://localhost:8080/"
    },
    "id": "Tua68wnkmYbi",
    "outputId": "afbfdb30-951c-4871-d32e-2f3c068b31fa"
   },
   "outputs": [
    {
     "name": "stdout",
     "output_type": "stream",
     "text": [
      "Collecting box2d\n",
      "  Downloading Box2D-2.3.10-cp311-cp311-manylinux_2_17_x86_64.manylinux2014_x86_64.whl.metadata (573 bytes)\n",
      "Collecting box2d-kengz\n",
      "  Downloading Box2D-kengz-2.3.3.tar.gz (425 kB)\n",
      "\u001b[2K     \u001b[90m━━━━━━━━━━━━━━━━━━━━━━━━━━━━━━━━━━━━━━━━\u001b[0m \u001b[32m425.4/425.4 kB\u001b[0m \u001b[31m7.4 MB/s\u001b[0m eta \u001b[36m0:00:00\u001b[0m\n",
      "\u001b[?25h  Preparing metadata (setup.py) ... \u001b[?25l\u001b[?25hdone\n",
      "Downloading Box2D-2.3.10-cp311-cp311-manylinux_2_17_x86_64.manylinux2014_x86_64.whl (3.7 MB)\n",
      "\u001b[2K   \u001b[90m━━━━━━━━━━━━━━━━━━━━━━━━━━━━━━━━━━━━━━━━\u001b[0m \u001b[32m3.7/3.7 MB\u001b[0m \u001b[31m62.5 MB/s\u001b[0m eta \u001b[36m0:00:00\u001b[0m\n",
      "\u001b[?25hBuilding wheels for collected packages: box2d-kengz\n",
      "  Building wheel for box2d-kengz (setup.py) ... \u001b[?25l\u001b[?25hdone\n",
      "  Created wheel for box2d-kengz: filename=Box2D_kengz-2.3.3-cp311-cp311-linux_x86_64.whl size=2369376 sha256=01f8a9f5b623bddc3334e8b41f24226c639fa9ab79ada01a26caa216c728584b\n",
      "  Stored in directory: /root/.cache/pip/wheels/52/6a/a7/b49372347210a86f54c6603329c24c48dba26c98586ae80fbb\n",
      "Successfully built box2d-kengz\n",
      "Installing collected packages: box2d-kengz, box2d\n",
      "Successfully installed box2d-2.3.10 box2d-kengz-2.3.3\n"
     ]
    }
   ],
   "source": [
    "!curl -O https://raw.githubusercontent.com/jasompi/colab-test/refs/heads/main/gymnasium/utils.py\n",
    "\n",
    "!pip install -q gymnasium\n",
    "!pip install -q tensorflow\n",
    "!pip install -q numpy\n",
    "!pip install -q pillow\n",
    "!pip install -q PyVirtualDisplay\n",
    "!pip install box2d box2d-kengz\n",
    "!pip install imageio==2.19.3\n",
    "!pip install imageio-ffmpeg==0.4.7"
   ]
  },
  {
   "cell_type": "code",
   "execution_count": 1,
   "metadata": {
    "id": "DDbCTF1_pPrl"
   },
   "outputs": [],
   "source": [
    "#!Xvfb :1 -screen 0 1600x1200x16 &\n",
    "import os\n",
    "import platform\n",
    "\n",
    "os.environ['DISPLAY'] = ':1'\n",
    "\n",
    "if platform.platform().startswith('macOS') and not os.getcwd().endswith('gymnasium'):\n",
    "    os.chdir('gymnasium')"
   ]
  },
  {
   "cell_type": "code",
   "execution_count": 2,
   "metadata": {
    "deletable": false,
    "editable": true,
    "id": "KYbOPKRtfQOr",
    "tags": []
   },
   "outputs": [],
   "source": [
    "import time\n",
    "from collections import deque, namedtuple\n",
    "\n",
    "import gymnasium as gym\n",
    "import numpy as np\n",
    "import PIL.Image\n",
    "import tensorflow as tf\n",
    "import utils\n",
    "\n",
    "from pyvirtualdisplay import Display\n",
    "from tensorflow.keras import Sequential\n",
    "from tensorflow.keras.layers import Dense, Input\n",
    "from tensorflow.keras.losses import MSE\n",
    "from tensorflow.keras.optimizers import Adam"
   ]
  },
  {
   "cell_type": "code",
   "execution_count": 3,
   "metadata": {
    "deletable": false,
    "editable": true,
    "id": "F-2bLfXXmKgJ"
   },
   "outputs": [],
   "source": [
    "# Set up a virtual display to render the Lunar Lander environment.\n",
    "Display(visible=0, size=(840, 480)).start();\n",
    "\n",
    "# Set the random seed for TensorFlow\n",
    "tf.random.set_seed(utils.SEED)"
   ]
  },
  {
   "cell_type": "code",
   "execution_count": 4,
   "metadata": {},
   "outputs": [
    {
     "name": "stdout",
     "output_type": "stream",
     "text": [
      "0 Physical TPUs, 0 Logical TPU\n",
      "1 Physical GPUs, 0 Logical GPU\n",
      "1 Physical CPUs, 1 Logical CPU\n"
     ]
    }
   ],
   "source": [
    "import platform\n",
    "\n",
    "if platform.platform().startswith('macOS'):\n",
    "    tf.config.set_visible_devices([], 'GPU')\n",
    "\n",
    "if tf.config.list_physical_devices('TPU'):\n",
    "    resolver = tf.distribute.cluster_resolver.TPUClusterResolver(tpu='local')\n",
    "    tf.config.experimental_connect_to_cluster(resolver)\n",
    "    # This is the TPU initialization code that has to be at the beginning.\n",
    "    tf.tpu.experimental.initialize_tpu_system(resolver)\n",
    "\n",
    "tpus = tf.config.list_physical_devices('TPU')\n",
    "logical_tpus = tf.config.list_logical_devices('TPU')\n",
    "print(f'{len(tpus)} Physical TPUs, {len(logical_tpus)} Logical TPU')\n",
    "\n",
    "gpus = tf.config.list_physical_devices('GPU')\n",
    "logical_gpus = tf.config.list_logical_devices('GPU')\n",
    "print(f'{len(gpus)} Physical GPUs, {len(logical_gpus)} Logical GPU')\n",
    "\n",
    "cpus = tf.config.list_physical_devices('CPU')\n",
    "logical_cpus = tf.config.list_logical_devices('CPU')\n",
    "print(f'{len(cpus)} Physical CPUs, {len(logical_cpus)} Logical CPU')\n"
   ]
  },
  {
   "cell_type": "markdown",
   "metadata": {
    "id": "WKGsWpLtmKgJ"
   },
   "source": [
    "<a name=\"2\"></a>\n",
    "## 2 - Hyperparameters\n",
    "\n",
    "Run the cell below to set the hyperparameters."
   ]
  },
  {
   "cell_type": "code",
   "execution_count": 5,
   "metadata": {
    "deletable": false,
    "editable": true,
    "id": "fLOJgabImKgK"
   },
   "outputs": [],
   "source": [
    "MEMORY_SIZE = 100_000     # size of memory buffer\n",
    "GAMMA = 0.995             # discount factor\n",
    "ALPHA = 1e-3              # learning rate\n",
    "NUM_STEPS_FOR_UPDATE = 4  # perform a learning update every C time steps"
   ]
  },
  {
   "cell_type": "markdown",
   "metadata": {
    "id": "8xxyomONmKgK"
   },
   "source": [
    "<a name=\"3\"></a>\n",
    "## 3 - The Lunar Lander Environment\n",
    "\n",
    "In this notebook we will be using [OpenAI's Gym Library](https://www.gymlibrary.dev/). The Gym library provides a wide variety of environments for reinforcement learning. To put it simply, an environment represents a problem or task to be solved. In this notebook, we will try to solve the Lunar Lander environment using reinforcement learning.\n",
    "\n",
    "The goal of the Lunar Lander environment is to land the lunar lander safely on the landing pad on the surface of the moon. The landing pad is designated by two flag poles and its center is at coordinates `(0,0)` but the lander is also allowed to land outside of the landing pad. The lander starts at the top center of the environment with a random initial force applied to its center of mass and has infinite fuel. The environment is considered solved if you get `200` points.\n",
    "\n",
    "<br>\n",
    "<br>\n",
    "<figure>\n",
    "  <img src = \"images/lunar_lander.gif\" width = 40%>\n",
    "      <figcaption style = \"text-align: center; font-style: italic\">Fig 1. Lunar Lander Environment.</figcaption>\n",
    "</figure>\n",
    "\n",
    "\n",
    "\n",
    "<a name=\"3.1\"></a>\n",
    "### 3.1 Action Space\n",
    "\n",
    "The agent has four discrete actions available:\n",
    "\n",
    "* Do nothing.\n",
    "* Fire right engine.\n",
    "* Fire main engine.\n",
    "* Fire left engine.\n",
    "\n",
    "Each action has a corresponding numerical value:\n",
    "\n",
    "```python\n",
    "Do nothing = 0\n",
    "Fire right engine = 1\n",
    "Fire main engine = 2\n",
    "Fire left engine = 3\n",
    "```\n",
    "\n",
    "<a name=\"3.2\"></a>\n",
    "### 3.2 Observation Space\n",
    "\n",
    "The agent's observation space consists of a state vector with 8 variables:\n",
    "\n",
    "* Its $(x,y)$ coordinates. The landing pad is always at coordinates $(0,0)$.\n",
    "* Its linear velocities $(\\dot x,\\dot y)$.\n",
    "* Its angle $\\theta$.\n",
    "* Its angular velocity $\\dot \\theta$.\n",
    "* Two booleans, $l$ and $r$, that represent whether each leg is in contact with the ground or not.\n",
    "\n",
    "<a name=\"3.3\"></a>\n",
    "### 3.3 Rewards\n",
    "\n",
    "After every step, a reward is granted. The total reward of an episode is the sum of the rewards for all the steps within that episode.\n",
    "\n",
    "For each step, the reward:\n",
    "- is increased/decreased the closer/further the lander is to the landing pad.\n",
    "- is increased/decreased the slower/faster the lander is moving.\n",
    "- is decreased the more the lander is tilted (angle not horizontal).\n",
    "- is increased by 10 points for each leg that is in contact with the ground.\n",
    "- is decreased by 0.03 points each frame a side engine is firing.\n",
    "- is decreased by 0.3 points each frame the main engine is firing.\n",
    "\n",
    "The episode receives an additional reward of -100 or +100 points for crashing or landing safely respectively.\n",
    "\n",
    "<a name=\"3.4\"></a>\n",
    "### 3.4 Episode Termination\n",
    "\n",
    "An episode ends (i.e the environment enters a terminal state) if:\n",
    "\n",
    "* The lunar lander crashes (i.e if the body of the lunar lander comes in contact with the surface of the moon).\n",
    "\n",
    "* The absolute value of the lander's $x$-coordinate is greater than 1 (i.e. it goes beyond the left or right border)\n",
    "\n",
    "You can check out the [Open AI Gym documentation](https://www.gymlibrary.dev/environments/box2d/lunar_lander/) for a full description of the environment."
   ]
  },
  {
   "cell_type": "markdown",
   "metadata": {
    "id": "Dpt8BXHamKgK"
   },
   "source": [
    "<a name=\"4\"></a>\n",
    "## 4 - Load the Environment\n",
    "\n",
    "We start by loading the `LunarLander-v2` environment from the `gym` library by using the `.make()` method. `LunarLander-v2` is the latest version of the Lunar Lander environment and you can read about its version history in the [Open AI Gym documentation](https://www.gymlibrary.dev/environments/box2d/lunar_lander/#version-history)."
   ]
  },
  {
   "cell_type": "code",
   "execution_count": 6,
   "metadata": {
    "deletable": false,
    "editable": true,
    "id": "ILVMYKewfR0n",
    "tags": []
   },
   "outputs": [],
   "source": [
    "env = gym.make('LunarLander-v3', render_mode='rgb_array')"
   ]
  },
  {
   "cell_type": "markdown",
   "metadata": {
    "id": "f6jJIe-7mKgK"
   },
   "source": [
    "Once we load the environment we use the `.reset()` method to reset the environment to the initial state. The lander starts at the top center of the environment and we can render the first frame of the environment by using the `.render()` method."
   ]
  },
  {
   "cell_type": "code",
   "execution_count": 7,
   "metadata": {
    "colab": {
     "base_uri": "https://localhost:8080/",
     "height": 417
    },
    "deletable": false,
    "editable": true,
    "id": "LVh8uRhZmKgK",
    "outputId": "01b2e727-4090-4cba-bf91-82c8a476e7a0"
   },
   "outputs": [
    {
     "data": {
      "image/jpeg": "[encoded data removed]",
      "image/png": "[encoded data removed]",
      "text/plain": [
       "<PIL.Image.Image image mode=RGB size=600x400>"
      ]
     },
     "execution_count": 7,
     "metadata": {},
     "output_type": "execute_result"
    }
   ],
   "source": [
    "env.reset()\n",
    "PIL.Image.fromarray(env.render())"
   ]
  },
  {
   "cell_type": "markdown",
   "metadata": {
    "id": "crBokUxRmKgL"
   },
   "source": [
    "In order to build our neural network later on we need to know the size of the state vector and the number of valid actions. We can get this information from our environment by using the `.observation_space.shape` and `action_space.n` methods, respectively."
   ]
  },
  {
   "cell_type": "code",
   "execution_count": 8,
   "metadata": {
    "colab": {
     "base_uri": "https://localhost:8080/"
    },
    "deletable": false,
    "editable": true,
    "id": "x3fdqdG4CUu2",
    "outputId": "d9875c56-e972-419a-e18e-f1521e6de5c7"
   },
   "outputs": [
    {
     "name": "stdout",
     "output_type": "stream",
     "text": [
      "State Shape: (8,)\n",
      "Number of actions: 4\n"
     ]
    }
   ],
   "source": [
    "state_size = env.observation_space.shape\n",
    "num_actions = env.action_space.n\n",
    "\n",
    "print('State Shape:', state_size)\n",
    "print('Number of actions:', num_actions)"
   ]
  },
  {
   "cell_type": "markdown",
   "metadata": {
    "id": "T91xJm3SuY_d"
   },
   "source": [
    "<a name=\"5\"></a>\n",
    "## 5 - Interacting with the Gym Environment\n",
    "\n",
    "The Gym library implements the standard “agent-environment loop” formalism:\n",
    "\n",
    "<br>\n",
    "<center>\n",
    "<video src = \"./videos/rl_formalism.m4v\" width=\"840\" height=\"480\" controls autoplay loop poster=\"./images/rl_formalism.png\"> </video>\n",
    "<figcaption style = \"text-align:center; font-style:italic\">Fig 2. Agent-environment Loop Formalism.</figcaption>\n",
    "</center>\n",
    "<br>\n",
    "\n",
    "In the standard “agent-environment loop” formalism, an agent interacts with the environment in discrete time steps $t=0,1,2,...$. At each time step $t$, the agent uses a policy $\\pi$ to select an action $A_t$ based on its observation of the environment's state $S_t$. The agent receives a numerical reward $R_t$ and on the next time step, moves to a new state $S_{t+1}$.\n",
    "\n",
    "<a name=\"5.1\"></a>\n",
    "### 5.1 Exploring the Environment's Dynamics\n",
    "\n",
    "In Open AI's Gym environments, we use the `.step()` method to run a single time step of the environment's dynamics. In the version of `gym` that we are using the `.step()` method accepts an action and returns four values:\n",
    "\n",
    "* `observation` (**object**): an environment-specific object representing your observation of the environment. In the Lunar Lander environment this corresponds to a numpy array containing the positions and velocities of the lander as described in section [3.2 Observation Space](#3.2).\n",
    "\n",
    "\n",
    "* `reward` (**float**): amount of reward returned as a result of taking the given action. In the Lunar Lander environment this corresponds to a float of type `numpy.float64` as described in section [3.3 Rewards](#3.3).\n",
    "\n",
    "\n",
    "* `done` (**boolean**): When done is `True`, it indicates the episode has terminated and it’s time to reset the environment.\n",
    "\n",
    "\n",
    "* `info` (**dictionary**): diagnostic information useful for debugging. We won't be using this variable in this notebook but it is shown here for completeness.\n",
    "\n",
    "To begin an episode, we need to reset the environment to an initial state. We do this by using the `.reset()` method."
   ]
  },
  {
   "cell_type": "code",
   "execution_count": 9,
   "metadata": {
    "deletable": false,
    "editable": true,
    "id": "B5BB6qW6mKgL"
   },
   "outputs": [],
   "source": [
    "# Reset the environment and get the initial state.\n",
    "current_state, info = env.reset()"
   ]
  },
  {
   "cell_type": "markdown",
   "metadata": {
    "id": "eK_o6reomKgL"
   },
   "source": [
    "Once the environment is reset, the agent can start taking actions in the environment by using the `.step()` method. Note that the agent can only take one action per time step.\n",
    "\n",
    "In the cell below you can select different actions and see how the returned values change depending on the action taken. Remember that in this environment the agent has four discrete actions available and we specify them in code by using their corresponding numerical value:\n",
    "\n",
    "```python\n",
    "Do nothing = 0\n",
    "Fire right engine = 1\n",
    "Fire main engine = 2\n",
    "Fire left engine = 3\n",
    "```"
   ]
  },
  {
   "cell_type": "code",
   "execution_count": 10,
   "metadata": {
    "colab": {
     "base_uri": "https://localhost:8080/",
     "height": 923
    },
    "deletable": false,
    "editable": true,
    "id": "0CYxNo7gmKgL",
    "outputId": "aec2b652-5cc4-4df8-bd70-4bdd9272cb02",
    "tags": []
   },
   "outputs": [
    {
     "name": "stdout",
     "output_type": "stream",
     "text": [
      "1\n",
      "current: [ 0.00192366  1.4141526   0.19482374  0.14367077 -0.00222218 -0.04413053\n",
      "  0.          0.        ]\n",
      "next: [ 0.00384712  1.4168073   0.19456041  0.11798371 -0.00440282 -0.04361621\n",
      "  0.          0.        ]\n"
     ]
    },
    {
     "name": "stderr",
     "output_type": "stream",
     "text": [
      "/Users/jasompi/projects/colab/gymnasium/utils.py:338: FutureWarning: Styler.applymap has been deprecated. Use Styler.map instead.\n",
      "  pd.DataFrame({\n"
     ]
    },
    {
     "data": {
      "text/html": [
       "<style type=\"text/css\">\n",
       "#T_70589 th {\n",
       "  border: 1px solid grey;\n",
       "  text-align: center;\n",
       "}\n",
       "#T_70589 tbody td {\n",
       "  border: 1px solid grey;\n",
       "  text-align: center;\n",
       "}\n",
       "#T_70589_row0_col0, #T_70589_row1_col1, #T_70589_row1_col2, #T_70589_row1_col3, #T_70589_row1_col4, #T_70589_row1_col5, #T_70589_row1_col6, #T_70589_row1_col7, #T_70589_row1_col8, #T_70589_row1_col9, #T_70589_row1_col10, #T_70589_row1_col11, #T_70589_row2_col0, #T_70589_row3_col1, #T_70589_row3_col2, #T_70589_row3_col3, #T_70589_row3_col4, #T_70589_row3_col5, #T_70589_row3_col6, #T_70589_row3_col7, #T_70589_row3_col8, #T_70589_row3_col9, #T_70589_row3_col10, #T_70589_row3_col11, #T_70589_row4_col1, #T_70589_row4_col2, #T_70589_row4_col3, #T_70589_row4_col4, #T_70589_row4_col5, #T_70589_row4_col6, #T_70589_row4_col7, #T_70589_row4_col8, #T_70589_row4_col9, #T_70589_row4_col10, #T_70589_row4_col11 {\n",
       "  background-color: grey;\n",
       "}\n",
       "</style>\n",
       "<table id=\"T_70589\">\n",
       "  <thead>\n",
       "    <tr>\n",
       "      <th class=\"blank level0\" >&nbsp;</th>\n",
       "      <th id=\"T_70589_level0_col0\" class=\"col_heading level0 col0\" ></th>\n",
       "      <th id=\"T_70589_level0_col1\" class=\"col_heading level0 col1\" colspan=\"8\">State Vector</th>\n",
       "      <th id=\"T_70589_level0_col9\" class=\"col_heading level0 col9\" colspan=\"3\">Derived from the State Vector (the closer to zero, the better)</th>\n",
       "    </tr>\n",
       "    <tr>\n",
       "      <th class=\"blank level1\" >&nbsp;</th>\n",
       "      <th id=\"T_70589_level1_col0\" class=\"col_heading level1 col0\" ></th>\n",
       "      <th id=\"T_70589_level1_col1\" class=\"col_heading level1 col1\" colspan=\"2\">Coordinate</th>\n",
       "      <th id=\"T_70589_level1_col3\" class=\"col_heading level1 col3\" colspan=\"2\">Velocity</th>\n",
       "      <th id=\"T_70589_level1_col5\" class=\"col_heading level1 col5\" colspan=\"2\">Tilting</th>\n",
       "      <th id=\"T_70589_level1_col7\" class=\"col_heading level1 col7\" colspan=\"2\">Ground contact</th>\n",
       "      <th id=\"T_70589_level1_col9\" class=\"col_heading level1 col9\" >Distance from landing pad</th>\n",
       "      <th id=\"T_70589_level1_col10\" class=\"col_heading level1 col10\" >Velocity</th>\n",
       "      <th id=\"T_70589_level1_col11\" class=\"col_heading level1 col11\" >Tilting Angle (absolute value)</th>\n",
       "    </tr>\n",
       "    <tr>\n",
       "      <th class=\"blank level2\" >&nbsp;</th>\n",
       "      <th id=\"T_70589_level2_col0\" class=\"col_heading level2 col0\" ></th>\n",
       "      <th id=\"T_70589_level2_col1\" class=\"col_heading level2 col1\" >X (Horizontal)</th>\n",
       "      <th id=\"T_70589_level2_col2\" class=\"col_heading level2 col2\" >Y (Vertical)</th>\n",
       "      <th id=\"T_70589_level2_col3\" class=\"col_heading level2 col3\" >X (Horizontal)</th>\n",
       "      <th id=\"T_70589_level2_col4\" class=\"col_heading level2 col4\" >Y (Vertical)</th>\n",
       "      <th id=\"T_70589_level2_col5\" class=\"col_heading level2 col5\" >Angle</th>\n",
       "      <th id=\"T_70589_level2_col6\" class=\"col_heading level2 col6\" >Angular Velocity</th>\n",
       "      <th id=\"T_70589_level2_col7\" class=\"col_heading level2 col7\" >Left Leg?</th>\n",
       "      <th id=\"T_70589_level2_col8\" class=\"col_heading level2 col8\" >Right Leg?</th>\n",
       "      <th id=\"T_70589_level2_col9\" class=\"col_heading level2 col9\" ></th>\n",
       "      <th id=\"T_70589_level2_col10\" class=\"col_heading level2 col10\" ></th>\n",
       "      <th id=\"T_70589_level2_col11\" class=\"col_heading level2 col11\" ></th>\n",
       "    </tr>\n",
       "  </thead>\n",
       "  <tbody>\n",
       "    <tr>\n",
       "      <th id=\"T_70589_level0_row0\" class=\"row_heading level0 row0\" >Current State</th>\n",
       "      <td id=\"T_70589_row0_col0\" class=\"data row0 col0\" ></td>\n",
       "      <td id=\"T_70589_row0_col1\" class=\"data row0 col1\" >0.001924</td>\n",
       "      <td id=\"T_70589_row0_col2\" class=\"data row0 col2\" >1.414153</td>\n",
       "      <td id=\"T_70589_row0_col3\" class=\"data row0 col3\" >0.194824</td>\n",
       "      <td id=\"T_70589_row0_col4\" class=\"data row0 col4\" >0.143671</td>\n",
       "      <td id=\"T_70589_row0_col5\" class=\"data row0 col5\" >-0.002222</td>\n",
       "      <td id=\"T_70589_row0_col6\" class=\"data row0 col6\" >-0.044131</td>\n",
       "      <td id=\"T_70589_row0_col7\" class=\"data row0 col7\" >False</td>\n",
       "      <td id=\"T_70589_row0_col8\" class=\"data row0 col8\" >False</td>\n",
       "      <td id=\"T_70589_row0_col9\" class=\"data row0 col9\" >1.414154</td>\n",
       "      <td id=\"T_70589_row0_col10\" class=\"data row0 col10\" >0.242069</td>\n",
       "      <td id=\"T_70589_row0_col11\" class=\"data row0 col11\" >0.002222</td>\n",
       "    </tr>\n",
       "    <tr>\n",
       "      <th id=\"T_70589_level0_row1\" class=\"row_heading level0 row1\" >Action</th>\n",
       "      <td id=\"T_70589_row1_col0\" class=\"data row1 col0\" >Fire right engine</td>\n",
       "      <td id=\"T_70589_row1_col1\" class=\"data row1 col1\" ></td>\n",
       "      <td id=\"T_70589_row1_col2\" class=\"data row1 col2\" ></td>\n",
       "      <td id=\"T_70589_row1_col3\" class=\"data row1 col3\" ></td>\n",
       "      <td id=\"T_70589_row1_col4\" class=\"data row1 col4\" ></td>\n",
       "      <td id=\"T_70589_row1_col5\" class=\"data row1 col5\" ></td>\n",
       "      <td id=\"T_70589_row1_col6\" class=\"data row1 col6\" ></td>\n",
       "      <td id=\"T_70589_row1_col7\" class=\"data row1 col7\" ></td>\n",
       "      <td id=\"T_70589_row1_col8\" class=\"data row1 col8\" ></td>\n",
       "      <td id=\"T_70589_row1_col9\" class=\"data row1 col9\" ></td>\n",
       "      <td id=\"T_70589_row1_col10\" class=\"data row1 col10\" ></td>\n",
       "      <td id=\"T_70589_row1_col11\" class=\"data row1 col11\" ></td>\n",
       "    </tr>\n",
       "    <tr>\n",
       "      <th id=\"T_70589_level0_row2\" class=\"row_heading level0 row2\" >Next State</th>\n",
       "      <td id=\"T_70589_row2_col0\" class=\"data row2 col0\" ></td>\n",
       "      <td id=\"T_70589_row2_col1\" class=\"data row2 col1\" >0.003847</td>\n",
       "      <td id=\"T_70589_row2_col2\" class=\"data row2 col2\" >1.416807</td>\n",
       "      <td id=\"T_70589_row2_col3\" class=\"data row2 col3\" >0.194560</td>\n",
       "      <td id=\"T_70589_row2_col4\" class=\"data row2 col4\" >0.117984</td>\n",
       "      <td id=\"T_70589_row2_col5\" class=\"data row2 col5\" >-0.004403</td>\n",
       "      <td id=\"T_70589_row2_col6\" class=\"data row2 col6\" >-0.043616</td>\n",
       "      <td id=\"T_70589_row2_col7\" class=\"data row2 col7\" >False</td>\n",
       "      <td id=\"T_70589_row2_col8\" class=\"data row2 col8\" >False</td>\n",
       "      <td id=\"T_70589_row2_col9\" class=\"data row2 col9\" >1.416812</td>\n",
       "      <td id=\"T_70589_row2_col10\" class=\"data row2 col10\" >0.227539</td>\n",
       "      <td id=\"T_70589_row2_col11\" class=\"data row2 col11\" >0.004403</td>\n",
       "    </tr>\n",
       "    <tr>\n",
       "      <th id=\"T_70589_level0_row3\" class=\"row_heading level0 row3\" >Reward</th>\n",
       "      <td id=\"T_70589_row3_col0\" class=\"data row3 col0\" >0.969126</td>\n",
       "      <td id=\"T_70589_row3_col1\" class=\"data row3 col1\" ></td>\n",
       "      <td id=\"T_70589_row3_col2\" class=\"data row3 col2\" ></td>\n",
       "      <td id=\"T_70589_row3_col3\" class=\"data row3 col3\" ></td>\n",
       "      <td id=\"T_70589_row3_col4\" class=\"data row3 col4\" ></td>\n",
       "      <td id=\"T_70589_row3_col5\" class=\"data row3 col5\" ></td>\n",
       "      <td id=\"T_70589_row3_col6\" class=\"data row3 col6\" ></td>\n",
       "      <td id=\"T_70589_row3_col7\" class=\"data row3 col7\" ></td>\n",
       "      <td id=\"T_70589_row3_col8\" class=\"data row3 col8\" ></td>\n",
       "      <td id=\"T_70589_row3_col9\" class=\"data row3 col9\" ></td>\n",
       "      <td id=\"T_70589_row3_col10\" class=\"data row3 col10\" ></td>\n",
       "      <td id=\"T_70589_row3_col11\" class=\"data row3 col11\" ></td>\n",
       "    </tr>\n",
       "    <tr>\n",
       "      <th id=\"T_70589_level0_row4\" class=\"row_heading level0 row4\" >Episode Terminated</th>\n",
       "      <td id=\"T_70589_row4_col0\" class=\"data row4 col0\" >False</td>\n",
       "      <td id=\"T_70589_row4_col1\" class=\"data row4 col1\" ></td>\n",
       "      <td id=\"T_70589_row4_col2\" class=\"data row4 col2\" ></td>\n",
       "      <td id=\"T_70589_row4_col3\" class=\"data row4 col3\" ></td>\n",
       "      <td id=\"T_70589_row4_col4\" class=\"data row4 col4\" ></td>\n",
       "      <td id=\"T_70589_row4_col5\" class=\"data row4 col5\" ></td>\n",
       "      <td id=\"T_70589_row4_col6\" class=\"data row4 col6\" ></td>\n",
       "      <td id=\"T_70589_row4_col7\" class=\"data row4 col7\" ></td>\n",
       "      <td id=\"T_70589_row4_col8\" class=\"data row4 col8\" ></td>\n",
       "      <td id=\"T_70589_row4_col9\" class=\"data row4 col9\" ></td>\n",
       "      <td id=\"T_70589_row4_col10\" class=\"data row4 col10\" ></td>\n",
       "      <td id=\"T_70589_row4_col11\" class=\"data row4 col11\" ></td>\n",
       "    </tr>\n",
       "  </tbody>\n",
       "</table>\n"
      ],
      "text/plain": [
       "<pandas.io.formats.style.Styler at 0x34b42e190>"
      ]
     },
     "metadata": {},
     "output_type": "display_data"
    }
   ],
   "source": [
    "# Select an action\n",
    "action = env.action_space.sample()\n",
    "print(action)\n",
    "\n",
    "# Run a single time step of the environment's dynamics with the given action.\n",
    "next_state, reward, done, truncated, info = env.step(0)\n",
    "\n",
    "print(f'current: {current_state}')\n",
    "print(f'next: {next_state}')\n",
    "# Display table with values.\n",
    "utils.display_table(current_state, action, next_state, reward, done)\n",
    "\n",
    "# Replace the `current_state` with the state after the action is taken\n",
    "current_state = next_state"
   ]
  },
  {
   "cell_type": "markdown",
   "metadata": {
    "editable": true,
    "id": "QCOuvS37mKgL",
    "tags": []
   },
   "source": [
    "In practice, when we train the agent we use a loop to allow the agent to take many consecutive actions during an episode."
   ]
  },
  {
   "cell_type": "markdown",
   "metadata": {
    "editable": true,
    "id": "AevIDvpbmKgL",
    "tags": []
   },
   "source": [
    "<a name=\"6\"></a>\n",
    "## 6 - Deep Q-Learning\n",
    "\n",
    "In cases where both the state and action space are discrete we can estimate the action-value function iteratively by using the Bellman equation:\n",
    "\n",
    "$$\n",
    "Q_{i+1}(s,a) = R + \\gamma \\max_{a'}Q_i(s',a')\n",
    "$$\n",
    "\n",
    "This iterative method converges to the optimal action-value function $Q^*(s,a)$ as $i\\to\\infty$. This means that the agent just needs to gradually explore the state-action space and keep updating the estimate of $Q(s,a)$ until it converges to the optimal action-value function $Q^*(s,a)$. However, in cases where the state space is continuous it becomes practically impossible to explore the entire state-action space. Consequently, this also makes it practically impossible to gradually estimate $Q(s,a)$ until it converges to $Q^*(s,a)$.\n",
    "\n",
    "In the Deep $Q$-Learning, we solve this problem by using a neural network to estimate the action-value function $Q(s,a)\\approx Q^*(s,a)$. We call this neural network a $Q$-Network and it can be trained by adjusting its weights at each iteration to minimize the mean-squared error in the Bellman equation.\n",
    "\n",
    "Unfortunately, using neural networks in reinforcement learning to estimate action-value functions has proven to be highly unstable. Luckily, there's a couple of techniques that can be employed to avoid instabilities. These techniques consist of using a ***Target Network*** and ***Experience Replay***. We will explore these two techniques in the following sections."
   ]
  },
  {
   "cell_type": "markdown",
   "metadata": {
    "id": "pV9U_cgPmKgL"
   },
   "source": [
    "<a name=\"6.1\"></a>\n",
    "### 6.1 Target Network\n",
    "\n",
    "We can train the $Q$-Network by adjusting it's weights at each iteration to minimize the mean-squared error in the Bellman equation, where the target values are given by:\n",
    "\n",
    "$$\n",
    "y = R + \\gamma \\max_{a'}Q(s',a';w)\n",
    "$$\n",
    "\n",
    "where $w$ are the weights of the $Q$-Network. This means that we are adjusting the weights $w$ at each iteration to minimize the following error:\n",
    "\n",
    "$$\n",
    "\\overbrace{\\underbrace{R + \\gamma \\max_{a'}Q(s',a'; w)}_{\\rm {y~target}} - Q(s,a;w)}^{\\rm {Error}}\n",
    "$$\n",
    "\n",
    "Notice that this forms a problem because the $y$ target is changing on every iteration. Having a constantly moving target can lead to oscillations and instabilities. To avoid this, we can create\n",
    "a separate neural network for generating the $y$ targets. We call this separate neural network the **target $\\hat Q$-Network** and it will have the same architecture as the original $Q$-Network. By using the target $\\hat Q$-Network, the above error becomes:\n",
    "\n",
    "$$\n",
    "\\overbrace{\\underbrace{R + \\gamma \\max_{a'}\\hat{Q}(s',a'; w^-)}_{\\rm {y~target}} - Q(s,a;w)}^{\\rm {Error}}\n",
    "$$\n",
    "\n",
    "where $w^-$ and $w$ are the weights of the target $\\hat Q$-Network and $Q$-Network, respectively.\n",
    "\n",
    "In practice, we will use the following algorithm: every $C$ time steps we will use the $\\hat Q$-Network to generate the $y$ targets and update the weights of the target $\\hat Q$-Network using the weights of the $Q$-Network. We will update the weights $w^-$ of the the target $\\hat Q$-Network using a **soft update**. This means that we will update the weights $w^-$ using the following rule:\n",
    "\n",
    "$$\n",
    "w^-\\leftarrow \\tau w + (1 - \\tau) w^-\n",
    "$$\n",
    "\n",
    "where $\\tau\\ll 1$. By using the soft update, we are ensuring that the target values, $y$, change slowly, which greatly improves the stability of our learning algorithm."
   ]
  },
  {
   "cell_type": "markdown",
   "metadata": {
    "id": "9tfoPB_3mKgL"
   },
   "source": [
    "<a name=\"ex01\"></a>\n",
    "### Exercise 1\n",
    "\n",
    "In this exercise you will create the $Q$ and target $\\hat Q$ networks and set the optimizer. Remember that the Deep $Q$-Network (DQN) is a neural network that approximates the action-value function $Q(s,a)\\approx Q^*(s,a)$. It does this by learning how to map states to $Q$ values.\n",
    "\n",
    "To solve the Lunar Lander environment, we are going to employ a DQN with the following architecture:\n",
    "\n",
    "* An `Input` layer that takes `state_size` as input.\n",
    "\n",
    "* A `Dense` layer with `64` units and a `relu` activation function.\n",
    "\n",
    "* A `Dense` layer with `64` units and a `relu` activation function.\n",
    "\n",
    "* A `Dense` layer with `num_actions` units and a `linear` activation function. This will be the output layer of our network.\n",
    "\n",
    "\n",
    "In the cell below you should create the $Q$-Network and the target $\\hat Q$-Network using the model architecture described above. Remember that both the $Q$-Network and the target $\\hat Q$-Network have the same architecture.\n",
    "\n",
    "Lastly, you should set `Adam` as the optimizer with a learning rate equal to `ALPHA`. Recall that `ALPHA` was defined in the [Hyperparameters](#2) section. We should note that for this exercise you should use the already imported packages:\n",
    "```python\n",
    "from tensorflow.keras.layers import Dense, Input\n",
    "from tensorflow.keras.optimizers import Adam\n",
    "```"
   ]
  },
  {
   "cell_type": "code",
   "execution_count": 11,
   "metadata": {
    "deletable": false,
    "editable": true,
    "id": "Q8XEgyXmmKgM",
    "tags": []
   },
   "outputs": [],
   "source": [
    "# UNQ_C1\n",
    "# GRADED CELL\n",
    "\n",
    "# Create the Q-Network\n",
    "q_network = Sequential([\n",
    "    ### START CODE HERE ###\n",
    "    Input(state_size),\n",
    "    Dense(64, activation='relu'),\n",
    "    Dense(64, activation='relu'),\n",
    "    Dense(num_actions, activation='linear'),\n",
    "    ### END CODE HERE ###\n",
    "    ])\n",
    "\n",
    "# Create the target Q^-Network\n",
    "target_q_network = Sequential([\n",
    "    ### START CODE HERE ###\n",
    "    Input(state_size),\n",
    "    Dense(64, activation='relu'),\n",
    "    Dense(64, activation='relu'),\n",
    "    Dense(num_actions, activation='linear'),\n",
    "    ### END CODE HERE ###\n",
    "    ])\n",
    "\n",
    "### START CODE HERE ###\n",
    "optimizer = Adam(learning_rate=ALPHA)\n",
    "### END CODE HERE ###"
   ]
  },
  {
   "cell_type": "code",
   "execution_count": null,
   "metadata": {
    "deletable": false,
    "editable": true,
    "id": "dj0geKWkmKgM",
    "tags": []
   },
   "outputs": [],
   "source": [
    "# UNIT TEST\n",
    "# from public_tests import *\n",
    "\n",
    "# test_network(q_network)\n",
    "# test_network(target_q_network)\n",
    "# test_optimizer(optimizer, ALPHA)"
   ]
  },
  {
   "cell_type": "markdown",
   "metadata": {
    "editable": true,
    "id": "OYfbCqcemKgM",
    "tags": []
   },
   "source": [
    "<details>\n",
    "  <summary><font size=\"3\" color=\"darkgreen\"><b>Click for hints</b></font></summary>\n",
    "    \n",
    "```python\n",
    "# Create the Q-Network\n",
    "q_network = Sequential([\n",
    "    Input(shape=state_size),                      \n",
    "    Dense(units=64, activation='relu'),            \n",
    "    Dense(units=64, activation='relu'),            \n",
    "    Dense(units=num_actions, activation='linear'),\n",
    "    ])\n",
    "\n",
    "# Create the target Q^-Network\n",
    "target_q_network = Sequential([\n",
    "    Input(shape=state_size),                       \n",
    "    Dense(units=64, activation='relu'),            \n",
    "    Dense(units=64, activation='relu'),            \n",
    "    Dense(units=num_actions, activation='linear'),\n",
    "    ])\n",
    "\n",
    "optimizer = Adam(learning_rate=ALPHA)                                  \n",
    "```"
   ]
  },
  {
   "cell_type": "markdown",
   "metadata": {
    "id": "xXI57AA5mKgM"
   },
   "source": [
    "<a name=\"6.2\"></a>\n",
    "### 6.2 Experience Replay\n",
    "\n",
    "When an agent interacts with the environment, the states, actions, and rewards the agent experiences are sequential by nature. If the agent tries to learn from these consecutive experiences it can run into problems due to the strong correlations between them. To avoid this, we employ a technique known as **Experience Replay** to generate uncorrelated experiences for training our agent. Experience replay consists of storing the agent's experiences (i.e the states, actions, and rewards the agent receives) in a memory buffer and then sampling a random mini-batch of experiences from the buffer to do the learning. The experience tuples $(S_t, A_t, R_t, S_{t+1})$ will be added to the memory buffer at each time step as the agent interacts with the environment.\n",
    "\n",
    "For convenience, we will store the experiences as named tuples."
   ]
  },
  {
   "cell_type": "code",
   "execution_count": 12,
   "metadata": {
    "deletable": false,
    "editable": true,
    "id": "DgUQeEs3mKgM",
    "tags": []
   },
   "outputs": [],
   "source": [
    "# Store experiences as named tuples\n",
    "experience = namedtuple(\"Experience\", field_names=[\"state\", \"action\", \"reward\", \"next_state\", \"done\"])"
   ]
  },
  {
   "cell_type": "markdown",
   "metadata": {
    "editable": true,
    "id": "JPeebzZkmKgM",
    "tags": []
   },
   "source": [
    "By using experience replay we avoid problematic correlations, oscillations and instabilities. In addition, experience replay also allows the agent to potentially use the same experience in multiple weight updates, which increases data efficiency."
   ]
  },
  {
   "cell_type": "markdown",
   "metadata": {
    "id": "nJTyDqmOmKgM"
   },
   "source": [
    "<a name=\"7\"></a>\n",
    "## 7 - Deep Q-Learning Algorithm with Experience Replay\n",
    "\n",
    "Now that we know all the techniques that we are going to use, we can put them together to arrive at the Deep Q-Learning Algorithm With Experience Replay.\n",
    "<br>\n",
    "<br>\n",
    "<figure>\n",
    "  <img src = \"images/deep_q_algorithm.png\" width = 90% style = \"border: thin silver solid; padding: 0px\">\n",
    "      <figcaption style = \"text-align: center; font-style: italic\">Fig 3. Deep Q-Learning with Experience Replay.</figcaption>\n",
    "</figure>"
   ]
  },
  {
   "cell_type": "markdown",
   "metadata": {
    "id": "bukIY3-7mKgM"
   },
   "source": [
    "<a name=\"ex02\"></a>\n",
    "### Exercise 2\n",
    "\n",
    "In this exercise you will implement line ***12*** of the algorithm outlined in *Fig 3* above and you will also compute the loss between the $y$ targets and the $Q(s,a)$ values. In the cell below, complete the `compute_loss` function by setting the $y$ targets equal to:\n",
    "\n",
    "$$\n",
    "\\begin{equation}\n",
    "    y_j =\n",
    "    \\begin{cases}\n",
    "      R_j & \\text{if episode terminates at step  } j+1\\\\\n",
    "      R_j + \\gamma \\max_{a'}\\hat{Q}(s_{j+1},a') & \\text{otherwise}\\\\\n",
    "    \\end{cases}       \n",
    "\\end{equation}\n",
    "$$\n",
    "\n",
    "Here are a couple of things to note:\n",
    "\n",
    "* The `compute_loss` function takes in a mini-batch of experience tuples. This mini-batch of experience tuples is unpacked to extract the `states`, `actions`, `rewards`, `next_states`, and `done_vals`. You should keep in mind that these variables are *TensorFlow Tensors* whose size will depend on the mini-batch size. For example, if the mini-batch size is `64` then both `rewards` and `done_vals` will be TensorFlow Tensors with `64` elements.\n",
    "\n",
    "\n",
    "* Using `if/else` statements to set the $y$ targets will not work when the variables are tensors with many elements. However, notice that you can use the `done_vals` to implement the above in a single line of code. To do this, recall that the `done` variable is a Boolean variable that takes the value `True` when an episode terminates at step $j+1$ and it is `False` otherwise. Taking into account that a Boolean value of `True` has the numerical value of `1` and a Boolean value of `False` has the numerical value of `0`, you can use the factor `(1 - done_vals)` to implement the above in a single line of code. Here's a hint: notice that `(1 - done_vals)` has a value of `0` when `done_vals` is `True` and a value of `1` when `done_vals` is `False`.\n",
    "\n",
    "Lastly, compute the loss by calculating the Mean-Squared Error (`MSE`) between the `y_targets` and the `q_values`. To calculate the mean-squared error you should use the already imported package `MSE`:\n",
    "```python\n",
    "from tensorflow.keras.losses import MSE\n",
    "```"
   ]
  },
  {
   "cell_type": "code",
   "execution_count": 13,
   "metadata": {
    "deletable": false,
    "editable": true,
    "id": "QCMCeRj0mKgM",
    "tags": []
   },
   "outputs": [],
   "source": [
    "# UNQ_C2\n",
    "# GRADED FUNCTION: calculate_loss\n",
    "\n",
    "def compute_loss(experiences, gamma, q_network, target_q_network):\n",
    "    \"\"\"\n",
    "    Calculates the loss.\n",
    "\n",
    "    Args:\n",
    "      experiences: (tuple) tuple of [\"state\", \"action\", \"reward\", \"next_state\", \"done\"] namedtuples\n",
    "      gamma: (float) The discount factor.\n",
    "      q_network: (tf.keras.Sequential) Keras model for predicting the q_values\n",
    "      target_q_network: (tf.keras.Sequential) Keras model for predicting the targets\n",
    "\n",
    "    Returns:\n",
    "      loss: (TensorFlow Tensor(shape=(0,), dtype=int32)) the Mean-Squared Error between\n",
    "            the y targets and the Q(s,a) values.\n",
    "    \"\"\"\n",
    "\n",
    "    # Unpack the mini-batch of experience tuples\n",
    "    states, actions, rewards, next_states, done_vals = experiences\n",
    "\n",
    "    # Compute max Q^(s,a)\n",
    "    max_qsa = tf.reduce_max(target_q_network(next_states), axis=-1)\n",
    "\n",
    "    # Set y = R if episode terminates, otherwise set y = R + γ max Q^(s,a).\n",
    "    ### START CODE HERE ###\n",
    "    y_targets = rewards + (1 - done_vals) * gamma * max_qsa\n",
    "    ### END CODE HERE ###\n",
    "\n",
    "    # Get the q_values and reshape to match y_targets\n",
    "    q_values = q_network(states)\n",
    "    q_values = tf.gather_nd(q_values, tf.stack([tf.range(q_values.shape[0]),\n",
    "                                                tf.cast(actions, tf.int32)], axis=1))\n",
    "\n",
    "    # Compute the loss\n",
    "    ### START CODE HERE ###\n",
    "    loss = MSE(y_targets, q_values)\n",
    "    ### END CODE HERE ###\n",
    "\n",
    "    return loss"
   ]
  },
  {
   "cell_type": "code",
   "execution_count": null,
   "metadata": {
    "deletable": false,
    "editable": true,
    "id": "zwNc_iu2mKgN",
    "outputId": "ccd0d62a-2310-4073-d019-09489d8690e4",
    "tags": []
   },
   "outputs": [
    {
     "name": "stdout",
     "output_type": "stream",
     "text": [
      "\u001b[92mAll tests passed!\n"
     ]
    }
   ],
   "source": [
    "# UNIT TEST\n",
    "# test_compute_loss(compute_loss)"
   ]
  },
  {
   "cell_type": "markdown",
   "metadata": {
    "id": "lw1SRRqrmKgN"
   },
   "source": [
    "<details>\n",
    "  <summary><font size=\"3\" color=\"darkgreen\"><b>Click for hints</b></font></summary>\n",
    "    \n",
    "```python\n",
    "def compute_loss(experiences, gamma, q_network, target_q_network):\n",
    "    \"\"\"\n",
    "    Calculates the loss.\n",
    "    \n",
    "    Args:\n",
    "      experiences: (tuple) tuple of [\"state\", \"action\", \"reward\", \"next_state\", \"done\"] namedtuples\n",
    "      gamma: (float) The discount factor.\n",
    "      q_network: (tf.keras.Sequential) Keras model for predicting the q_values\n",
    "      target_q_network: (tf.keras.Sequential) Keras model for predicting the targets\n",
    "          \n",
    "    Returns:\n",
    "      loss: (TensorFlow Tensor(shape=(0,), dtype=int32)) the Mean-Squared Error between\n",
    "            the y targets and the Q(s,a) values.\n",
    "    \"\"\"\n",
    "\n",
    "    \n",
    "    # Unpack the mini-batch of experience tuples\n",
    "    states, actions, rewards, next_states, done_vals = experiences\n",
    "    \n",
    "    # Compute max Q^(s,a)\n",
    "    max_qsa = tf.reduce_max(target_q_network(next_states), axis=-1)\n",
    "    \n",
    "    # Set y = R if episode terminates, otherwise set y = R + γ max Q^(s,a).\n",
    "    y_targets = rewards + (gamma * max_qsa * (1 - done_vals))\n",
    "    \n",
    "    # Get the q_values\n",
    "    q_values = q_network(states)\n",
    "    q_values = tf.gather_nd(q_values, tf.stack([tf.range(q_values.shape[0]),\n",
    "                                                tf.cast(actions, tf.int32)], axis=1))\n",
    "    \n",
    "    # Calculate the loss\n",
    "    loss = MSE(y_targets, q_values)\n",
    "    \n",
    "    return loss\n",
    "\n",
    "```\n",
    "    "
   ]
  },
  {
   "cell_type": "markdown",
   "metadata": {
    "id": "QdeqqrH9mKgN"
   },
   "source": [
    "<a name=\"8\"></a>\n",
    "## 8 - Update the Network Weights\n",
    "\n",
    "We will use the `agent_learn` function below to implement lines ***12 -14*** of the algorithm outlined in [Fig 3](#7). The `agent_learn` function will update the weights of the $Q$ and target $\\hat Q$ networks using a custom training loop. Because we are using a custom training loop we need to retrieve the gradients via a `tf.GradientTape` instance, and then call `optimizer.apply_gradients()` to update the weights of our $Q$-Network. Note that we are also using the `@tf.function` decorator to increase performance. Without this decorator our training will take twice as long. If you would like to know more about how to increase performance with `@tf.function` take a look at the [TensorFlow documentation](https://www.tensorflow.org/guide/function).\n",
    "\n",
    "The last line of this function updates the weights of the target $\\hat Q$-Network using a [soft update](#6.1). If you want to know how this is implemented in code we encourage you to take a look at the `utils.update_target_network` function in the `utils` module."
   ]
  },
  {
   "cell_type": "code",
   "execution_count": 14,
   "metadata": {
    "deletable": false,
    "editable": true,
    "id": "W3kLNjU4mKgN",
    "tags": []
   },
   "outputs": [],
   "source": [
    "@tf.function\n",
    "def agent_learn(experiences, gamma, tau):\n",
    "    \"\"\"\n",
    "    Updates the weights of the Q networks.\n",
    "\n",
    "    Args:\n",
    "      experiences: (tuple) tuple of [\"state\", \"action\", \"reward\", \"next_state\", \"done\"] namedtuples\n",
    "      gamma: (float) The discount factor.\n",
    "\n",
    "    \"\"\"\n",
    "\n",
    "    # Calculate the loss\n",
    "    with tf.GradientTape() as tape:\n",
    "        loss = compute_loss(experiences, gamma, q_network, target_q_network)\n",
    "\n",
    "    # Get the gradients of the loss with respect to the weights.\n",
    "    gradients = tape.gradient(loss, q_network.trainable_variables)\n",
    "\n",
    "    # Update the weights of the q_network.\n",
    "    optimizer.apply_gradients(zip(gradients, q_network.trainable_variables))\n",
    "\n",
    "    # update the weights of target q_network\n",
    "    utils.update_target_network(q_network, target_q_network, tau=tau)"
   ]
  },
  {
   "cell_type": "markdown",
   "metadata": {
    "editable": true,
    "id": "K4WnVxsKmKgN",
    "tags": []
   },
   "source": [
    "<a name=\"9\"></a>\n",
    "## 9 - Train the Agent\n",
    "\n",
    "We are now ready to train our agent to solve the Lunar Lander environment. In the cell below we will implement the algorithm in [Fig 3](#7) line by line (please note that we have included the same algorithm below for easy reference. This will prevent you from scrolling up and down the notebook):\n",
    "\n",
    "* **Line 1**: We initialize the `memory_buffer` with a capacity of $N =$ `MEMORY_SIZE`. Notice that we are using a `deque` as the data structure for our `memory_buffer`.\n",
    "\n",
    "\n",
    "* **Line 2**: We skip this line since we already initialized the `q_network` in [Exercise 1](#ex01).\n",
    "\n",
    "\n",
    "* **Line 3**: We initialize the `target_q_network` by setting its weights to be equal to those of the `q_network`.\n",
    "\n",
    "\n",
    "* **Line 4**: We start the outer loop. Notice that we have set $M =$ `num_episodes = 2000`. This number is reasonable because the agent should be able to solve the Lunar Lander environment in less than `2000` episodes using this notebook's default parameters.\n",
    "\n",
    "\n",
    "* **Line 5**: We use the `.reset()` method to reset the environment to the initial state and get the initial state.\n",
    "\n",
    "\n",
    "* **Line 6**: We start the inner loop. Notice that we have set $T =$ `max_num_timesteps = 1000`. This means that the episode will automatically terminate if the episode hasn't terminated after `1000` time steps.\n",
    "\n",
    "\n",
    "* **Line 7**: The agent observes the current `state` and chooses an `action` using an $\\epsilon$-greedy policy. Our agent starts out using a value of $\\epsilon =$ `epsilon = 1` which yields an $\\epsilon$-greedy policy that is equivalent to the equiprobable random policy. This means that at the beginning of our training, the agent is just going to take random actions regardless of the observed `state`. As training progresses we will decrease the value of $\\epsilon$ slowly towards a minimum value using a given $\\epsilon$-decay rate. We want this minimum value to be close to zero because a value of $\\epsilon = 0$ will yield an $\\epsilon$-greedy policy that is equivalent to the greedy policy. This means that towards the end of training, the agent will lean towards selecting the `action` that it believes (based on its past experiences) will maximize $Q(s,a)$. We will set the minimum $\\epsilon$ value to be `0.01` and not exactly 0 because we always want to keep a little bit of exploration during training. If you want to know how this is implemented in code we encourage you to take a look at the `utils.get_action` function in the `utils` module.\n",
    "\n",
    "\n",
    "* **Line 8**: We use the `.step()` method to take the given `action` in the environment and get the `reward` and the `next_state`.\n",
    "\n",
    "\n",
    "* **Line 9**: We store the `experience(state, action, reward, next_state, done)` tuple in our `memory_buffer`. Notice that we also store the `done` variable so that we can keep track of when an episode terminates. This allowed us to set the $y$ targets in [Exercise 2](#ex02).\n",
    "\n",
    "\n",
    "* **Line 10**: We check if the conditions are met to perform a learning update. We do this by using our custom `utils.check_update_conditions` function. This function checks if $C =$ `NUM_STEPS_FOR_UPDATE = 4` time steps have occured and if our `memory_buffer` has enough experience tuples to fill a mini-batch. For example, if the mini-batch size is `64`, then our `memory_buffer` should have more than `64` experience tuples in order to pass the latter condition. If the conditions are met, then the `utils.check_update_conditions` function will return a value of `True`, otherwise it will return a value of `False`.\n",
    "\n",
    "\n",
    "* **Lines 11 - 14**: If the `update` variable is `True` then we perform a learning update. The learning update consists of sampling a random mini-batch of experience tuples from our `memory_buffer`, setting the $y$ targets, performing gradient descent, and updating the weights of the networks. We will use the `agent_learn` function we defined in [Section 8](#8) to perform the latter 3.\n",
    "\n",
    "\n",
    "* **Line 15**: At the end of each iteration of the inner loop we set `next_state` as our new `state` so that the loop can start again from this new state. In addition, we check if the episode has reached a terminal state (i.e we check if `done = True`). If a terminal state has been reached, then we break out of the inner loop.\n",
    "\n",
    "\n",
    "* **Line 16**: At the end of each iteration of the outer loop we update the value of $\\epsilon$, and check if the environment has been solved. We consider that the environment has been solved if the agent receives an average of `200` points in the last `100` episodes. If the environment has not been solved we continue the outer loop and start a new episode.\n",
    "\n",
    "Finally, we wanted to note that we have included some extra variables to keep track of the total number of points the agent received in each episode. This will help us determine if the agent has solved the environment and it will also allow us to see how our agent performed during training. We also use the `time` module to measure how long the training takes.\n",
    "\n",
    "<br>\n",
    "<br>\n",
    "<figure>\n",
    "  <img src = \"images/deep_q_algorithm.png\" width = 90% style = \"border: thin silver solid; padding: 0px\">\n",
    "      <figcaption style = \"text-align: center; font-style: italic\">Fig 4. Deep Q-Learning with Experience Replay.</figcaption>\n",
    "</figure>\n",
    "<br>\n",
    "\n",
    "**Note:** With this notebook's default parameters, the following cell takes between 10 to 15 minutes to run."
   ]
  },
  {
   "cell_type": "code",
   "execution_count": 15,
   "metadata": {
    "colab": {
     "base_uri": "https://localhost:8080/"
    },
    "deletable": false,
    "editable": true,
    "id": "VfEmVk9lmKgN",
    "outputId": "b53463c8-cd86-49cc-c38f-9591c0df18bb",
    "tags": []
   },
   "outputs": [
    {
     "name": "stdout",
     "output_type": "stream",
     "text": [
      "Episode 100 | epsilon=0.606 Total point average of the last 100 episodes: -139.22\n",
      "Episode 200 | epsilon=0.367 Total point average of the last 100 episodes: -119.71\n",
      "Episode 300 | epsilon=0.222 Total point average of the last 100 episodes: -55.670\n",
      "Episode 400 | epsilon=0.135 Total point average of the last 100 episodes: 18.935\n",
      "Episode 500 | epsilon=0.082 Total point average of the last 100 episodes: 157.19\n",
      "Episode 600 | epsilon=0.049 Total point average of the last 100 episodes: 196.90\n",
      "Episode 615 | epsilon=0.046 Total point average of the last 100 episodes: 200.25\n",
      "\n",
      "Environment solved in 615 episodes!\n",
      "\n",
      "Total Runtime: 517.15 s (8.62 min)\n"
     ]
    }
   ],
   "source": [
    "start = time.time()\n",
    "\n",
    "num_episodes = 2000\n",
    "max_num_timesteps = 1000\n",
    "\n",
    "total_point_history = []\n",
    "\n",
    "num_p_av = 100    # number of total points to use for averaging\n",
    "epsilon = 1.0     # initial ε value for ε-greedy policy\n",
    "\n",
    "# Create a memory buffer D with capacity N\n",
    "memory_buffer = deque(maxlen=MEMORY_SIZE)\n",
    "\n",
    "# Set the target network weights equal to the Q-Network weights\n",
    "target_q_network.set_weights(q_network.get_weights())\n",
    "\n",
    "for i in range(num_episodes):\n",
    "\n",
    "    # Reset the environment to the initial state and get the initial state\n",
    "    state, info = env.reset()\n",
    "    total_points = 0\n",
    "\n",
    "    for t in range(max_num_timesteps):\n",
    "\n",
    "        # From the current state S choose an action A using an ε-greedy policy\n",
    "        state_qn = np.expand_dims(state, axis=0)  # state needs to be the right shape for the q_network\n",
    "        q_values = q_network(state_qn)\n",
    "        action = utils.get_action(q_values, epsilon)\n",
    "\n",
    "        # Take action A and receive reward R and the next state S'\n",
    "        next_state, reward, done, truncated, info = env.step(action)\n",
    "\n",
    "        # Store experience tuple (S,A,R,S') in the memory buffer.\n",
    "        # We store the done variable as well for convenience.\n",
    "        memory_buffer.append(experience(state, action, reward, next_state, done))\n",
    "\n",
    "        # Only update the network every NUM_STEPS_FOR_UPDATE time steps.\n",
    "        update = utils.check_update_conditions(t, NUM_STEPS_FOR_UPDATE, memory_buffer)\n",
    "\n",
    "        if update:\n",
    "            # Sample random mini-batch of experience tuples (S,A,R,S') from D\n",
    "            experiences = utils.get_experiences(memory_buffer)\n",
    "\n",
    "            # Set the y targets, perform a gradient descent step,\n",
    "            # and update the network weights.\n",
    "            agent_learn(experiences, GAMMA, 1e-3)\n",
    "\n",
    "        state = next_state.copy()\n",
    "        total_points += reward\n",
    "\n",
    "        if done:\n",
    "            break\n",
    "\n",
    "    total_point_history.append(total_points)\n",
    "    av_latest_points = np.mean(total_point_history[-num_p_av:])\n",
    "\n",
    "    # Update the ε value\n",
    "    epsilon = utils.get_new_eps(epsilon, 0.995)\n",
    "\n",
    "    print(f\"\\rEpisode {i+1} | epsilon={epsilon:.3f} Total point average of the last {num_p_av} episodes: {av_latest_points:.2f}\", end=\"\")\n",
    "\n",
    "    if (i+1) % num_p_av == 0:\n",
    "       print(f\"\\rEpisode {i+1} | epsilon={epsilon:.3f} Total point average of the last {num_p_av} episodes: {av_latest_points:.2f}\")\n",
    "\n",
    "    # We will consider that the environment is solved if we get an\n",
    "    # average of 200 points in the last 100 episodes.\n",
    "    if av_latest_points >= 200.0:\n",
    "        print(f\"\\n\\nEnvironment solved in {i+1} episodes!\")\n",
    "        q_network.save('lunar_lander_model.keras')\n",
    "        q_network.save_weights('lunar_lander_model.weights.h5')\n",
    "        break\n",
    "\n",
    "tot_time = time.time() - start\n",
    "\n",
    "print(f\"\\nTotal Runtime: {tot_time:.2f} s ({(tot_time/60):.2f} min)\")"
   ]
  },
  {
   "cell_type": "markdown",
   "metadata": {
    "editable": true,
    "id": "bvRz6GxBmKgO",
    "tags": []
   },
   "source": [
    "We can plot the total point history along with the moving average to see how our agent improved during training. If you want to know about the different plotting options available in the `utils.plot_history` function we encourage you to take a look at the `utils` module."
   ]
  },
  {
   "cell_type": "code",
   "execution_count": 16,
   "metadata": {
    "colab": {
     "base_uri": "https://localhost:8080/",
     "height": 647
    },
    "deletable": false,
    "editable": true,
    "id": "E_EUXxurfe8m",
    "outputId": "18d590ef-5bdf-4d5f-cedf-de8f80e5394e"
   },
   "outputs": [
    {
     "data": {
      "image/png": "[encoded data removed]",
      "text/plain": [
       "<Figure size 1000x700 with 1 Axes>"
      ]
     },
     "metadata": {},
     "output_type": "display_data"
    }
   ],
   "source": [
    "# Plot the total point history along with the moving average\n",
    "utils.plot_history(total_point_history)"
   ]
  },
  {
   "cell_type": "markdown",
   "metadata": {
    "id": "c_xwgaX5MnYt"
   },
   "source": [
    "<a name=\"10\"></a>\n",
    "## 10 - See the Trained Agent In Action\n",
    "\n",
    "Now that we have trained our agent, we can see it in action. We will use the `utils.create_video` function to create a video of our agent interacting with the environment using the trained $Q$-Network. The `utils.create_video` function uses the `imageio` library to create the video. This library produces some warnings that can be distracting, so, to suppress these warnings we run the code below."
   ]
  },
  {
   "cell_type": "code",
   "execution_count": 17,
   "metadata": {
    "deletable": false,
    "editable": true,
    "id": "HPiXcT2KmKgY"
   },
   "outputs": [],
   "source": [
    "# Suppress warnings from imageio\n",
    "import logging\n",
    "logging.getLogger().setLevel(logging.ERROR)"
   ]
  },
  {
   "cell_type": "markdown",
   "metadata": {
    "id": "LGRJML_wmKgY"
   },
   "source": [
    "In the cell below we create a video of our agent interacting with the Lunar Lander environment using the trained `q_network`. The video is saved to the `videos` folder with the given `filename`. We use the `utils.embed_mp4` function to embed the video in the Jupyter Notebook so that we can see it here directly without having to download it.\n",
    "\n",
    "We should note that since the lunar lander starts with a random initial force applied to its center of mass, every time you run the cell below you will see a different video. If the agent was trained properly, it should be able to land the lunar lander in the landing pad every time, regardless of the initial force applied to its center of mass."
   ]
  },
  {
   "cell_type": "code",
   "execution_count": null,
   "metadata": {},
   "outputs": [],
   "source": [
    "q_network.load_weights('lunar_lander_model.weights.h5')"
   ]
  },
  {
   "cell_type": "code",
   "execution_count": 18,
   "metadata": {
    "colab": {
     "base_uri": "https://localhost:8080/",
     "height": 840
    },
    "deletable": false,
    "editable": true,
    "id": "3Ttb_zLeJKiG",
    "outputId": "82a5c3d2-8a20-449b-f24f-11c0e8f72560",
    "tags": []
   },
   "outputs": [
    {
     "data": {
      "text/html": [
       "\n",
       "    <video width=\"840\" height=\"480\" controls>\n",
       "    <source src=\"data:video/mp4;base64,AAAAIGZ0eXBpc29tAAACAGlzb21pc28yYXZjMW1wNDEAAAAIZnJlZQAA5PFtZGF0AAACrwYF//+r3EXpvebZSLeWLNgg2SPu73gyNjQgLSBjb3JlIDE2NCByMzE5MCA3ZWQ3NTNiIC0gSC4yNjQvTVBFRy00IEFWQyBjb2RlYyAtIENvcHlsZWZ0IDIwMDMtMjAyNCAtIGh0dHA6Ly93d3cudmlkZW9sYW4ub3JnL3gyNjQuaHRtbCAtIG9wdGlvbnM6IGNhYmFjPTEgcmVmPTMgZGVibG9jaz0xOjA6MCBhbmFseXNlPTB4MzoweDExMyBtZT1oZXggc3VibWU9NyBwc3k9MSBwc3lfcmQ9MS4wMDowLjAwIG1peGVkX3JlZj0xIG1lX3JhbmdlPTE2IGNocm9tYV9tZT0xIHRyZWxsaXM9MSA4eDhkY3Q9MSBjcW09MCBkZWFkem9uZT0yMSwxMSBmYXN0X3Bza2lwPTEgY2hyb21hX3FwX29mZnNldD0tMiB0aHJlYWRzPTEyIGxvb2thaGVhZF90aHJlYWRzPTIgc2xpY2VkX3RocmVhZHM9MCBucj0wIGRlY2ltYXRlPTEgaW50ZXJsYWNlZD0wIGJsdXJheV9jb21wYXQ9MCBjb25zdHJhaW5lZF9pbnRyYT0wIGJmcmFtZXM9MyBiX3B5cmFtaWQ9MiBiX2FkYXB0PTEgYl9iaWFzPTAgZGlyZWN0PTEgd2VpZ2h0Yj0xIG9wZW5fZ29wPTAgd2VpZ2h0cD0yIGtleWludD0yNTAga2V5aW50X21pbj0yNSBzY2VuZWN1dD00MCBpbnRyYV9yZWZyZXNoPTAgcmNfbG9va2FoZWFkPTQwIHJjPWNyZiBtYnRyZWU9MSBjcmY9MjMuMCBxY29tcD0wLjYwIHFwbWluPTAgcXBtYXg9NjkgcXBzdGVwPTQgaXBfcmF0aW89MS40MCBhcT0xOjEuMDAAgAAABmdliIQAN//+9vD+BTZWBFCXEc3onTMfvxW4ujQ3veLkQPhPWq6DFjBiGtpfmGa6630ug4ltMZCBW7BiA3zsSwjgzPjsrJlT3tFaxL+nULQWr3IHHt7yK7hSX+Ia9L8KW617K0lVXojBQAvpoP+UtBSHONRhZKu1wRniBB9b1/SuY4RXQ2D8lIggD8bRSKN8ekvSRriRxD0OERo33g7wpL4v6TTHCJVfMvxPM2RkvUcnbYPcBeR2TWNdtDzDqIsJW/djWdkK2lT5rbi1n6rqsAA6mHe4wHaQ9zVF+I7b0Cd3384tz6EwCzZv4sdOAAADAABW9nc05bkkxm7Z/1qJtOdCQAAL8EBpggHaGFGOHMI4PYbw5RukOLoC8bZqXOp88AmevQQzXDLPzCUoZLIYsz8fvWxVxol6NC0b8CrU+gSymXx3mWQgtJkvJ1PjrQJAHBNpu/QEAvVzzN760gUzq8bmeDExCwNO+wNfk40spceG82hcGuOQjxt580Iu6YykLOOsmiI+ajJJPZ3iFwXT645YeAfLPXcrwVz+skSZGaaFOmA7BpMzxBEYnhUV+Cegp8ybIFndT42ynhNzH1RkI+zpk6Cfj2AsJWZPFqbPgnE2QGTjOY+Pw8oysKrH6KJ5Nlan5CSDLY1ii4Rqoa5bJ4XpsPuyuBI5U4hoO3NofWjnHYTfWECAZblOBeYJCxnUsSspQbrVxtOdymMSQJ+a4ZJ4/XoWfuXQRWfF/I1UZ2pTlZxfjWro5q1LiR9ZkCXEQvmWK8qe2mjfLDF6m3aQ99jF0mKc1KATpykotznMv/l9QvEqON7/kkIhv/St4R4trl06TZqgMMJYpPkWtSKxPmXTMeUgmNyohCDn1pEG0tjJyrrLmKyEk4sL1UomQKrAlNxEwTkpLzc4djF9H5W+7pMTQErvTL9ukwASdg09pJH6TVVlxkcutedokNndG6y8jj9nDWr+7y1urpPNbAJRUN0PR0NFEzSN3QXrjj1k9TC+MO7/0jTj/HkpwhqudreN2T8OqENoXyORMktgm67PFLxv67jtR2JOJ3eEXEs8VaBIbzBeOSwGabtbpPxPw2BLgEPOZtK9YRFsAVkLWohP16/BrxtO0RailcwW2SCE2q+GN8bwzb8+/fX8dxNBESxcwLPuDLydLru4rC+I4MOgStUyDZ9pJ5flK5bPsJwTl7gjixGoUnNungOrgS3zIAmgA6U8LQKnYkRD/hcPZNtJYYqV83oFp7QTDdyxpnO+lCr+ySIrr/JqAp7Yspj5/7vq6GUOLGlR7IfdNt6cO1WxQKAD3X0hCOTf/beVRQg7u0rZxOt+aMIk/x8MCDXYV70t+zt44eyq4Q5oPTUQdEFtQdXQLJdZjL0jRjk2cQdDkwvFNoZyfZ+fbpDsOVq9GFrNNlxWbYEPsdxQd81btpMX2zKXiXtkgZ0UvaDgKL0cb3JT/y/EhUg0ej9IAjtebfKNlLeB97ClKoCjI891fLOt6gDmwSluhsnR2AiGXLzIy2HKSTC6C40j2uuBD3r0p1EdhNUs4+030S0HLnaX1FKRGFygA3C3/kXQxNNH0IkNG+7/T+aAIWp+1geDgNR7Z/HHnTr7FPm+Bu6AHsdCG/QaPpXlxBjgvOjUr8pPfhumKKEXFDGI7zm5TzMQSGak9A55JoesjVkj6izmAJEFICDaKN8KS0UQsIyemadgVPAj746BmZ9EyPz3kSFVUJw20pNzUiImHZZB/qxCFfkeLao0RzfNQ29wPlYkGrdHIysPHgbuUhpy3dOvjViWYZdVONh9Do/KK9+BK0Y36c3dSqvdRFMudnMxBL/H1DOydIv64SFzLj7jIQPv/scJPUjfbCD9tFKHq9oKUMocWhI1RRMjGJbK9utHTnsLu8Lx9YLqN5b9rwPW/wiSgoHSgZhY1ijmgboa0yo5w8hyz/mfadQweI9el/Zz8MGvAVeqsgVPX022p7iWX+KVerlfpv0CuMGGpPeS/rXSINovSOBKhoYziJwmIE2qvIZy6ZeXvkc7BHKta2pDxWT+VylpXtxyuI2z3+PwIRwl0OFJepzQALo36yxEaFpZFVPy2S3T4ngVbNxSqNofyh6nvhcX3668CmctxT3BMzK1LG9KX46lnHLXOsekfrKGUvAi0zUL6Z9hNkn+HiXFO4aZQBfGsCbQKMCpAAADAAADAAqZAAABN0GaJGxDf/6njxxac8b8n5AC04o8bHuPOFWcMighai6YAGBLN96p1mSN4UCq1LmSGfu8fTd/mjBofb+APYnpE7+2NYKvEIM4u11o8r7fj3I/UnaXMY3Sl+LGzGp9SeOJb/5vfgaS+qhm3S/mfAAACtp33a1KpBoB6skL7xeFvqvwSpF1MwBwUW+Rrc4NRYoBa6B/cYJnqoTHSGuq2sZU0oLZrrUb+QJFTXssBdBZCM5CxEmR+vuRCLAbPtyjfY6xgT7HmQ0ZmRE/nfxXySwhqSCg0Ed9ty2fy4y+75vGZ7fkfZQZ7rjRjqunqMobyBNVWuVhc6YgxOO5V5mNkrknrI4/JEtGHv9LpWe39279yUc+ICMhVjGT9n0z01y0vMbA8kcQR7F0JsSTa4YA5d0sLFrdtJBgGymAAAAAVEGeQniFfwv0sSCVU4O7nUAHCwHVMD+yYL+h4Bd/gTtyi2i3r0UhqYCdga79LG3SqNOAAWs/TWjbdsttYCf5pfpHrP7z9LCb7MHOuxMPo2tNvoBHwQAAAD0BnmF0Qn8NtcN8b2FSucmVfJb8zxmoNvUOHR3IrMQIAGmmCeKQJC2eJ+0sUNkqOTuDmoiANyUMxmevQHdAAAAAPwGeY2pCfw3LxRPcx7leVHwk6t/oHzfVsV3GUa7IAC2mgq7AAkwWGa9cUK3mn0QYeEHS6cpJKJGh8tGc5jAUEQAAAJNBmmhJqEFomUwIb//+p47E7BFfeNhJTACzMlagF71TKIkFcLwz4om+uGD0r/XoHD16r3LULQvMihKAcxhXKi/rm0r61MQIUwDNMVBzT5yhIgfhQ44UYC2PAvcUc2CVW2E4YTsNAAADAXvvfdrUqkGBJ92Vd/WTRQRwoZqJG1A3VtvJTG+yPryy6NyRnJjZq+6L8SkAAABEQZ6GRREsK/8LtuCAf4aQAFoEzCtpQ3X8dQnDipi6eTiFstbrAfR4gFMXYAEhBWFfWi37WVdblvakoM+2JxBqvvAAJmEAAAAsAZ6ldEJ/DfmVXGSYtfQAlk//TAAR4AmyIEoNzHmpqb72FH9sZLoUsXVwJuEAAABFAZ6nakJ/DcvDk1y2ukXqAApqTX+zL63iPSPeUPXoh/tiRrX/pdH2bsI+OPFcDAAJ8Yu81cRHp1vynLysNSOCAaW+igEnAAAAn0GarEmoQWyZTAhv//6nlntlTwM+zGyeJgbvKSMV/7PAdRBZMSyoRtb1W9ol8maJqv7VoqVZtf0cOljZusPXCBZ/VNC0IVltk1GrvUIQAAADAPbPrLG7WpVLYdWyasPRFqvQgnqgFjFCB9gO9/m6THY1IthQhu+CpfiDUrWl81+SVKpHtasukaGj/cp4nXPWCkxfjANrmpX8ooBxyM0W6gAAADxBnspFFSwr/w11WJYq6XFk+G6WcIeHrNwOAAVV+OnrLv/vVOAdTb0UlxaGxMygYtZhYqsG1AtMzA1uAakAAAAfAZ7pdEJ/DdfDolBbcJ6UOQCDkvYACw/R0Ry6uhCCbgAAADYBnutqQn8N3Ud8UGtjngBazo1OPWLPrgvYACxRBvDi1FXQKHTV0GmUmgjWhB56GEnWLhKCE3AAAACdQZrwSahBbJlMCG///qeUS6btcIAj48FomwDECanvL+g6PE51OGesKjByGNIfEqBhXKYNzpqZ+mbMiN8TVD048MBijVjbt4vvdNWgyjyjGzyw/XXv8/S5kDhJHUqvTH7UtH7O4AAAAwAA2297tqmWUjZ1ZTsDG7pILmWE64CA+hnnRPsDxfOV4NFCyKMASdO4/Hky7Zmz91FUElUZPQAAAGBBnw5FFSwr/w1x9U0wBzCkFQxb6MJ5wv98kHxm1z/5ydONGu/WGm//lDsxc9eEW3xyvW2xCvcHcmDg0BwABFJ2oETm2ioeMtOlAKsGd2l2gt1S2QApiqyHY8XAv5gzgS8AAAA2AZ8tdEJ/D5sVscJO3tGPGYxh1Klz+enEALOfgZosp2cgAIxr6mWNQdH+lJ81mJnmwiq64AtJAAAAPQGfL2pCfw99RlEDZH+yfDlPQAXEyVSpmThtNci0QnYDAAZx62i6Nc4aQzulcxyNzxCAPtZeNbAAB1i4KCAAAADhQZs0SahBbJlMCG///qeWGqbBkqm9wlwAeGPKECRJmRfzg5YNvi7Gg02yoM+HCYi02ULT8BPd7ptVXA11nCPFfdEZxwQYVbwGNUwUlsWBpbUiZl/D6xC93XwqoAr4g35vq886DESwbXW1PNNk10AYZZr7AzvBwTcP7k2+odZzEAAAAwA+aHNBPMym7bUqo9+WzVYysetuuey4nXQgo8ITswd9Z7kP2KEga7UYz/rcwQDvhWN7UKF8XJfpPwGbEXLt0RCC+GiHy2RNO2EcEz06xlIDbeEYkHLFG5ng/Jx7QymEAAAAREGfUkUVLCv/DVK78uqNQimAFqf5UfLlyzN2PspBneNYNhkRsMjv1gU6UdACqWOOXyyBjPQSVFyP/MulE4A3g46eKAvZAAAAJQGfcXRCfw9eGd3eBl4J39IWgAoO7wQsMNmNFVyMuCgQnvAAZUAAAAAsAZ9zakJ/D31ieF17azPVEh9dcAC4A21JNxAQHnCvkt1m3gyD3ZGtcP6ABSQAAADxQZt4SahBbJlMCG///qeUEEwuDqGfiYcQJnQAIXKIEMyj3IkSlkTCtxy10Z4jb8LsLmbtTz38dSTi/e5ysjdk2u3zmCKWWmRgjzes20fkD1nUuQ95e+x7R2+NwXOEqVhOfxEgsIQVeZVhEteMNEjGlwNM73rmPmvORDAAAAMAqWbfgoadzoIcLKlR+/ubFFFYny2eMi/2Koggb73bVMt5Gq73TveR5ZPBWiNJDf9Db/nr/G5ho2NPSZ20m0/Snd7f4LwZXJ7FXoc/s1pv5Cv2Vf6mscNiMRQI3kID59/wUOVGb4H94JCpTPkG2DJjVo/VHwAAAFxBn5ZFFSwr/wxjAIpRjsQP6GbBaAFtvSCB209K7UZ9YdOTr9Vrt6rBgQkgeLrEEYKD7fp20SpEhFSV46tl75IPjV1cWp/XxXppgAS16ThOK5DFI39Y1f973KABSQAAADABn7V0Qn8Pa9JWsp9FJQNnUxXNWKMPf9RJIK9biAC/WDnAK+Pr9X/8H6OHH1BAekEAAABEAZ+3akJ/DnWTKw1x7OCgwACb0QyD3DNs7nC43jGEsivP1ijFKyHw4/p2PM5F60WADD9R25Cy4dy4HxUkaxBd+jNgB3UAAADtQZu8SahBbJlMCGf//p49AC7LhpjFWAFvHza3LGJG7NZV/8S3S5K035u3PR9b0rJBCbgl6X7uBqHncAPYb/f06qnlMXAE5dWcKcSQX+ikWBsXLlIDf7r+r9ADMGtrHxaZYJa9/pJ5NphXrGLuzq3icZfX9uZSE2KsePKue+HYAAADAAFT2WjmzUsYWz7VxOTEI96MAhUBMcuh8up8lNgz93Tmk+TWhTfC533EJMe7OWW39dHjOeHj2hSuE1D6n2JpgO+7WpVZhuz3x35uX4WCKXt3u12NscmGVQZDpB5hWXkpIrPTB12b4wU0srByAAAAT0Gf2kUVLCv/DUF7qALEwAmE27vhYKDSi6l9lWlVbDTRAs6UF0nU/mh10qxdpkf1zu+wooD9BuUJfD+RC7AABCFBHBGkZWABwUP+dmj0BU0AAAA5AZ/5dEJ/Dn1ZASDSg/CXSGy2+ybRJriPQAfiiiskmO6QVk324yTQBnFwAX6dSYcW+H+DQS6QAGVAAAAANwGf+2pCfw99YIJQKHPCVxS3M1osGYADSqTr4SNe2uO9AtYRUAAmAoNmmExaZe6Y/lUyohsAVsEAAADGQZv9SahBbJlMCG///qeU3wTNuqkAJU9vvUa4UVMG6sSZCmjc1N1U8qaLh2eI3+kZEORZINB472/TikiKw0EQjSw4RjaIOm723KI7jiR5wJtWN8Pb44GD3Pm0vk+i7D6k4yEtZSXRkHyeEXGQ9BIo+z1xkE0clyZOi8ARpbyqJxAAZuZqqY2dNzb2s6Zw8pZDmFYET0XD4z9H2XfOXd6uM9j4CQnU99+HoCaDf+sBSrrH0g8hH6txH86PxFnfQQEUmEfGAyHJAAABQEGaAUnhClJlMCG//qeUEfBsGx7PzNUgS4AcIRDTyKM/JgJl2mD/kDLHQYYZgBcdw/xiiYApPOYjE+8uG60vASQ3BZmHwj7v34uy6VqqhCU46hsK6dhE2NADmU3OQWouOOtI65DLnw8/lyxBXGvAm/CK9pZarO8J6f3BvMRiWC3yP7orQseGZH5m71rBS053p1Xw7GQaPlsM474NDKHodGAho1YX9WoWsaa4JB8tbaC5iEVgJ+lXzoCXSMH3hfpfauCgsTsnNVBk1h2ZD4+L5BprLMfZ5/9m2XtoCUSpH4zPYrwIVvO3j506p+Z0fwpUe+DYoN9aXhEguIojHszlXgnBZwJ5DRyh+LI8pPzstOHkp7br//VJASF737W68TbyyOoIszpuvnJJzr6KVcjXal2nY+Udm2ZjK9PuNhiLoFJAAAAAd0GeP0U0TCv/DzoLcEIq9Ocf5l4D0TU1UdOJyRACKjuO5ErL2BK4xDdNQP6oQoh7HlcCnLKifvKMHjwUSPiPg9MLeKShiLyERNOBVDF/G2NmKN6hMiL1XaFe8sKL6oWIX4p8doZwBCRsRZplYiewBd1Q6Xa02BFwAAAAZQGeXnRCfxGABr7Gm2+vjuXhIFc2B8L7AEMfv5b4X5PVBa7HcYaWBL7oKp9FuM8+4WjGYP+Gab/9wj0f/eLTWlJPhjHxNkUgU5BWnnCrCVG42r27ZjQAnxaUnjBZ1L9CaAJfEKSBAAAAhAGeQGpCfxGhWTpg135DwDRpNbXG3G1TntsvqL2p281D3hM11gIAtBaYWmep88lywg403U9IRnYcKThxRqyjMIpFwVGhW6SBPlcVgN4ZcwH2kC59l6tTyjRnDsMY5sFsMl/m6TUpx4jo2Nuptc0ByQY6AOLq5CfZMIcKqn68NTaeRswRcAAAATdBmkNJqEFomUwU8N/+p6Cv61ACZSJBdxevgQpcWrQWQcb6nQLLEoR0KlfdmfYfusAmv7L/9mY0Ew8L4KjGR2LfX9lzeF9X0jxefiXpapKyw9sjmOCIjJ2PtWbGtw7L+r5jghyvGDzSWWU/SeAUb3Hq9BggAAADAAAuwR3WqNhBGDYj/KjYZ84v+CVIYcPomAy8bWNqfP8YSD3p/UUp43D6MV74fSqLNlD6lVadGqJdiLJpgS8Ic4mbWb/InP0QJzaqYB8+t5gDlJPLg/VkkJB1E+Jb7tqmaFLJ67VsSJdHhp83RVwy5CZMMrn1pRa/MsDffNgLrGCFEu7mjSxdVGh/6Fm6KjDMZzvLEt52wOO+Yd9G6vbAvwqYqhezeEUFVZV7NYueKmTMAMDjIcnAlPY/cC6lrza7yQAAAHYBnmJqQn8RsMt7VxeEAE406VVswASuqiwOIRf7KqYr1cC2ABHgMHxAoEvayN0LYGsvPdGzB4mXz3DDk4L6UbnXBHkmAj5cQUSCCaIOXHQJF0QoJyruf8PbXMLW19zJ1YAOfcDYpZWkNy132W0Si/Aj5Z4OlQJOAAABHkGaZ0nhClJlMCG//qelFHhFHAD42OlzV5vOIdZ/QA8VCdK8Fs/LusgYdMTEYurg3FV+MIUQxeAHllCw/jCDqj+Z4/LqlGu4pBVoILFZNPNvAfCDZAmz5yudaXnzvW4xuKxMfpfmmGoi0idN/Jq325tmURy08qIPR97Aifyf/vHxNne9b1enI8ng9pZbhKsanDm7qnJuU+nAQdpUGvOYlmN8U3AfsviZSkPk5JpFF2tuB98IVGauOebq25YZZsVHt3TUnHVq+/xA613IWpNJmW1+sCV9ZAc7L8EHyaNx4TorhIagmfE4t+tjqBKD3qk+ev4eMg4oserc/XossMGaWskb925y813cBpLsCt2osvihkqC47aNTpB0J6jGAOWEAAACiQZ6FRTRMK/8Rop0AHB1R2hJ0FcM9DE1lpURoNpoXEjlEkbXnadnONFlAwhjV5TtAb/iv6HAPhDNhKc+9Ow3mlZsngcRJei0cIOcmBnC2C6Bt3jshqW/VyGYmPSYF0RphxRlHBNoXSTVdtXwcvD6tdhtffJvV2Ll38BNkf4aERt2yQQzpem3pcnnbft7qAAppUjIHICc+hH0r5rq8ef8AgQVNAAAAjAGepHRCfxRIMguYuYAaA9FaqbsYHgluD/JMDOm1YAqdbFxak/d3UCceEQPQE4oubGZEkVchRmoO3r1zRA/YrCa2k5FPKQbfixFyUh9B5FuJTp/wyYZ5DMqPU1WsZTbcAXVujFCLa3c4oPqPSxBgFLizx2nCCdOYOP+FokBVKRABRAO+BYj1DEyQQFBBAAAAjQGepmpCfxQhFjZ5cZ6cAKOlm2/zk9yXzkExztHJqN5oMARIVhe9HvDrpqdkKEOB+tB6k/pUqrgDhpGhgbQg9FuZOvJmZ+aYL3Tg9vsUIY/gZm6OprdOJva6I2/tSFiCpEPcqYRAJLysHjCqiaB+Ag+8Oup2ILExRJcZCYS6wUdjCEBBpB4X2e/k6AAasQAAAVVBmqtJqEFomUwIb//+p4QCh60Lf48gBsC6XCb9K3cfe4c4det8yd9oGb+P/khAEjSTUC+GfSsLNO8IABXh7SvlXstFeS9gnNg9+as/QpKmvh0RPWtwUsDUVQ0eqChOJA6fb76inlQX2wdAkq/7XspbX1vE/Y1Wpyg9wTNylMOVN9Ht6IgLbbyPEOCIIF/rQDq2w27/ZU9FIbV/ue8svEXk3ssHdlSBYgidMSyd0tEixEx211hCEpVb5sygmHjMGr2xoUtd9cdO5HNSj5pWY+03N4/6SOBKa6ZungYF7xu0bNNoTAvwfU/8q/nnSbddkHSXiCRWliz2MgQLZh4L4ZdeIkf8+24w+l1DIwpugvGj31b8hxOJ3Tl9cHSJkOrWsSPG/sYLK5kZbK7FwYPfraKH4k0lVQUZ/RzeDF2CVYqhiNpU4lxdZ//4a5X+tnZav41GtEAIWAAAANRBnslFESwr/wGdc7AbKhwa7+zACVJN5OtdEe+JZSKkdJ6ZjZkW0gd/QI3H48sp4CY3Ullur1VSb8PLTIcDAETdq/4dWjOxyRdRhhVihkDtj8The0QT6ubDEB2J23yJFCgaILQZ4DkbsuPdWg0AMzZ+c1UhzXhDPWv7lmpZHfCj7lTqrAuMKviej6okFA38VZZdvLpbFNGP9lSnK1qwqp0jgfiXgW3ipCpC24ZjCeAInktB6V/Zhxi93VuemDaHaksF6g/JGygpqPHeHVjV+OMgjZAb0AAAAMcBnuh0Qn8B+cdP9/oAHtEuH7Ka4GavFYSZtMWV8TtzwzNFSLVjk1n7QOSoKeHqXTzDJ3BBdlofHPwJ57MAGLmjVj6aFdzDOF+xqIpSA5tiPoFP3toUoZNt+X2OsLP3jG6AqGwuh/liVw+/xxg9HfJIgjSKL4XrSvbLLGV+sQcxac0EeaxLDRo7ablfdBgQg6qajOJFTMi7XylsfN+VIMds5zSmmizj1Rd/g674OKzAB8ugG8e/ZqTip99P0MjXQBmyM5wZnB8xAAAAwAGe6mpCfwH6bSUVxhL7SYB0PQrCNo3JJACTLc+L4+7dlafdMHC/eTKIKBGgEHP+i5zlM9h2ACboW03QRKuiE9He5Ro5Sc+WO2i+l3jP7+HnqOvll+SbuMpX4yB86iT6UlxMQ5pcgF35Dect4llehcARtLDhXi7eSrNwq6kWwqtJ6LlG2kkF5zgUJqi3O2IygKfuEmgwzGyxkqVfXZ0e1EIg7T9cJz7aW9GUDiSnnAAj6XBWaU/B8sHwRdKPUxMVcAAAAUZBmu9JqEFsmUwIb//+p4QCk4TzJYgNiyNki/OR9vAqHgKXX1iuLLntWVLF1bQ9Y+VqS8HX3m4TGjP3w0VXSeTjUNQbkyXoQkmzWReov+R/tq+B0Jc1pk+60BxsboH8nhYk+AuEQVCU6LoOAgJrzZE15hrHgipT6crTnqs+6xx9BVp2bSzYE7k02uD06giqM5D+XPcagnHwAB7e5MBOLBx8uE7HqVd/Fj63KGyEci9opZ+Zna+DgVeTivGZScMZQmctLXvGoT3NYeLHxiTmBdowhW8O9oJUoJQ7IYSYqW1ZZqIoq1JsPYkAtOF9FpZDQAAtdupyxMqm5JP4r5QxSPtCa0u6y0ij0PtiQjItJbUAnTczwfqGat2Ps/VwzPqc7A8Qb/eB211YO+mliNPOkAIERKgNQycVsSSrLm8jEswpKKwTSoAEnAAAANVBnw1FFSwr/wGTEWU3kjv4dau7AUDD8QCN24SjvlGXMyq2x/Nq2iC/bT0nnzQ7BZFkT7X5l3lGTTcomTNJgQyhnkaAx05PIg+ewuGh8xe7P74HHmSkZ9nVgFlleoxEzge1FiepWpU7dz22NCGubIFKwQu3f3lAiQpYo9hEMO/jRWDcLLFDnPU7xIttP6PS3kb8Xk8HOilukP6sfXhiO5WO6p0gJo7lmRoqJbHaX68VQuYOsXfCZCk4YJWMWMamVwhZMAWJGrmEUZjeW0m+zHgE+wZ2gjcAAADjAZ8sdEJ/Afo1cGWlgOfiQEk+NK7y28LW1U+dx1GYQwYAmvlvMEv8AnI6pZJT6RtIqCbDldGfsOBKRDSnj65B06+fshPUxTGlo8rpsy/2Xl26sBNQImQ+qadQAJcgDjP0en0HBpHfMQACq8z1rtzW/evlGIW40i/fmWCYk1EvgxRlBsq308igm/Z66f6Ep7BUSgl6MvadY1LNkwmtNCVzFC5BFXcObg+KbQTc77PKDclS/Vh7pkDjAGOSUhkU03GVWFnsiWC0TJKv2smNsDD84C9a5Dxt0KP6CQIATq+x8nkAZkEAAAC7AZ8uakJ/AfoKrJys5MoeDwm61QYgVyhexD6jQMITZuAB+61izpcmbs+1XFvh11D7CSr83a4szrXQBE6wIP+PpGKL5uGj4xJQMsBX6EOzL2c2wRK/m1GZUGkpyYQbaiyyXg+BoOIjqo6HHq4FmTve8Z+xeZo/ib1pBO7lh61hGqBVVJWMJeT9us3G0Lvfc4yYt+k/wBgoP68lII70hGcLTmIPhuf5UZPprwzyycbGXbSA9F4o52MaVgBKwQAAAThBmzNJqEFsmUwIZ//+nhAC5cGedtN714LOvGfnTC6X2UOIEugUzTegLr6SbggWDWuQ106vtfuJZZbb2w0xep0+/fIpreUYR+CmTUDRXfDc8IFk74D/egXIvKoNGE5DE7uEBnD/LhuMqDfK8fD4tquk3z4w50ao9TLQGjD98GHceAYjvbnH950irUCMrHih9YXVcmoZRJHHXXhWXEyMMCPB7/+nBDg1VdwoOzRvw5jXqS7EqIfZbApOKmDre9rGbbISjY3lqH8fDYZsEH1YULpYHVbSfB7YmOPZ3+hB5SIEQGHR2rogNtaKQd04XL5j1QrH3mVg/IwF9zf/YFNrX1PF3TSrzH6GLhxRAR37CGnhqStM7crpLjPT7H1cH9K65RSxosXAeFVxB4Wgdfs6505GAGALXwqDgScAAADFQZ9RRRUsK/8BUeTQ10Ym2t2GAATGVGeFbjWQQJH3TcOiefuyKdAipgEYBhM81r5JPCxW5Ec5WL2suEcwR9OLxwVoh/iCQUTaVcacggn5guEAzPcAktnRsGUmW6EnGfqxi5x2cl+3lYg3vxbO29kteW6NXWrs+zhZOZsMGMQdf0e3PVHdCQhe9pqDPBwv8SBOwDBGLwB8s8t61Aq868pte8kWf8bzGvvDMdVd0KsI+UgyWW8Uo8tteEPFGhg1tO2R6O2AB0wAAAC2AZ9wdEJ/Aa3znz98rjCwJyogi3yhHm0CYV+POrKAEnpyRQHAwEkfHxmotmKTVuYKrnD55HlE1JpueNtgc7qHnZhNq++bsIhIohTDkYQNINz0kbUmRHrostMNDiM6oqfhYVxj5H4vJU1H5DJS1DZSACrxUXS9ncGV/d80x7GfxdixCkhAruIp8H+6VghVwqw774gPrplSnstJUibmwWRn2TjCNBvDkDMDwE06zMcILyCN0FxgBJ0AAADkAZ9yakJ/Aa5431yjubNMCxPBrE/kjOMKAB+aL584Ho3poloJhLvw+NHvHp3b7CjLxZz21zpBSi0Y1KQEVmFx1L8ESQaQchosPMNHva5QH+bF9cwNFwyNgK8SvtOQNOo/GMgwEvXd4V0o83+UOW3ah7AtWkUy1KOCZ1KOuwt8kz5WTS5zZAbgwR5Vcd6bTHvrysKCS2Bzr5OCgUX7WTR1tNJDFGjZQ1IuYhmb3wbreKMmx8aGJoyfsDJCEqxbwqW6OraKRgZ92kmBIGP5GlUZuFII8qmZabgaSaCVh9Khj7DVgA9IAAABKkGbd0moQWyZTAhf//6MsALxzLl4bjl/b2ohJzf/J2+yJkQAOETnAC0YdrNNCLrqtjQgFNo6jMl9BT57ZyTgcQ+g/PdsPE+MBydfn0iWRM5057D4p/4cN2lb8TJVOEvDSLPDx1G1/+Zi/74laWYLPvOGs11zq9RGHD4mQbxNeiUKOYIRbSbIDy4zM/X8yu+xpYUOJwNhgK+nU3NPxGMDz28jNFiq/hxlwMVIeHPU87IqBmBhLkw3TqQ3DjrgTN7rk8jSxMw7uofVGddLTcsIp40tt+R4J3n4+/CVIoQ8KVKDocZljuTXuX8Ed1mNdD+07mTaJ8dMQt1QZcHuwXebCCev163iCz6jTlC9Hv++X12bl41BWDcp7aQDpbbltd8YPlxDpiNd/uj8REAAAAEEQZ+VRRUsK/8BUeTQ1CR3gq+kWbsimnHXSe1TF//SW/00sRH7xNuFeugBxZ3TqVILDDEGYLUFlMYj66MaoAd6vVGGftO7zuWorS1Msa12Xo+VaV7lM/8oAdBq1lH7cHdSxSBQPSZ6fp04jHpGPtdUAFo4HDa1GNs2HNL2KTMm3Wd1WxCqJnxME5Hxio3fRbJV8j6kGWjBCbo5poXXkIbB5IpRwIo9h2Osywr53RCDYvtj4ut6Km1nESM/VvFfMHA6C4BHjPpa6/KpLo+PupoiLuivJOWL8bWlFTQlIfLAwNKbmV7GFCDamOES2XTA7InsL4lUpxmhRnuoGiWO/QmEpyywP8EAAADkAZ+0dEJ/Aa3znzXyk93AcPBa5tn1rJ6716D7FCH8d0ABwc30gnmh9LfsUWdKIoK+fjiklrMkLvkszMET+mAFlbZmvm1YiBctf01pI9EfWMTprWb55ZAmhX07plh2wEDWLM7a5jfrEIDYh3smG+9KXwZAIc1adHM5IEUIFoLg7IH46hR/U0YL5+t8yRx3+TX2XGnZGdUXkFp5moKeC00AnuK2FduGDZR2AJ0DOwAOXjowoqm2J2yUxxXUcP82KRIdeFV3565WzQia41QBSX4c6MNeq4oHQ/uX9VaJbhO5lFDBiHzAAAAA3wGftmpCfwGueMyHRT7RI0qwcrb1Sq2iAEZHTX20expp2zSlDMT4C5IHwmGc9THJYGL86hxBWH3bB0fU6ZWiqXmC6RaP9Xi4gv6XyNfa8XlGkClxh3pBzNxiJXzN8Z9QMTEQVqw3vE/4XwPCQGS1Wx5rxcVZU/9L0f98UwJxqjZXrChkPUWd8/sY09nIIynJ5pJVeM2J6LRQ06Pe+z7moGMkK2A3H6GWBh6tz8h+JcuSECDHf4Z8zDkRSZU6OktvlcS0DAr9ZlGu8Z0H6hFLwKcfuAzMAY4nEEuWTsi4MqEAAAFeQZu7SahBbJlMCG///qeEAE25B14RJvgBMx/d4MqT3jaXCfcZGhdVl7ZWG+4wDElKqDXXnhJ3WEZn+AACpMvM+JrZg+0ISwhXYxZ+39goA0RTUImoyKSRvdnOyj29bZytWB/OrrbFv0wpUXZmjkUuK84RMeQUispXuGA2sd1wyUUTUs5wNBZ6CBBZp9F0gzxoCgcAYnzQUXQ4qzDveCJ1E+5uvr2mblvU+tVMdj0MAQVxFcM7jdJKPYgep9wuHTMkbyTfSfIyC/9mjAOgLqwuHxLh7rE1iJskXs/C6t4Ya0/WMf0LgGOlwZ0gmZyHfOKP2IKnMELROJQHhxfKIPE2nJaN4ilNuEbMCKMjzZUaQF+nhsL/nGCiRrCJDuXw+AS1zLxMMo7u5AEytPFVZcs/jOAn+kwfmK6r2U0QU0XPYEHkfWiuFknfykz3uCCE3kTb1wxh+LdY7khXOr4ADpkAAADvQZ/ZRRUsK/8BUeTMw7irs3lWDwAJY5k/3lFlopAExpsb5QdsDNm/HznpQYhmSpv/WV/Xb/cHcGBk33xbNJD/CT67wrqZY2+C7QkKOcng/xPNpw2QLeGxeGlBEddBunceXJ+PA4t/Xz1Hl4dFxwyBu+fm7jvctmlEVhnGzoTcj/8cCvuAixzzQVvqQYajLxaXfN+YRI0Uqucj675n5Bd/08afYxpjkG7SQpNURYEXGyNnURO6BJrBhQAQNEcjKXNQajld7l6bIRmULgCQ0q136Mlozj07xCe7uA0K/uK3SRdRmQx33Fm8F/h7YMTkQekAAADTAZ/4dEJ/Aa3zjH2Vv9Hls+YAF0/Slm/Yg4mI7oWNxGkyV1FfLdgKcXqPAhKz4kG3I9PyLUh4fZTDIxZI3HxSAmXoPiwuzirVX2l9P/2S4OLEQ6vQht5JkiLEooRjAVNjUi8w3jDLLkiRAf17G3KmDq/kMYT9Tt8Pv7ig9yk6i6XOi3qcxy2AKusZ4NCuvipcD3zZM0lpTLWMdDjGBVLhGeVZY+VAtiELvx6/RGcs766JE6mCNueoUzaEa5vdUdzT75lFKTZusGFZcBpQfDcGjQARcQAAANIBn/pqQn8BrnjMh0a74//hnAA027Z3OukNeqABqjpro1sdQrskN41pZGVppDFxfxCroR2zmvenIJspf6I719wD+w/lYqARlA9dmTSced2CRWtrW4F3fYKvXucJCQkmEz95t1lO0AQxMesq69mzP0dG29plNjbxY55K4cGCe4rsaf402RCx8fPHNe4R1BDSoG4zH+LTEiOgHOVwOwslEYL294IfVmkpo2OfDw4uBAx66EXanmAmQ8yFLcpbl2TK0EDb0zaq5xrJFRvwFXe1Ndrw44AAAAD1QZv/SahBbJlMCG///qeEAE2+RbZAe13oW3SrqcZuEvq7ADje5GdzsAvOnr3JZ0cWYDkf3C7e8yFRaXYvKbXpA4XFfg9JQZki7QI8l52u1Bnph7Xj/oLqr+Q+LLZ3Kf/DKaQsxlaC4sGa0d53RXZfdrnqCxVvJZ91P4SXbpJ3xPdpUfSaU7BUAJUwRXeWW83yrtObL8yMA5jW1D7McWUqFxbYyTVvn5imueJK+3OoC46IRtCnbZt+/M6HWXXng1cRKfi/hz8dP1M8LIzoWHUxbdcTMfgAjl2+XYkZxje2LuR+siln3RwZBRWo5+6eJQ7zOgAAd0EAAAEDQZ4dRRUsK/8BUeTTKizgCt5LnbDQ/HT9epvXaJCRFrRmj45p8vty2I6bhqSp//8Rq2+iA/I8W48jHIVtY27AIiqcHp6V4tKjw2w9hzHVBn35nAxnrV197yj91Y8oCqDWM6/ykbNQi7QxRtEJy8vWXp5Y2OhY3sqVYOh9efZqVv+oxdtof+WJy+2oUwdrdUfyOIzzNifxf3qTOoDHC3jIal4T9jN0f0Q1z6uGS8BCDq/yVFkXHiY39vQGtwEkbmLJi0nesthDub9Tby2LziQfxV5EFLxxjr5DEbxRi3IL/yxxGrt+41Z+Mtd5CMfjyqVkFZJOULaoeHX9wfHaQV6GOsDugQAAAOMBnjx0Qn8BrfOpqHTdwDUp+0axsU7NJTtw7KI3JcNTctG2P6HvT6nzrR4U8hiBqxjA/l8vTP+7pU3mMi1JEbigIl7yf+J334VDYgelITt/ZuP0IBUPR8jFCCR6qbEHREpblFF60cMerR7cbMnRgSsdb8gcSvyC6fuNsBmpMpNHkNFPfl5prSPnNb8HBp1u5pxr7M775lcrNVG8oxoGU06NigPWds8jIGdZeg28HsBabDNkrO+sAigwB53n4wLtJeicXJ4qrGXgifpxkqPNNKWhBmdd2Nafx3z/AWDoIr3VrEzZgAAAANEBnj5qQn8BrnjpeiVqkxSG8G8Tt0EpVJVkPKq4S5RlgsAD8Jt38lTQ2bVZb50pNnP/TxmwC/x63gVqgX8CARbvi1+RMCe83OR1GSNDCcQKPC4eygI8z+KFOJ0s+y8s8YRLJ38T3hhGs84Rt8s9jjb7bexlzBJg/cA0gqgl2ac72MrrUMJuv92Req/PGF31zwhMSz4Sq1/vn6IwD6nbCwrYaiLEtCoter7Hp1NaDXZ/lMgw9Ww/IRzVTmVmh0wJW6gGngf9zUMrKnkOZkhPMiPykgAAAQZBmiNJqEFsmUwIb//+p4QAGx4TzJYgNi3GoPFoyYGlUAJo01GtESWqmmaTvBJiu/a2oWdc7tIXcTZQAhz6XGtZrTLHOEMOGc3vdkuCWQ5ESA4fwpXKkMwWtf5iNmdAOmVjjsng1bjGCpd+hltHDgrQLc3A+NSDZhm8+ERz8JF0taSCsXAqRHQMu4+sHXH5LfjNHPdDxenoRkghl9rl3tsA/5EWOF3xLxyw9oJxOlK1dW3bptjFrK0c+T1MeM3vyXWOFMdCLInyzrdKSwA5IjovwFw2bJTX9hH6fqqgfxpLi/Hp3Q8cceRWaOCowyuI09S0XdT/DOnBhEGNY3ri8wellpv9QAWVAAAAvkGeQUUVLCv/AVHk0f7m3FZuasgQGsqFEMdT5DcmgiDVY5bzWZ/5FsALAd47AQtrZsDE/v/HVMyX2u1bcEAm5K3ROYy+MSkeWxk0rQW10WFcT+AbvPW0oaq/WrbZWTOzqCoCM2VEmX1ZWbeMN9wKBPyVO9KHtxmG5KMRvhiGviTnptc72pssGMxTh5Ww6vhMk1t+tKQds+uh3OgmxaJfLbkIdy03Hsvr/3DDQJvpUCch3YA1wBg/63jJDP8xCBgAAAC3AZ5gdEJ/Aa3zjH2TxJeBa+Nz4jel2ECXZaaMpK3mgjdjk5yoKwA3NP39vouOlv1MV+50OPKrjtG6PJC+3G58cbEoKH1KixEokzOfdsSUo3PRrermHhZ5QB6QaMAqn9/3sZzGDRsLS3Bb3ggvVf0w4sI5NDXwlrQyEryq92BJODu/+YOwy3bAS1sGm520zzFIMw18ieUy9O5wtX0ZHwRdkp41lwj2hI5janxB7AfqMXFDsuOzCw+ZAAAArwGeYmpCfwGueMyHQ8tMGvV3sgdupbFZFQ0YvLOAtQ9FHe9pUVwcVQ8cgBMgzg9dRp6JvwE0ra2JOPjDuTMpXJwP4AdRG6BAMkV5KrjVJKGmzMBIv9b/I0GIUgrih+9H2WHbLyl1lpR/RMZP6c/ddSqOMns3FO5PRZljLMH+GfALzjzW4opbyz5tWSBo227xQ6IATDm/eDanyoCIrB37HFW03ppTUMDWIp9iORrg2YAAAAEFQZpmSahBbJlMCG///qeEAAo1//AskALReBdCtlU44WmRbKMJhxg2rADkvBRBQUaKTpCzbpeHfyXHFaZ8GBCbuCmljgMYHwIT3XG0wngTztD5ZnsktEYHVafTyGWJn1+Ek5Rub+mWFFKdor6fNTLJ+Xup/qxTGt/RvV6jusPnqTRARK0QyXeDHKROsmQJKReQrm1YABgCUZGolQzjwEdjyG8Qm+0O69n+XDJ7bHkOBhWL68GhEmwFjU36jhJpNe6Csh2KEk3GelEskWG7g2R8xzct/kwsBXwDWxUE/pTx79vj9d+J1bMjlrYuzQD2AiW18ej92fsfFm/HL+nLmboTuk0j4gFTAAAAu0GehEUVLCv/AVHk0f7m3FZuasgLSCoNa+/wL7sANLCT+kTe7JaI6E0jwgBbxuvOvnPkExbfiU0IhaRA6uGuV243gS0k5mrTV4LaDCg5r/DjNw9eUG7Gk1PU2LEVRJ8oQUTdhqwA2EaL+bdAK9shRx4dEQqntUI1tUxC4yaJThtp1TyUL0LyUdjDsEVRq9VckYTFF/TyeFjMbuzC8FEe0DDdJnH0t+qphQKT13O1vfttA2nDYamtmYVYPaEAAAB7AZ6lakJ/Aa54zIdDy0qX0WuigJJ11JD2M9KmeH+oCeeVoG+Aja7HKO1ABopuOjQ7aPZEfz8NC38IQA226bdzIJHSffPg2lFMWmoy8ZlR/+1ugUsqFKMHOygG6gETzkaeGrC58z+zOrt8Baw19S3nHAUcLwklN8zaUlTBAAAA/kGaqEmoQWyZTBRMN//+p4QACjhUnJpe6D8w8qBQOVQrvAD4+AIqEVHODm6ehyoba+ltb+0/aZTZPoTu56wGwEDvp4DlEazjaU4PEmt6NZYDxCPTKbQmzAGLI87ynBuWiLGiMnkkOL5KrI6LtKdcFkq5B/F4ur01ScXPB6q/LhINcLFa783Ds5EHnmmUAWJ6hBl9Crh79lnO8TN49IfnlpC5nUh0dr+7jXLHTb3f3p+bTPS4ucku/EjCst9r+JW7RK21vvKR43uFeCo9990MS/tZhvWRGbtjEWMDiMcHPP07jKks03FFxRKKV1CGGj5Juhdoxtv+uqf01cwNQgOrAAAAiAGex2pCfwCfecRuWHW7N5+gC73u7Y3cmoP1dHNxwgA2u8RQ1o4DZmGCA+i+nXENWPyNhE32xblFUuOWxXH2Y7pZW58kvMZlz2fTjdInrGKv2wuwoPe3ilhGTab2rejyILlp5qLqRFkZu5wlYyd8IBPyq7h8bGXPIbhhY60NsHos6jUTImWDA1oAAAEzQZrMSeEKUmUwIZ/+nhAAJ/7v33+jx0T9+xkADROw4Hd8z2x7cxH0gaGZcBuHaEUN8c901DYfOoIOSTZD5Pj9XZuSGO8XnYj9uyi9oSB/cu6OgBonFz2GP8Y7Fybn+2YJrR+C4aklLGBK1dAFbdYPZz5Gu1zcBi8XMSnRcZHpMF+pnyr2ZaYN9Htd+6ZjKXdsaV2y4qihltYBgM07XIPEXw7yETKDNh3iCmXt3Em1UzKtkrokE7r5D30Z2WCNLHQpGSl6s8dhZeHFudJ4EhJwc54fB0CK24LGz8s42iIUTIEsppTGDP1jnoxzWcsNYIGdjqNu0mPdRASQyC7BnIpV3XnHD/z0x+pBF1eZI2hzjLO7YEWixeEXfl5p08BPK8GEbCCRdibQUMXrwb2bTcP9pv4HTAAAAK9BnupFNEwr/wFRzZFOtT8psYjARHqEv/2ufDNImmt+LoJh9TxRgmond/Qzhf3EHB6rbPFd+6ALSS4KmMlaVH/r7aUBcPC18WeOB6Y7ngkPk87q+BSB3yjCxkrqy08hDMXX+m6ecWBoiCVafoYR56IeT3K01cQGiAKtBGHHMZ8B2vanzpYeRYSFbFvvAeMbgssP26VTY5GfZk8X7ZoUG9uHrt4+0b+eQPH5n+SVMAGhAAAAdAGfCXRCfwGt84x9k8SVYNZjSD9neLp7XgERC2RaOkl+8gApf4PTWzAa7mVZIinzu1V+mpK6yux2xzPk2wZIwDUFu5+vQonjMcm5cnRdxf/KPa4+y83ZKU3xIlHTR2s6qovjeZJz8ZRW5V4N8g+dQEVzBeMCAAAAnAGfC2pCfwGueMyHQ8tKG0a2O5u39570DggHxVMNVAdeQA43EQ/Ik4VWUzK7QPoQTuZUXZn8uP56qB3p4E5Xeq5MFBJFMAiEO33Zhak5w2nxRILqevds/eVzWz9nF9YMu1TOv22y6ML9kfy7nImywMrSi2JvUEo8Eh6MYynMg4J3tZrf2BMK4kCTAAp6wOEHgONYKj5H5grjK3ZFlAAAATZBmxBJqEFomUwIV//+OEAAOjv/SM4NR8SExyfg7RAHIUC8Qc/OxDHbhO9eUzo4HVsnB95o5FSHzJ54x7sQN/OuGDPL8YmdHMS3MI+7gymjkfP674epM6+l+ntLA8menGPS46zE4V47O4KUVIGeI9mqbwaZnDKVKkloiDGq56qm27oLt6yZYMUC6GEvHn9RchXNO8XVIqUQIMqZW8FDXAe9EIEiSsd0FjnRnI/gL8bQ7dB5kV90zMKo4L07+kDduCuCE55RCkcQp61vH+By87gPfuHWaMWrqTt8gvy8HpSB/6KJaU6NpwLhk0VcoH14l3vR1oJQ4ZUQcXQj25Nxs7SnsBigtipur5FCqPF7U6lCCHUSGxSkMsMB066oiJ5tmiR3h2GN0iElmc0I8KK7vp8ziHzE2YKDAAAAyUGfLkURLCv/AVHk0f7m3FZuasgJ7IRNGGjd2uMaYAL0jYFvQN/77qtdqw/QAJWMBm33LMHC1lc2JsvHRPtZwnyGUiTdoCduk2F6VvK3AMccTxSWpTm0KG1QA3cVtv5OUmn4ebeCo/eRKZi7XU/Wk1GB+a4tCT+GtCyI/aGAvImMgpNnvUs6LN2P8w16M1otb/oJaUcghBVhvops07nDxqvExiGGmEmefef5eByZYgR2ueFvlKLIoHnTrGjrG8vb3uipCtG2ky4VMQAAALQBn010Qn8BrfOMfZPElLArR2j7AG3UILBRrYZz+24IlRL4Aj3ldJAu9rwKDHtruOwkZFuycrghRFjWB37it0GZBrvnfheVmOR4LsaReQBE9/ru/i8szXHyTOPRQus/fTvCBOwW5J1cvj9bsL++Z5dvzdDZ5FKJymOd1EQtdjA6/ovbBlzP7RnuwsAbCNav8xJwbXQ3jKvyQDTN4yZJnGCW/wNfoIb+qyneeyQX7xPtgwUYAZUAAACpAZ9PakJ/Aa54zIdDy0nsNFOx60t89Be32Iyy+T40x7CD7cdLe1KnCaO0C4/foAcw5d39HKKGa1Cq/WBU78lLInrzM0d10txVffxkpPOEtIfUtBJvPxRpIdp+5jE4xfOwYKMH1BJ2af11cLe747CMz9gFq87RKYI5/vPRVfuQBPndGBCaDaMUQpnnBLmsl4eQ8jXaD8NceW9zH7gVZKk1sQPNjqJjW2VB6QAAARRBm1RJqEFsmUwIX//+jLAABbgWHF5gPKeRFzDs7a26KuVXJkZOHB3tI8dbSuXj2l5L0o0BirS6k2cwQX85T+zdFcFrlI1s8aPIgw+mvUXM8x8FIQ4+VlZpcWnykzopbzU8lcaR8KTHf9YUJOUN/dZwCL+cUHwkhJ1pfF8I1EVAna0+/YbZJ45uNujjmrzyLxfi6neb1IvlrCVpX8Bd008yerx6jFBE3hlB+hKJU4BGPOXYINdq7s9uruDGP3cu+GxxLjIvIfVkWhpn7NqSkYxyCOA0N/yF83hVR7e2gVx1RhNKr5SI0Gw6QmoedjbBnggUVccHZkksgBd5Vvuks7w+gP3doSxD+V3zLeQXQRRNawuyOxoAAADEQZ9yRRUsK/8BUeTR/ubcVm5qyAloggxclgARcpWCkTxljMgzjVhFBA1zk84uP88tN/QS+LapSICCXhKkKzk5Ro28FQ1VUHp4XpDMnlCHGlmNL/y5vSpi0tFybnXgXG80iMDqyaW9wGCr8Xlvalf7XkGGaFilRI1AHY1CrQ3fR/VXzAsKMpe9voDGWC6/aJjwhIfEhTOUPi84tJDtdD0qZqWULvTUuC5dVu9QdZidWeghhd/1t65EpyZzE9ITntfwAWAB3QAAAKQBn5F0Qn8BrfOMfZPElGz6pV9oASBJrLKEM9EWQVvVcl9PPmjBrv6JvrAW4F7rWYkg2bWa2y7ZdRJh3KAu4yWCdUVicGC9IdW9rIhsOHmMbN+Zi+GpO/1nugG9qj082A46T/CQjsC0GBkoX9Xe/E/UC/x2/kUHGFk67TZV6tO3Ey+TxTDZXL/X1eK0WiMfD4SdIPJYAqNNeCJVLy8F7IEDJlsKuAAAALEBn5NqQn8BrnjMh0PLSexUQqrQAsOL9yujgHhQZ9lQTaBpPYJokbmd4r0B4/zC7fxlqNeRqU2a33DxOBy1FB4lpU/IytNS5vR8dTja+O1QeV1kJZISE+NcKJ6w2+1ceIh5KJuy6wVuo8stc4jDHEzQzq3CZzG+tbcC91c9I6RAjSwx13phgRdckl55jmfQoRiAqY/NAyxk+AQIO/QQGUT5i6meoX1EEmk2lGABiPlFpeAAAAEkQZuYSahBbJlMCF///oywAAIgiCyrO/ACdIjEl9C9FHw7Kz6SeAGbi4Jw8/OWYkggjQBHM8p9nF6d83plRG903NuKAGqkshYZOFlrcdy+V3TQoMtl886EeD0q++Fo36TCMfy7TGdX2pBEvxgOpHg35M8XPAeasO8rnup5eZy4LpYDm32ZaiIUI801LIagBOY96OKzA/vSIkucI+BY8Xzq9fEyV8PwidGPkDcsGbGsY9afMA2A+9t5xkIXwgoWVvsYgrYi5LVgqrf/Aojj1xH0wgpoKeq/t87sZpF6H24T9YgbdV0rynQ5WRonQEqE2yO6mXyK2KJCElQ3SdbgcCMtvjrt6njsgeTAMgmuQevwmATfytu4hCsR3yv3zr4kD6aZPVuk4QAAALhBn7ZFFSwr/wFR5NH+5txWbmrICV/YLCaioggH3ZQIAONi7fcNiQPL+Pe85TpoTCu2lkIlR7/hrIfJACtKHn/DCNXNG7KwmfF8gpKSCKQY8TW4ev9BpPhtMqVj/SFyjJQ5PVdkUolbCAYceHUL+KwqGT5ZCsEVv9Kdoc3LQHr6Ilr4syYw8h0v2hgwOmU96JDItBuXJ8tF+DIBgqqdw+lNDFmaw/rdqMhLR3o4tl5MA8psf2fQwAVMAAAApQGf1XRCfwGt84x9k8SUaJrS3pX2DOTU0+OKKVzkptYW9ST8N00fwZWrnByv0QASteDf4kKJ5jgdFlALsfMVwO6o7Gf1u8QKptHMSlVq9YDqeZEMHwSwCbBHN4GYoc+iTsZDq9HMGMrm3QUcUisi/JPkRWeTRoTSUqglGKdXaeVDZ5wzQLRxPO2IFYQqyaAKsWGU7z/vCpKzueKLrIHrI+udPwAVsQAAAMoBn9dqQn8BrnjMh0PLSenDUuAXLXVPL3vSI3KjNci3Ot09TuAAAmrQljASAoFDtdeaq7fzkv/n37A7vVl9mub5GyGbER4TD5QMfvc6hL3KieRvi7SKFYO0Ydi4C/iqmfFIN1v1fReSIsBdnwOMWBIigJHKGk2jSWWpPqjzAb7mypfc38LrbWthrIcKefumebwCWJ9eS2BQhAqFyHi0titUzipt1e0TpIyeA141uH3Bytk0MJNoHqHcYf2+HkRsQCIMVFMj0/niwARNAAABHUGb3EmoQWyZTAhf//6MsAACI9N6a745f29qJnc8faUtTRQARjqTOF+4IE6nzRB5QHgxuN6/QRPWU6gT2ISEWMRPoAGqK6+hWvWUpIdyVx2hk5RRgjiIoy8sPZkJV5b+CVl5hrTtpIMeyaNNkmOuBG03Rd4FsBTudMndLTYbCvgmAD15og4PPpLSA+vVs2/aMlXdcAjhTxAX70pcWXDBVXXrSYy8xvH89pd19MANlGQ1gv1Xekqt8rnbIVT4iuGUGQxm6+ISo1BvTXaIwH8C6IsDzlMq2+8zyZ2KVTyrtNrfWSJ8i+kpcMn2kxucjLhgYAP0ZfNjMjqzBT7JHWty9UcjKmaMVCo4gLvyNolrc/zofQ7AIzjmieJrr2aaXAAAAK5Bn/pFFSwr/wFR5NH+5txWbmrICV/YLJtNisQl79TIeB6u0kVQn3xCmnXfcIlwEHT6wQ5V7htvwxiTOCvAzrj9AA9XOhB/PuR4g430FGReXr5lPW9czNwx9YKGr4w/06HEnbXdGwOoe7DCYrVIRSx5Sh0eTBecCt646KMb3ydM/34uL3KzqPSvCul/w8m4W9AyN8OvknnUndmPseNK3vhERT5PknkUWR2cCMMAAysAAADAAZ4ZdEJ/Aa3zjH2TxJRomtLeabaJQjFn5g1bFb1MVSsJGtNhsYgAsqv2MLcIJORCMXQ8Q/a8TQn/8hLvJMRpiX5VKDMmtiTYr5TtbemeQDL+iWA9kjQz12Gj+4PtcSIzDPkxFaf0AceHJ/RlAa91lulVl6wCbxFDcxXIltoBqmjZNPMISzyIt6papbV4Nkmi6UCSXjtYbRDNit24kuqXmJrzD3oeT6BnMEvuD1UfRzA7M5r76BN8y3CO+mSeAJ2AAAAAwQGeG2pCfwGueMyHQ8tJ6cNTEMmgJ8Tkc8sgGIanuLU3JnAAtEN5tppGnBk1Yjz4cKXkcoO2tEu/feOFCDcl8yoaOxkAwXqV/Nhqr8QIrKMFhofneQfJA8RckYNWKI0THutGWZUzNBIbbeo0XwZvm9JlMH06kVCtimaBWtw3lO+OZKuQ92YEsIYayMGzAnIuotU8s0epX/AmjCVPmfwgsfl3NCe9COZiwEMaIhlddsQRf3DVNNIuhmIh6uHogVhzkPEAAAE0QZoASahBbJlMCF///oywAADaa0+CLtAAC0VvY1VrylaicpgwPLxFxGvEyCt79Xaewt5TkTKSiNKMphVNawgNVFF9pzV6ybpYoW/O/fo2GGqBBzzvdR266Qi7rZK8GxOfYMri5smW/AxSbZr9I/0xQppPX4UxyttZuvwb49H7YMK1GTafdmm0rprTSRpPDN8N057M4HhWlOwTzAMMXOw80DDCd8t1xHHvcjYpWJ04q17RCh7m2VZvTYAPgsK8OryIn/OS6ESGvHtK1M9kke7IyTEKBhhh6dBRuDvwmM+K/HLLUls0jxP29wanckzTuiqTnxaX5SpQYi98esR2QlSNc4ErPGRupdhrttMTmYkaKhNnr2sLvjkSAkx51JtYomAyPgQqWzA3jwxv7y8GBO72dHgnuHkAAADTQZ4+RRUsK/8BUeTR/ubcVm5qyAlf2CTN9BXTCNLFf0LwgBJtevg5SdM+w9XhxzJ5AZm13t56YJTjTroTERhdbpurgOsDasE9WbjaHar+SP7nfVXbg3RrDMUNLL4REMyRVMJXnrbij4f9ufTSdLEE1fQ29dMffiE+OhWb1wuZ5RWZ7CLX6xvzUsjulRsSZgYEn2pjgzXeS6kthHtdE8cNNV6fPz+ZPJCbUPOUjO5I/l2Rq9kAXo0DX8pdvtLOVtPa29HrFvGHZ7Sk/AEMtDEktIAoIAAAAL8Bnl10Qn8BrfOMfZPElGiayoWdwHcrwNtKAAC4k4o6fLSEcBVbAD4Vj6TraiIjNccfrk9xH0lmdYvy+3qH7xM4QZQjQR3+XhUdk0ePprx1FuyMh05fUMVzIPp+oDosTFgZiKFOsQwAusphQJhFh5xXV3fkBWTEISGjudbBxZypWmhyYxdsgdupZ+3SJRoL0ziBIEvkR92kapB1m/jqFr5aUByT3rvH0y8ZhLgT0yyIOASoHs5GpOQc+ChNqY8H+AAAAL4Bnl9qQn8BrnjMh0PLSenDT9Jk0129EALDLZ93X4zbkbX095+47QlQ9sWOJb4cUjgpjiXFXeLri8lUvpN5xvfoDMTDppS15PQxsnG8q62YjKRvrwC03kU7oOrJJziy1Fp7Xfr86C5cmp1RBPCqHjgHZdHZKaeN3VICGB1X3vqDzJ1SdBgwWXT9Cx2a08rDdqaIki+TQKu/34pxvtTtF89UjyyhveFIB4NzOZIADs9tEjpwkP38os0u6/uRXI+BAAABbEGaREmoQWyZTAhX//44QAADY6q4GJMmAI1Q4V9iJez8KV+tDbuQYew6j1Aj7iorfhu4/yE1drWwfYeTFv81T+kx5whw05rq2Ue8XdggBbkGyG/jJ/ziWH6Hkv2y3Jmv/zKE4IQ7lIupYnlCqxetUqtXeYAzYtDOk4S7ulXIToG9gxIEdRwYa2QbnEqUjghibNN4fBxtfu1TTvlMgYnl6KJSXA4rcHd4CxlAqpLPu7J7knEuaWqmG2Lwzf/DDsR//0CnDy4K9VtWVK+5mB2wCWTa9IZJq1QsJyJCqY3b2bki/HWxSA3RNFNkJq6BUvOvnsvWJdYs0tj1vh0YW+8/Bv354CA9Hu5tBqVaouAJDlIETHvB6hpI6vGt93XC6foC6X6M0hvQ2OUDmBIa24tfdjOT0u13rVD7knB4k6UXfkZ03oC7HC6aguRCvzrKzob/5OSYzmFaUqMzq4VBvwFEBYBhg9XSgZ45eywe/AgAAACyQZ5iRRUsK/8BUeTR/ubcVm5qyAlf2CTN9BXfhLgoUHcAEZGmW+pYpHpRuRFF3iyBfC8YVO1dZ/Xx+tSTM3C+w4oLQfT1t+466+JFYTklwMOZh54ShvcAQgvcCrRVfgSDd8OYp8V7sUvhT7zSoSvjnIJ9AXTJSMEZ/iXQ8DJoU4j3PXuFPriEd6pNrwAYomCbbqqJXuTlNqDYQFru8ilbeQGk7PhoGyB8HrYCU48Z8aNFbQAAAMkBnoF0Qn8BrfOMfZPElGiayoWiZ3X+lMgBQGfcPF7LdsRo+su509bJHkUDawtJCTuui+0fNfOX5WX3TykMDhyMOtd2rJoCdHmfdPtRZSrkmf/82/DuhPon29yNF0vDryUI3ofP/+ZazvuQemRxCsmQnVxq4FSFdFjml5l4IaLufFyeGkK1EIHy5qBDasLKWGC3aY9m5eZsGgAWjtaZr/UZsdYXakLGH/8jeNvvZS3sDIFn7dG48QZIQhdns4+fIFuCaMtiqi4hg+YAAADQAZ6DakJ/Aa54zIdDy0npw0/SZ7mKADn9iKGukc96z3ihT/mb1ujPO1fL+Y/GvVV7MQaCvKh7Ysa0/ALE/XZgPZaPSesYwkv/TI1NuT/V3HuX1oCWZeknnF8Hfys0EqEMk3+nkHNbOW/zNjefEEyDnZrm5WKiTUt7ihawRPNu8pGT8MjowAn6yk3611zyI1S8eH0V12vGhtOXUp/5XRUCAmgzMiMQvic7PGJ8W0yqoq4kyJBae12k96/YeL2ybnfP2dlx8KRjFHMKRbu6i6JBlQAAAVxBmohJqEFsmUwIV//+OEAAA3equCIw1AEe83x8bB1mMfm1gPjvfHwpex8+sazTD/aifOEMa6mBYrMfjTIKjBO++i0E0wSyuY8QvV6+5mqDqBXOBTg6mqqQtvYwjjdzR8xsqtsHKwwkirGnbcdzREtLkXZoq6oD+FtRjsaSVgMA8Udj/s2QC9zVGq0oZAFOVjkGb3d8iwo0mMI9iR32DpUsTpLWrWs6HCEliJEWFuv1YPl5dXgH0rX06ChyUzXqtbvUTo5j6v1/FAZaST6yFk+nSSRn0xm8VNStKIRTaCA2UiVsc4oMuelPDo7vFPwT69zzL+8JqBPX0Ni6woNxnkmjfvR0BUfylBur1NkDmWGf3mbaM2MLODS0qQfdX8NN5E5Th67/e+BxbN/tTzQqBhKIhtmsgqsr5ox9yn0tUWoFWitHATzXTwio1evAKnh11fZAIPpuFfzTMXOqTsEAAADWQZ6mRRUsK/8BUeTR/ubcVm5qyAlf2CTN9BXvCFfyOlNRclc9ed/3ZxZfmql/i0h1YArFuV99MseHf/DqgBbhcDSB9XITmue+c9j7s4kwj7LaOMLRLfmQBYbA93sM/DB/gfYU0DJySb4GJoGqlBxmudruwnR96jbYTXbh9OK++URVZfpfwrq01622tNSSY1/z4px8UpUAZDgZo6b/k8uVx9f1BP3rTP+HBZQeR2E7iiBhHZUzxYhZPALgF56zor85lTtlVx6N0xw0QnI9qbPe9dDBv5AJ2QAAANABnsV0Qn8BrfOMfZPElGiayoWmdZoAoODuWieuIKK+YtE4J68XTW51vC2ICzKZQoGL/EzDGCvmUEXi0CuXSa0F2YicqKnTcECAZHTU2Neh5/75g9E6ZjJVM9fhRRBcKVbc0QS68rwD7KN04sX+pewjJgokg0+hcFva8iD5YglnNZGIp1GmENJ8NBpKlgUM2qWEQE2n+d57zjfCTpynVGisQJHgz1HrKHLwb1ZH6Ffs28NUF7SKgajY74RJsLFuaeWZ2pd+SutGeG8LqsqEzDFhAAAAxAGex2pCfwGueMyHQ8tJ6cNP0mdyIJuKkKpkAOgVb0uieANLPrGcmkCTgjMVxVo7iaytzamPL76GsociOqnwiAKOD+a6hYkkat1ssdj7Pfgsz+lkrcYAFoOg21BAZhQRT9qKsA0P1GtOU7waef3nmnamJ2PRj5rdqfn4egtYvbnShMYNmoCAMhtKcPemKTMJfOICxjImC5OD7a/i7IFVtKCOUay+o+ZUpIVnuIj52aZ+bSloPhr1rTGPI76OfiXCbKMgC8gAAAEqQZrMSahBbJlMCF///oywAADk+t4CFdfBFtogBwduqv0IYAws/qfJFLvf0z7/dwqi1uxP1qn7P+HjWHyCfT41AiDKvPOiCa5QVS2OHHjZqCEkWpHIEGAtmT3l44oOlT8SW8//QdB/g9+kNPSpeBZuuGofX84j6UU6RBh3p+1VaPHWfO7cprdgubWX8pX9cMOsZm6uW+DOQ9Xe0kI/uLFiI84rZlJyiHgF+N0/Xpa1TUClHnP4VMJogHK3Jh/F5gdkXmEC0DOlomw6+vcYefO9dkBUERmQgkPs4brnZ/zx1giRZqW+W6uhRhtPycJssCexnvVSucUwTekig7a4dGsiw0ij2X7x40BfxhQ8Xr9Q1+wEQ1MQX8wFEws5UTMkhK6eU/NXVFMUBj9FjQAAANVBnupFFSwr/wFR5NH+5txWbmrICV/YJM30FfR1OsNA04KQ4TQAbcQrQ0Vnjq89T8d8jEnRZYQUtaUPxXxk3n3F16PKNKzlfB8XMKS7nzU4itCngad1zns8qpSL3bBLmB1LRZwA4RbGzJpzYyxUK+OT/KKvuTua67TknH2NZ/S2CPZY+uafRirKjalkNULP1GCq74chcBniU5iq0ViyKDZJG0Eiil8Ki0lHEeD7yCY46mWRoF+R2k+LovOLItmMatmD6NxwmjlrFyzGvQw283F8mKbKB00AAACjAZ8JdEJ/Aa3zjH2TxJRomsqFpb1MJoQzU6rAPnt57UwXB5gVO7eqh8AMuNclMOtj+vA7ZNvd6tSh1V0o8IVWV0ziJtqIH+YLcxoYIibYCL+6OV40b3aZIvDk+gTN2EJo7x4D3dipQA3mwQ3W2evC3sUKTXbbzlgaw5pZcDXkeMACjLv+J/SiD2fD6Fods63gVQ8/gQZ/rfz3Glb86uoCLdQImAAAAOEBnwtqQn8BrnjMh0PLSenDT9I9ZBfb3zIAah6N19R4IfgT/BCgokTJ+K9EbWLC3LqHbFWRW2KFMASIKhsdYuTqDBERiR825gWgAxaoA83/ixhppweVL0lTfLGubUMLfpKJVjhZcXxvvFtaiU6VhxMvAU/zNmVWi5azXPUxpgPu+Bg92NpOYkpaoVzTbT33Bgj3xu9HgcpS34/3Q1JFqQfSF0COZvJREOIs8e+4B3UFx6RoOTgJDK12gRAaVyV21BTJrAiYl5BQAjPXY1mGYdBY/d4vOPVZ8T5Hf0SDY8h3wk4AAAERQZsQSahBbJlMCF///oywAABZvcz1OyFf0zB/algBW1WIragHPIluozJvOfLTOtJQ+Z0/vtWjVwzdZxzwYeVH9QZwhYasTyVLh85s50x1zip9mM66XS6GWHF013P/m2sga9PxlYuUPvKiqz8Wt2IvcJArTE61YBQBfKExAiHPZSZszk6D3en4IvcHwCI0hU/YO6ctfzO6zkotBT0aPsGZOB6t0ylp1uBcdrKv0v4Tbuhn4uew7yIyHxq43/BEm5xUp1a1mYAKuLm7H9ZPu1ibYYLix7EYJjEQG9EoWUlKQ4tC4/3FI+XcQXN7hadSavbMjCG4ulw0hOoQtws8TxvzOSKXhOoyBOACNZEKBGarzoKDAAAAxEGfLkUVLCv/AVHk0f7m3FZuasgJX9gkzfQUOHdBUQFSCKADZqT56vKQOCQBCIpscTeAn7d6BdBtceo5IQ/lT3bABCc/mbIm8OIs2mRnyMiHwNTc6QtexVrUNvzNfebynvwPDLTLbfuNCrSSsbUAqnTtjRUt+iqD+oDOO59YuUw/jKMkED3wzzrdPUxQ4YNV6YqDCzNHz8rOXC1GEfVpsIXdAlI/do68mXSCkHZmQ8coWWyO3y820toGrRNPQY5b/oIoA6cAAADGAZ9NdEJ/Aa3zjH2TxJRomsqFMxzsIArrlLIq0iVsgwN/6fPIcocDsB9QBGOKXD55CA7EXLhI9H2f7BXdg/EI30xCIYl7XiFWU6iU4yUVim5zHpReT1hlag+doINK31VQRVdOC1FrpM13G4g4hMbJUzUjdbH+sM9tnkMjKr4UJcdc6/N6eyNCOwijD5I482n0JN8hmOn8JF1T5ATn5NSPlClB7c80XdQxRX86u1aF5nKbrufha1oENDoSiQKESHP2zJcEOeG9AAAArQGfT2pCfwGueMyHQ8tJ6cNP0jeN1ukAa2KviC5aeai6kRZHAf9u8N6J5jattc5zy86HHCPK0gCJPmlvYFjmjMbLKxW9Q8xp5lQ8o4RjitIuR42KFVZj4cHFbLb7FekAUhOBmmfyMn4tJS9VhmNPzm/arGLvSCz1GLtYOZgWAXp6s0nuldVkzVC/d5k13U5zV7jTpusjix3biMCiLrcRjKVRCoBjk5BMLRqQM4akAAABT0GbVEmoQWyZTAhX//44QAAAdo8Ca1+tHTYxUo0m0q3Jhm2HImMPWJY92x3VIM0MAhVa8PTmyNOfVASkzeFUp1Pz1DItGDhDlnh1g6tfzfLBZnuX4H8kiBn+XNXZ7cpcunjH2R+/EO7fUeZYpPjK6eJrKvJoeFctGKP0jUCRIHSOflrQkzALcEUQWCgr2CQpfyxW5CPNlau5vIvSCX//zrt9awae4csun4zSrd15L0CLiVTgG5V+Ry1oedGED4s3zGCiDQHYryUh1qZJDafaZFbMakfYfTww9xSVx4PvH2GNsK7ehZ9BGmT6OncSJ4WcYEzT5+ftvfZlq6uppDGgIO+BqRw/qZOQ8rvUiEayR2quq6KJz/RPVZBORID9+yuQ36tVwECg8PYU0YFxO71ILrRHUKHGaj0NWsT30G82T9Z8EOF+L4a1Ej165RkdmFnLAAAA0kGfckUVLCv/AVHk0f7m3FZuasgJX9gkzfQUNFfwqTy3gFJNKYWTeqRNCKFRA/W61WdLoWnNWGvNlVfyfmHux+atWDywjkQaVpW9IStizVeMZ+6sCTflEPLCBvWi7RXW2Xp/PoQ3BJ6Q12Fa4zvc0tZuBRXB1xFtKgGtHV+TFmNiqyRH1/xdhjE5zHQkEJgCNvGlNCKyADmIfcLNBAdMhLIJMeO/JlGicd35DaWyBN7MUqYdzuRJTSEPi4eZWOnsFEVvNRaCyntXtgK9xpIHDDgBhQAAAOIBn5F0Qn8BrfOMfZPElGiayoUh6Ki/G/hMgBRpe3OPAAY/yg9ZSCiPetSZXredNcWeawF4DfE0W/rmBstBcJqHydnwuuy91fuHdPuUYW/9JrX1JhN32o/AzZYku4eUzh5QtK4XlzMTIVQzVQYKOGIqSia9wQ//Cwzl2Au+UPRoY6ZCq1EGrswG5/qWtneg3fObloRKLMxor6CRfSKExsd9Zy3NqG33haRIa2AFXG/pUw1ZKQRHKqQbHfYgt0MR87O3RnyOWuBfmWP1Um3iAdRYbPSJL7etyKxxRTNzSIJasAHhAAAA3gGfk2pCfwGueMyHQ8tJ6cNP0jeGGvKdgDmG5IWiMOCTrmPNiHzV2AG644Wumr/rg54tIoPp15bkcOoWu8Iah3a4QdAzLWgy/2/oleAtOsN9F5ELAsugKmRjFQ7MF0LXXd7p+aEayMdazdz5nu8KDPgOlMSc9883kSjExSJJUT7iaK1JeHV1AinQaVuf3pIbasIf/ozFZIHYvZq2Ub290+41idGc1khopuH7H1fdv58n3ux6MDkEZVozPs1ZcVTukIPKVk0PPoTTr6OKYdwogugCCsP5Fs3trqVyEaEMqAAAAThBm5hJqEFsmUwIV//+OEAAAG73/pGi9GjckVDuKN9fADgx8J33DpycMtZ7rBhFU3ePfS9geztq0DAmV7VKRjT2WB2veWfLLZ5Ci/4aygg0Q80EjzfqYSYizp+4myJXlU2T5vfVCMc1BmFwWFqs3l50SSYan4A/WKKY9AY+FPI2j4vlBzTYPwn3gnwi+w7q+bomkD2uPIjc+pi/gsjr+hdld83/+K5RFn44vdaUroW0ITps4ZusevF/XlWHBSatr2MP74YJ9L8da7rFU+8VQntittjiCxcYcQJG8Z3qikSoZG2ajkifIGY/M4Pvzf9qZvwxklEDhaTpIg2muWuegg+A7FpblFEdW5Uqu7SQ8pz2jWkXZSm/4sT/ODBGNW25wR+I2HkTmUay+ATCsxP6Zbv5FBi8ItgYXukAAADXQZ+2RRUsK/8BUeTR/ubcVm5qyAlf2CTN9BQ0V/Ce1Q0m2xtOAIk+/86jsPTyWLNZ2wEt4aPwZW4/7meypkU7+oZ+uRPre9kxpumJ1GHJArIU45kDlfva4B8813DGmgA5FlcoD4Kvvbv6Nm7kP4um+4KjsW5eJlpef/SOu+7oFtGMq2xeX9a2w92gWIJa9fBzg4M2dFp6lelD7lmWZHY+HiaLLG/RMj6tUi5Lzl6lRQQyd8OKBsqTTJrxLklPDnquPyOgxZ4pzZ91Zml5cCLeovEp9yNhwf4AAADVAZ/VdEJ/Aa3zjH2TxJRomsqFIehuTA1awXRQBAvtT3BZ7HE13aFmq3mvJaXO94UrVHf93/YnYiYG3sKK3e2j3TyKTvunTgeLUGxpcB/ui3aE/rv5dvaGU1lPeTP3wZOKiV+9a9uWmTaydEymjPJu7HHX29A2JmPscp/H2MMTZJ62h9pGdAsX+uBNCSS1XA8zVdKlgM2jvoPAyy6xDLZmCSMWkItliCkCbVRxDMb6UXs67c7K3tq7/eUcYmistyQuU555kpDf7OoSrbWsozw+pvZGQAtJAAAAtQGf12pCfwGueMyHQ8tJ6cNP0jeGCVHUX84GmyANdNvEycfL+apfZ00lm7bYVujpdFlq0ZSAed1j5+J3mrZsSCyeNENvjWTfK/D07PD63FqTol3xzuVsIucdP0IypFB/+SZGmA+ewKciPiEg2jjFmEzdV53MydGV1tzt02iprDF/7BM9qHQ0+7D1sPxYjUQx3joSGBlJnswIGTLefs4+xVv+lWLWixYKsfB8yMtGeK8CAXEAFBEAAAEoQZvcSahBbJlMCF///oywAAAMt63bn0ZCKe3WTpEgBh8apET4h/j/3+/wzv18fVT1A9z/3HrdroPtnCHEmKBTMnZfFMg0YIvK2EdZX4JiOjJcP/VRgtEcLnxO2CIiy7pkJIxjUPcsu3x1JKTaf2XVCmCiZmwFqddv4tiCkWrSbQmH9UpXOutuOUai2gYmOJPYbCk3Rxals+IxQq3dLGIPpwUadiV9S6l1q+8Ujz5RTUf6E5LF69LoMdEhWZshkDL/hOuR1DRHiWnNrCulUxrx2PhjidKXKzlSvzKUW3WDwCONp4zI/+tm7gYE6J9vdc2iFXocbJVojZGXAF4vg3p94RJGTUzIe+nRSkN8x6zaKBIKjwe8e6TTqT9ifM/mbdLVadR7aBKbW7YAAADDQZ/6RRUsK/8BUeTR/ubcVm5qyAlf2CTN9BQ0V/CbcI5vOeAQBc3L5ZjA7N3RGqcXm/bgmjsjysgA4aZWiSPDYERMkNY1lgq9VaAlFGsUBlb5UWsWirzlq4UsPSVrbhYChRlW3AkVrocz6k5EgSe7Gj0ELGMlolcEKAAo6egebbswAzSP37wRe8f0XJLpeKgWjnZ31p8jVR0Cu49fEiKnusdkeLhUiV/XyhtBYXcZFB+l+QupjqLu97QuSIV47c1poAHdAAAA0gGeGXRCfwGt84x9k8SUaJrKhSHoPL6fXlAHJ7Es5oqjo9YtLW0Jy9bN40JLhSucB+zCXAmkrOzwuszy44hCs0gg4OF+Ause8aMR79MWrrF0k3m3EA+f8GYX/SsI8fsIfNA2wfcypSd1v6axNyZmlPWl812t2SvlVcB8wH99eQLm+ez+dQn/zLGRq8qJNGg3GTJSSGLsfmnneLh6uyMVXhtFG411nNPjOlwdzwfhLvpRvhBjKXq8jrROTooBsQ1p71LbEMqt4rIMpKRgAmyCukAVsAAAAMEBnhtqQn8BrnjMh0PLSenDT9I3hf8us56p4SqgjRYTFIPCO/4mUABuJKz5Lvr0XnoNR4wvhJgufVW0GjDu2+u5nSusUZwVPw9nc2pVVbtvh9ozcI+LZfVSVaQrlO/+q0Lm8h3R6l6XW7RG4c/d9JVV+VWJZVFje1unCIfCmPNk1TNRnrKfeNOYOTmBG2FrckFD7OnwUsjM+q5SyKtIlbIMDGS6gwr+KXE3/Y6BmMUZHEQbSrsvhIHunEwZWJKuOEnBAAABSUGaAEmoQWyZTAhf//6MsAAACu8yvbRHaacASm4KywCmjlcvJCAJz9J9+SsrlsB5+/Me4Q+RbHwZy02G5U+p4uIiNARCPL0f/RrZzIrzYHUThbt8ao9wJGYSQI67pLpPsyXtKvyBRfJQis2Yzj43Rv9swi52nZaUswvhvodG0HrFMVVM+fbJa1hJSYPGxB2ugU2erbNIwNZtmxQLzNbNEZJTCwu38sIoZu0KrRC0JldegDrh24jLg+9j+hxA2ounuOW7pvfC6tkIkmCeC8uQ7QMcqmu+Q3SVifeSh6xSeRGCgJYy3CJkSA0WBm41V8XYBoalKDJC6Vk57xUdA7aSPq4gVtrJshdjjcfa3viW22aq7eLSvG8Ty7Bb1nV1I5nW6jyFxBjctDBeYIVWGGUt2XKhjO9KjXb3veb7txPYja2B1S3TewtgH/lTAAAAvkGePkUVLCv/AVHk0f7m3FZuasgJX9gkzfQUNFfwm3B3dEslYV2fTBjaBot3gA4EVryUQKf7msDhunKI5YXF+Hgrly8LL423YfdMXeEHzbCf7N3oKUtCUmN8fmTk1FMvDpVac++Dv61S6+wZj/ean19dARqeUV+MIYBjAS1wkXjEdBUtYyZKUMjTU+hmGTDQ07xByUKQtuJfqFfEpl/PmqrF8xi4h/oKzmKgVMQ6KwJrnBvs4acuwONvljYA44AAAADEAZ5ddEJ/Aa3zjH2TxJRomsqFIeg8uyF9m0tsxn24wjIANSOof5Yle9uBqGcod+ubYNc+tpOz3gtRv+A6t/EU29ChgFc1nzWNW46xl2qm1PjgZsro9pPIMREPOR9ddGW1KxGuy6QvPWwBGjEZsnVTVxxiyBPuS+wjziGna3Y8prfKAv7c5GiejTOEXyZ/njqV3P2wF7AV54rF3Klwuz99iGNKSSSqdTCd1aFaV4FGOrShTnRFxCU8y4U4UFV8WOAQmIAS8AAAANMBnl9qQn8BrnjMh0PLSenDT9I3hf8us56p4S+Qr784AOPBQ8Ru9iAtA7kEu2kj6H+PtO25x3/3e98XPD/FltukcNaVSAX4UGYT58c7s0SCkzxzmGWl8R1aZaeG852+eNppjswVMQ/K/aMRT8018MqVf5sEAwBzb2shVI0bdQ0buqviUJycrL2MzFWndqRJK8Ivmej7diI2vPeHvkzD7BPRa+m5V5W9kJA2qrzxvei6UoQ7D7hwMGEHHTbT8DW2jYwknB/V9O6NAW72nO6pkLb4zoa1AAABM0GaREmoQWyZTAhf//6MsAAACqcy5eG45dSU7ZhxI3gAiYnMHT7ab5gZr1owvCEYwQBAMI4nZCjFchFSl4DllO+eiNL8HnmMGuW1bmVxMAEBJmwmnLzMZeF+e6v/xgeIKhQtzsYLYvSI4U+OH+2YGYyaFDVlw6R5C42+V9XnSutB53AMY9VkJFVf0e3BKIShWHdNhtzuZjPochEjw01LxexoZe8mXxwxeeU/IbWly6OLakDaVWICLfAN6gRhnkRCLmKWZCdxc5MR4gzEq5QXOBKnrory4xe8SAafleiNZ1KVihLZiatL4b8yZgjHygUY5KDH9FdMqDeEOO72MMV4sHMaA8rTdVRqImoYU82q8yU9ykrMwMy8JGXLN9TX0wsvy6xPTcuhE10BGzLgawif1SqdWhAAAADmQZ5iRRUsK/8BUeTR/ubcVm5qyAlf2CTN9BQ0V/CbcHY09Z8yCm31GAIv7zN3h7VNV/CLo+BzeE3EVFXZ++rUfaEJbBUqsKcw27HKXgxn/lwJX5dEv2wH/37UCIjxq0nkN1bgptXK5JcneUgznOTlrIee30z510Jkqb99j0nIIOdqZ0N97EqaKv3i7nYecVSNW50yiDYXjauhjO/x+jpQw744SBFtZgNGnfRpUEGSGa4di7DTGqg7sds+UbT0C+Ra/MdbH4l48ADlskQgamFKqgzpxk0q/LgtOc5sQmmNU/MhkXkACNkAAAC9AZ6BdEJ/Aa3zjH2TxJRomsqFIeg8uwvgm9MdfYmLW4AOLE+dJQIeLybWIm7N7fri5VxwS7DEeuspDg58vgxrJ4upGxd6NA6Qs6aJr79U7jX1onGwZzEvd2zv2EYmB5qDcp4dUS6V74hQ3w7x9avx67bg9Fes3ejAOTvXfgiHxBpmk1HcFZ3GGUsN4DkcxSEMFCcn0Jz9lKtW3QrGzlmdgOfGyWNgzNZ+5iMNB4y7xLk4U4NAHkmwUJrJMAHBAAAArAGeg2pCfwGueMyHQ8tJ6cNP0jeF/y6qXwtYqYALDxEPfzfij5CU1xLSYNHQvKHbmKpnfGDUbqb7MBLOOhj33UkGiUbgLVRhj4DY1yaeX0Ga1yNKnUYb79xP+lvZyBccxgVvgqc26QzYW2r0VxZpgaWwrx3lyJM/TgnQ9JoXKWebaZaHRpDX+v8Af5BHdUof6AgwDPm5kir0+2dbb37SEX2Px2v5B3kdgtAAUkEAAAE9QZqISahBbJlMCG///qeEAAADAqPMu1XSycm2gN5p4AQ2RIJ9EXl0O8IQiNkKpj/LuQw46vUO1izL2cP+V3i2Q08FRyGaUutxfZlmAYvfPeDBerNFFmcAKYUstvzOOF9LO64XxUnPQYhPA35I/Tl+Zf0fSusnMPAYnX6YnRjYI0Wkx3eI09eHYHC+o3sDV7lsViL/RtRPUsQHpf0F18smUTgarsYNdxfIgfJTwkae67hwOn2GKX5DhKXQOAvk8EDhNA/sFLaTqHqyY+xZ/LhPPJdmZL3uMCyvZbdCQRf0f8vc0s0JFMRBR6AU6vgJjqfYmlPIsNyWouzQohRvGtBmr/kUVZQnKz41A82lOwAywYPEJU/4Qg1sC/x9A2Y2hUto7JGsq5ajAcCO85V71Awic5Wrl+7C/wT1RtYjj4EAAACyQZ6mRRUsK/8BUeTR/ubcVm5qyAlf2CTN9BQ0V/CbcHeBc5aJJjFc0MACU/xhq3+sAQiB+KQsrjAgLf1QPxNBOJjseP472Ir38LNYsgVZg+/O/Exq8JWYWWF+3ZVdwrvP4oWQ+7rydmCwQNNre9UwES7+jjaRLpZk/0Wqhgk/+JI4893//ey2T2fFq5pT2tc/WmrJkYAnUxYlJaBz3fdY7dl5ieugTx8Gg+7JDY9XAkDfgQAAANsBnsV0Qn8BrfOMfZPElGiayoUh6Dy7HKvuOeRvFAFU/7h4sDFt4UD5umkE+Q++7S2efknkob7zv1D+vWjtzMqmPYtuLcF6hh/4/co6Vcyj+9tFHzK0kMHixp3tVwR56+CtfHeUhbTZoBHVNJ01sSMLWS4KzHf+IfTuVLcOzxVCs1ZIXBirXSFluJcOMcCm8Qvgv+cwpIHFUAxOCsANjwVQPQQbb49RMrUcCVUkiMFuhZvDUUPJ6TsEFoNXz8fvtcjHXUttc5m/BrmJvrG9l3ANsAM3Lwiy9P+ADekAAACuAZ7HakJ/Aa54zIdDy0npw0/SN4X/LqXXrQ4l9YIADRRgK61vA/BPMyXzBTzbQOGMPA/8QfKlb44q5klbDlK43TtwrcUcUkp99qaW04I726hLqkzEocC3yzHE3YIVjaU3DJKcUJ7YR8ZfzI5L8cCPfj4kOPsAIZ08frVpaKy4eSsZBVA49v4EVxBl15OT3Delj5XwDWVQndtgOq/n9jRDKVQm0Q5GTaaPQ8e0AOWAAAABKUGazEmoQWyZTAhv//6nhAAAAwKRzLtRTVA+q95N3MsdgQOjhv/oAINwmTXeRRvdUthNRexTC1027P78rzY2pmm4JUBXKgXdL/+SWECWSLqenubNAz7ZPzmNV88oorSA/blh5bRPvaFZbOvPGNVrox+/XHgK9GfIvYwV6GhZ4fk6QKMIR6POU3SXQgXRvD/XOV013j9TEJMr6/4Gdb2pEqBngAXqPxK9eMAtWdr+KkMLdqflpwhmShlM0pQJDwrST0d1YCDBq9c39q0RL2eZM2b7LcjVhOY4Cvjc9gAavo6lGZEEz0fkWPneluoWyCvxCWHN8nhI0C6toumxp38HpGO/EpDFxRWTbA6a3j/CKZoq+ZXv5qFEXeuyd+Ktmt4dmZKjz+4BALzqPgAAAPlBnupFFSwr/wFR5NH+5txWbmrICV/YJM30FDRX8Jtwc6h+t2cAIv3k6O31EGGRhdD+pZk8yuODM4kYHN5E7Yfmy/09iOGQMMQwmrtCTqQKYkbWSGlk/EF6xdQ2C9N95kjHXpUWZAFx8fkgyS0auujnVGPRObkw6LInqcfYmqDytrIsHISG+S/m+i4N5RyJtgAqc4dCkTL9c+5sbvqdCQmFAtYUqy/34bSfh+5pTBNP8d1pZyAW/0mC7Zu1qgZBs3qTSeRQQKQq3S1KHpwjdi5H8QX6P9LKa9AwfqhutQU1YND+k7vKagDzr9LioYQBzLLpnsXs1jYAIuEAAADWAZ8JdEJ/Aa3zjH2TxJRomsqFIeg8uuNf01DQCa9vobJqXoqNhhIki9SaZyzpF0yBtadm5QTxwr/OMZi135ScC90HIWOtGCaplp4Lkr051XEFywhPGRAcnsqefR0xWr4XKFSyuiDFaaAKBgc/m/g97iQc6e59Kb8+P+BC1we8xWuybSGIbrzm4jRMo+H4vEqLL9WX047KIRIdG2KTna1YXqlYemrvdph+SGx7hffNGZaFH4TwiUSoIyaHnXrC2YgQCaKdR7tQ385Te/frX5JuLeoXo4AdUAAAANwBnwtqQn8BrnjMh0PLSenDT9I3hf8uL/1xQAv9ia4mB+RG3gXpOXosawsPMVfuuCdrclHwyqn8+ll174H5Uy1aiXqP3c4y3cPnXopA2tRHVQv+5sLfHRjK1HXC6o6Z4AzVJ5EEXJ3zR3EY/Diq4pvQRK9kRUmJRJ/vG08mzLZqynKEVw0UKi/aniVYrCzv+Si/D991gHvfp1bmntHoDXPV3DsyWUUITamYU/873CuAAgYEkgNBHbIdewwJDyTCjcw7Z3KBemJzFu5BIzJedtAdy8dXurMwEUZcgA7oAAABfUGbEEmoQWyZTAhv//6nhAAAAwD9rtBKGXZAHJ29mzFVnrL4wvpZBE0FDOtETXsaACCH3x8O2iFwMYMhUAhG6vNtJp7K6oQia0Gd3TV1C7ebm2ksjGLsFLjv7HSJ4odXMK/HTbnd6uc68fp/NFDhQ1kZBKy5c7vwhlEOAM9xC5TCs7dKAU/JGhQu2QyjVQBKcD/1El61/NFeVMDVTRNFbvRltzfBAsqJkiA6TgppbgVQPy/PdanwxjR3/FP++rJM+YbyRPRXcnNl79oFSI3Yy6cUVft13kOg67oZ6p6PfOfIV/ML0LiVyJHLJ7x9i6bXU/QyNwAry6BMJDzOQ7fzhbkRkQucUxWnlt1NuUUJUtWgcp8thuEy+/fcEQxDdwo+0Ab7BjVLN//fIQwZCy2nwGygfyv8qKI+Eizc4gVInOriCGGp+Fvyv50wmRLzZ+kJlruSXYtscTwy2mVqm5Y7vnxYVtv/Nm7jDk/J88eOi0EwHIm9aZIOnJQ71UghcQAAAOpBny5FFSwr/wFR5NH+5txWbmrICV/YJM30FDRX8JtwTdM2t5Xk/6UBpYrpCAGblgDfofM1V1LEgEpkelXawZvI4WgfxoLaZcu0tj7GdpXTPvPM9rZsyogc/X7vXFFuSsQD6NKuuMktoOsaThc2h/q/otMT+tWT4H01wyOdttJ+gqrB/JGT5LB6x9mxB5G23HtP4F0yR9OcV/v4ht3xUx2ERNDd4PhU5+q/2FXaNW86S93+wIzY3S4CRUCXcDwEB6IrUisOtDovfk/E/3YclZdhHPaO9veJkUwJDS6Lp8ak5RLFMCMmp24gVsEAAADrAZ9NdEJ/Aa3zjH2TxJRomsqFIeg8uLG5dX/gcKm/RD/93CAA1I7bqzQDcvEAtfkyteuadK6IIKe/L916eBZWiA+I7emAoEgOdvew1pnKB5ofMquEaM2VaL8CNjnhTl1XHipjGcfgjJmpHEmfTful43V9LAtlnIPKCh8iOnTgcO/XzIlxXGVtJSawkQ3GG7Iy6uvH8WKAjP36HONllSCaDgZZWAep5ZP39vlSh5YA6qv7Vb749VSBanLqBMq+ZfGgH7i+fYGhLey/Zi0fGzAFCYqFkYR6X9TuS6QtK/ja3qXZ2zu4lv/9k5ADAwAAALsBn09qQn8BrnjMh0PLSenDT9I3hf8uKeeqxmLgqnLZwAjSJpdkLpYQA2nhl1ujyOIb9efXgFBebsnXS0XHlMNjsP0AgS6lAflLQ1iespxDgJkIMXZyoPHVoA/N0u+UoEGb4k+Rr99aLFjNxvGXUZLhHKW6hXZvChFYNIMsik/FcvTZaEzJR9Qa2g1YkDsJspEGd/o/cYQ0oPiUjvrNKwhO0BaGO4R0WK5kjFLp2EFFZ2exF7d/jQixgC7gAAABxUGbVEmoQWyZTAhv//6nhAAAAwD+/yMNqstpu3pzjYcWxHQYChhpqACRy70q42yfo0HV3VMb9PRD5mbj38FRI03ServYg7qi2g7r5SzTC+wPQRgQeqx3Dl4KF6W3OgqntOTVil5jqEVHk6eGwp1trcrnlf1xOLjQ8GhNaUFXnaE8T8UuCr8ygriv9NWsF0CIMUs1qYILfatoV4TsRt3AniYJq9KL0SJ0x09y2R01wAMRhY7pf8jQEQakQkgNtRA9lRwf7Sx9Y576VAQHLOTUkRtt6vtVDhhhB3tpvSU6My5t6UCrCQC1v/6QnRKVqmmY8p3fZQKJiWceM/sMxOalnYZOvZGb+ZPId7joCHkuv2BIvFqvCoxHCX3lWBy+jIcFOBaJHRzUg63QCGZkfnda9RBTU5tTe5OvB0nry8YRIGICILUi8iN5DebcwcZtRKbCryufkHj/lOIaMAcbgNpgmseWlu3xrKeGdOXzOhcx7XuNcqww0MRDbatFAE0kljsjs7u0oX+yiuuZjy+dsEA06kQT2BKA9oWuSikISZ8Gs4vCtgiTvi72I65N9XQECmgsgezA5Xki6HyyjY/vbNrRlqQhtNaqwAAAAOdBn3JFFSwr/wFR5NH+5txWbmrICV/YJM30FDRX8JtwTckKu+tZ+iYlnEKOGYWkNHWHNVACWx5OiOskByUp+IT99O6EnCJe12N0Nj4yE4TVj/CWxBJVZPkbwg31Ry4/yWzFYZyw0UdYgb1ljbO7a8Wj9lS3PPeVaNEmTvNvEnjk5iP8GeTcIkHQkJU+xQVPfeglcU8keeZLLKDE3Icq/C8pujaG4sux16xXZ91WLqdGQ0cKpnuCBDmuzenpRPXI2zAew12BlfePhdgdaI9wvPCQhor3Sr+MT8taNXnGUa9ckq7eHwgADwkAAAC0AZ+RdEJ/Aa3zjH2TxJRomsqFIeg8uLG5tn9VOWv+xAABf7LuP2YMALvYSiqY5yef44XvCw+544V9A7uz4EPeKtXlwv3Z6es8pkfdXrEOmj6nudt6+uHjDYUpG9zLCUtLaDiEX+3/iMgj05pa0HL0QLA5Vq8OxVFjle/gqFnM+m2takn8FDgjU+7Nw8Lmzct/pHp5GcvBUhNhuPcapC7WoqzG3KXdmxmuw0jzY2judAZdgOOAAAAAwwGfk2pCfwGueMyHQ8tJ6cNP0jeF/y4qDOW8mwKG22C7f5ACKvjglzRF86WUv0UdEURt3Y6AKRZWOZ+s/8ubg2dFCBzq25N/0dJ/MwmdNQhKAs/ngPoOeLnTSU7j11lNs8JCaT07cbORB12cXzgi7vPjyEr8THNg8M6Tw+/3seijWZz5Okx/cQEHX2JOxWlrTrGARQoUFncSkdFXjqAiMFmELEOHWAh9jKh1XlFEvoT7ODO4UFl0spAma7zQPsM6MAB0wAAAAWZBm5hJqEFsmUwIb//+p4QAAAMA+X9H2TAIBOCcrGNiAm0nY3ObA7ZfyQw7CcZ01ya1vP168KF1AGLlgZs0DjUT2eLURqDkdtQFaqiVkaH0tVPpANiZaGfYMTkqzvLLAhwJ6WFgkzNvTJY2Tj3amqhgy+RH4jzqCaM0tCQ8mkUOrC2nq5u5NwnGXEpRfuRRbIaEljygWks2hAexxJeYg/zs/5E0q32eCcBXsasNjpHVSvaJJh3nL3fOhPjVnf348kIDAO6phmAFD5KSaifsmmjPMU5jJ0W/5VILc2A4EzxzSBzbkzkoe9FvFY4PC9KII26DSxCkT5F18KEcmvgT3q4pdDjTAEWvjtURLSE+wk9POz40dSP0IwqyfAbdm061lP/QrUk/lyGzzsGzjYwLABV7sd/ltgte3GFFxf8odtRU4EDyeTEzvPjmP8n7lDUFVDpKINv7lJ8wf4jiQ5B/cV8tBUno4XuhAAAA4UGftkUVLCv/AVHk0f7m3FZuasgJX9gkzfQUNFfwm3BNfOMOm1v+5jEAIbkn8l0XZauQnAiG7hl+LrY5VW58kiSTTv7JadK5hTfc/mx8aGv1yWEpXdF7QH8U3LwmouOQGXRPDUhNSJ+qNtjYwfw1r2mGKopLLbi6asmYpwsbCP2XWAS+Zxsd0jWdOlcj5RaePOW4PBoj7blQCEASr0c7NAMlTxa5Zla6CxPlWrzgOAJ1cNYmP0XLTSjbgaZlcMdvfNpnAaLneB2PmDK274a6U8+tD5N5aYzMrZM1NZ5l1Hg7oAAAALoBn9V0Qn8BrfOMfZPElGiayoUh6Dy4rMvwHqRBDqjj6iy24AHHs/iRqUkQnzCZJYiLjcoCFYTMIzFZaHILXcheJXQ2FI+p5RCYu+f9z4QKKKBjj0/a3jxB1KCxfOT0cpY49bkiIaDvCiveygJ+jVdx48REqCMhX1VjK7aOG7ovMxGuuXK8gegEiC5HMdTFF1VcT6h/dQXxaO8pE4beaLGhcaKAJz0/jHAzhodyVx6G4vc8NkvVRmQAB00AAAC4AZ/XakJ/Aa54zIdDy0npw0/SN4X/LhHFmT/KrgCERo3OO9GSTjQe4fAG/EodZeZDBn1+WPh4NdGXvObunr6Xb75oy7Z/ZldT+rkgByCiblnBKpV30opzuqwsGkxV6ghtlvJqmz0cxbtPgkv72QyeL6iT844w5v3UGN1GEciR6+Jo88eEMM80VQzNf3TZY8K/a83e2RyDx3j57uUBdN8y9MfQRKn1glvsd2fM3eFfSyJH9qMoj8DegQAAAW5Bm9xJqEFsmUwIb//+p4QAAAMA8/re5IoRNuzv/atAAukPVCBDSxA/RDJmycExzSnSL/kJxoh0nTSjPcjRgyrTxUjRbnMqVGhsGzrd2n9CDxN+fifXO+fIPxXIc3k1pfzzLKJlAyCCwjI/F481ZU6iYbmKHXoHbEWw3bM+5qYFSXACJuYdKGVBUqRUEuFq/mm3WTLYL6F721fzaRAy09icP69bChu0YQURsqE8rYVCUbk54bjxXZQJ4CBM89IIeygvQkOHhrY6q1C7HAp4cRqHMaIhJDCqokErWNRn59W3aaILk+aY5Dff04czLwV5fMFaCtClBL9npmc1OCRg6t0wFrO4uRtpT8b5yTw1PMBzhSMFk2XnbBBNyxihZeorfvCJ3wEqWtYDVYullw9cOmnrWPbNkkKw4ftpAumSIhrOrK5DO8MrSfQKMsEjMddd4VYUIWebKEOXYVZTErTRCU0YDaLhYelVA1HfVDCx8+AAAADJQZ/6RRUsK/8BUeTR/ubcVm5qyAlf2CTN9BQ0V/CbcE11KTkfPp8wAcrJv7vmwGZDN61x8J4AiXpV848gc5bflxYuqiwn/sJSKgGem/7d3dHuunSmfMEfXG0SsqJvam1dP+8UwqKbWaUeZUw0e8LgFp8DwfQFEt27DyK0/b+rjq4mKZQHMpa4NV9YZ6INvDKw0ygJXilg+lZu8+YeOydjtvSTCP8G5e3WS13XHcX0OIdzM/n6xinWmh64kaxEbU6So/L5nqs70AGfAAAAuQGeGXRCfwGt84x9k8SUaJrKhSHoPLixzrJOyklpHgCrJIfdJ5Zl3uqBMfiegXIKSTmRS9oAmMoPE9fNasCc+GngXvPLm6beEjseSNbivu1rKgcavlHru+3V5Y0D5bMOX+DTTWI/aXVPbUVpW1Q3onXjNJDSFKO/NbdWeqqM152PcFiI1Bo2GlqwWXDfNiDLafZyKj278L2tvgPuH3Tw7E4PI6Ta5Tvx4OYtF1rFRT827fo5wx9JmAFxAAAAqQGeG2pCfwGueMyHQ8tJ6cNP0jeF/y4qDGuq2uAOYdTxCDduFvOfqMQR0PXEYg97r8QbTrHHNUix9zRyIYO7wiAOArL4Cq1lV6hU7BOdNZWugphXJvGlo5IECjiKTmjQvXxIVj9Y7cQvNpaiooGcwpZAAg1VK/YW1q8GSjdQRFPbUABVC6CRBieLg8TenxzqElKAZlmv4ATkOaD2dWmM3BbWMZnA5K/AYsEAAAFvQZoASahBbJlMCG///qeEAAADAON7Ki1+gvF2ZYqvABlRv79Qpq79oXYF1QOjr/pTdTAjWLHEWmmEV2R7bjROomcDbu64jj5Dee4oKThXPckbhO/6wxvw7PoRpTQZgYFxxkBlSEgL3jZ2X+GSK655Kg+N+D5ybAlUVOV/RmmtgqNaHMk+Ym09NOrGY6tB0LgHPGlE60YZ86P1Quo5TqgM/X3o+YK53OR12+RU3U04fmahCU58iQtWqWF8LPoXO73koza4JsFQRLGew61T9dbkpCHvlvgzlHwHcxV2k1fTsAMvYWNz4yP/InHlbRmduoMH4Lhf19CPId51YolRJ3ro6xxgbB0BM0tmemnbFLxEzlhahXpaPZMM5kwHcABX2hPyIDqIhRkeufLseAoafsGwCky5ua53ctyHr21qjfvFXmduD6PQvASkqi0FbBg500gyqVc+7zVEIhbiVVtAHHaNuAxukQr55Ne46uE3a0A1lQAAALtBnj5FFSwr/wFR5NH+5txWbmrICV/YJM30FDRX8JtwTWmlSkKaAEMRaHgDI7mDU+7DRXVFUaqhVc72qH/P/uQQSfLkNQtMvpi+TMEGRsTiVJBmc5Qm+QageL0U1/2m+OximF3IgZKUu0bS868DwXZ7EH8ohPx9uF25sMA5y8IgpoaP9B39he27qEDl1t/Q4cqOTPrvJ17uano0ingApV7Cc5zmNSSDAlPm6xcSJf7kouIuOdggz+sDgEXAAAAAvwGeXXRCfwGt84x9k8SUaJrKhSHoPLisZ/SAXZFoTzMAUyO1gopj0TTTTMAE6hOE6SupXp5h0Rj3YoIMSzlyW7j7x2wHQLvSU0ta1y0bcYZmTi7tM48eKUcn9o146hrOtq9oCR8vhx3Awoo1GmOU5ORUs/a9cpST240yR/aC/3TqXrNSyqUK05m4Sq2SB8tIFE2xH/S5RJamXMW+Xr/a8Rbj8SikdGXMA/1uxp0rrBdIjnY0g/8QDVeJIozPACdgAAAAtQGeX2pCfwGueMyHQ8tJ6cNP0jeF/y4ouUWzv4A147vZQJRXkv4ewItlA8NFXDIjeD72zJlnxAydMB5GBMTJUmQyuvxNjBBLpK7SmGbKLJXwL6M5byKlEgB6QsxCBzaeqO/yDsXjoZVYvpJHwrth2JDAjj6ZTm3Qh15Mb9Sx3kBjTc0LeF9a9rhDoAXsP7kyFJMGSsWNmT36ZPgOj8y/qsPaHqcYWDaFPdFIsHf6UDzXs8cYb0EAAAFBQZpESahBbJlMCG///qeEAAADAPKYNpAyfd9KEigYEAes74IOaHmyZ44N1RsyYpdBVWHauFTxWl1IkL5jtEZ/t83VfpKQJ4wpkWL8nnXtPfUPbdrvsx/1c+clyVYKAz4HJW6dg5+gjO6XI+mPS4QYxRPrUnp4O73sEDQiFdq2qNidaUvlxiumELHHBvl6jdDMR/7Iz323VBrtfj3E81gdQLjaYoLiAL0UMLydkwSAN+evqlZaamfU3cRP+3SgnC4FkMaQJIOUDW5IdmtnYPN/YUoL7dV7uacv+d7O44Yy/5bKMEEkj09tiulJ9g3kd7czaI4VFdq3IKeNWbE1iFWD7rPNqLlG/4dhknMxwKRiG+mflQOvBDITuPQNQmbU04DJzTgrG5DZoJlQYYcf4Q29wMFod0GnU0NnLjsZ8z5FvTPGAAAA50GeYkUVLCv/AVHk0f7m3FZuasgJX9gkzfQUNFfwm3BNaeI6ROafMQAjH7NeSh9vepTy0aZLT47bwOAbMdN9y++qiJFA3hHhJ//LQKN9oUO9gz9kFAsxMdtuVQezmdWKypbIxX+mmu7f+pJlxBHMV8L3GZutkO1YuDvF7L8PZSP3/7rusN8JsNQdzXGHWarVoDm5oTk5RkQ+dn2ijKXUSimpMudVTMMp6HJxKeg8mGoiCpyKgcp3tELUeS2S5FlojeKpGuj66bpeg6CYNVIjFDrh/idsEKNFaAAb+SvW8ZC2oU0mngwKSQAAAKcBnoF0Qn8BrfOMfZPElGiayoUh6Dy4q1SU+Lt83SABYH9o1v8KzCEMRbIs6LFVqVtyyhrRPzBGNelwSK7sDAkUdmc7ROp3s/+YldzsUgDgHL1Zihyil3KmgYTCVygr+JZxRW+QN7kfmKxvDcpgOV0eZ17NCZOiORMI7+rEIDD1R4NSPhKForf2HImM3ee6aYlJrAxXK3UlMRhaa2Sxd0NjXyfwExyEHAAAAKEBnoNqQn8BrnjMh0PLSenDT9I3hf8uKIyNXhxoArQ5TqrKyNCgF+G5Plkz/HY3GDfxasu0dXAEbo1rWfOgZF1u0MOQJ33e59u3XaNzToS2VPQNpZR6ciOW/glasCZYug/U5W5t2qqL4y5/NhB1ISKvt8x0CICXFS5VmdcRTnb9KuDjarilv/yWVh4pn/iSZnCo2HkjcUZXI29PIH1DoTglYQAAAXpBmohJqEFsmUwIb//+p4QAAAMA8za0ykGyAamzK7kkjxTtW6TIfX/KRWa8RMP/Ik96CNROnApSwOQgcQbCooUO6DFOV6Zw9fbjCNeoRo3rW8cJyNcxclXJra9Rr80kcaKRrNcuayF5JfsojE8kZk3AkRkiIGrAYw5G9CkLLKsAO+U+DM0TatXBJTMbch4XpbYCcy4vJrxfqbGUdqywsNXzXYbXuz7tlCdNjsBLTv7FlMfPBAKYJrmsn1eLRyUtlBLu0PykQta5cDOFAZ8Za/O0sa0G9LeCVwh09HA78Enxv3GKS7eyywsvV+keU4R0DhLhbMcbKkP7VB2OScEZ76HTvIhrwkK0XJdYevr7oKjBqU5KcmXuRSYUYshhTAmXbhjUtoS1RO53AD5iZUlvTgF7DDDMmm0GsuX3D+3cULflxsipYdOhQdIlW1OsEfy9ODhTyYO7FkBEMl2bTdewtPVJ0VfzIZMaBxn/2WxrPW8AAzki0NTORQm9PLkAAAD1QZ6mRRUsK/8BUeTR/ubcVm5qyAlf2CTN9BQ0V/CbcE2ZseLKIFi6AEYE1os/9ZedjD+N5hPm6/s9++7SmWNxe7KD6IGCJIbPrCsdcmjo5Uk7btvMrVV/NlGQenzruKrYJX4Gk6THhprOMNTQVIxsAGfJ1n4Wud7lo1kGpp4Yj6WR6wTon598JxioF8v8HjZDcRhdZnNyOO+KCI8dcrvHuip3O0uecVC86cC5QvpWWIfavLGoRZRHg06uqYkpeAYHAewKdTpw01hIcHfcSVw/Q/E04PZvYlDkiC1piA7KtcESrmyaHDhRYQDnKxOIGpmaBrqDEXEAAAC9AZ7FdEJ/Aa3zjH2TxJRomsqFIeg8uKtUknOhp9xhaJHwwBD2Di/tWH2OO+QEfaCca80LrRcevLS3P+QvyVLt4qbJguHG2h9PlzHWXXehYpEozaBdu4CtUNefWpyk0JBJHVYynbWTiFN6XCwZccFhBL/8S8GApw/8lS+gdLbeQie9cixwuNh5aHBQSmwXPaz4TciOTusGRKiM9/CRdSgsnW8jroH1z4pWzydyNcTjLioWnUBXCkAcUvdKvhOxAAAAkgGex2pCfwGueMyHQ8tJ6cNP0jeF/y4ojI1VDS+E4gBX6MXyltk6jzb9mjygjq1b3ZhYwji2k0uvvoa4OhtfUC7BNjHiVWC+jFp4e2F/D6yEkTCsl9KDjJPRY5BaToURUnEKDkwrlDVN7ADE/qOS6w2H1TSK9UrMLhrHU4YfXg0J3IlL3j97S5OdkJ0D+QlrYEHAAAABM0GazEmoQWyZTAhv//6nhAAAAwDyhyYXFl7KcZdBgQ74ZvWSKDN50Hc3gCOmEEG8ahgm/ubEwTOcop96TUVaObsOXOX9CUBqdDt8zOj8GpAwbsambe9IFHA6QHH0eGbR5u7r7ATactWc+IwNed7AlidclW73rJLAhjSQ1GxuTorz4eQpM1a2bCw4bVy8w8AtOH9UDsnhy7HYKZ4egc1i2q+jxwE9ruXOt6SFwjBpiQXPkcGMUOz5gT4Hh9rleanrQdc0qYziw4eh96z8eEdhKv2OP+rcQCLwfu3qp6eB8q9BJNiPKPqY+Hr5f5x8xEIP3Eu4q9Dm4l4Y/g4qB6kcIuLctIFbMuzQ6lrpF5LJaazDh+5kao9T2LFV66MLmPYHmo9dwB2Pa/PMc4YR8D37085QRC4AAADOQZ7qRRUsK/8BUeTR/ubcVm5qyAlf2CTN9BQ0V/CbcE2ZseTe7RxJessrpCAFd5jKuzpI9yOmnNSHT9DiNkNKIAGrbfTSG+VkSn3xEGmQh7cuG7aYnt5bTfGeXSj05VGYd40qdEOrtyw/MXcVarCV4/miGLtmAhe1JuVjiSYDD8BzZsQlH1zp0FcCxDSqJ3qqFf9cYxjmSoOQoJxLBZ69QB9OT41VvwJ0wu7L4zo+K5CUoL4SCNIFDZCSLfFwB1hQOL65B2YNmAmVzP4AG/EAAAC0AZ8JdEJ/Aa3zjH2TxJRomsqFIeg8uKtUiqiPnGs4zr/OrgBVo0blwZ2R6waKxRa0DFxLVcy9UtoEKlm+3GW3++YEkwys/aRJrOjvYZZCZvZOAFQpnBTzQ8VTSsJB89I7MElD63FMOjDzUC7j6qtVhZnr5DH2oKvWQISDHoN6CFU35ksR7p9KKwsC/qf+NibdsEKXWASz+nMUjDocdo1nhussiAjQLsKakGG8R48tntlAAOmAAAAAwQGfC2pCfwGueMyHQ8tJ6cNP0jeF/y4ojIu+0hCOGZ6+jokAdAq5lGuQ/2Jt5xR4/VCbG+4XJpc6AxS852bgfwBGVin7rNYfvQAvFpMF+Nmf4jtGHD1SErceIK5Qa5Op2hdl5i48uvP/RUN1gt3H9DXwy85yQ5UYOvOHv9iofvp1J82cB9P2vvgXTXN2O95qbfdBhxgdcmk9WrREG/5b2MsfKF0ipal14QJx54jl3G6K470o1gPRYC0AmGbL7kkgb0AAAADaQZsOSahBbJlMFEw3//6nhAAAAwDyf9TJslaADpXJd1XIckXeCmkY4rRA8i8dV3TwGQxUjo6A5i1WDJ5IUYOFdZoG2lf8eXgRerDAF2G/qE7FuZdyRcBgVNFpfk9nOUzlRxlLWk9Ir6gU0I/sQGqHAX9VYNY4QIFzKqdDMfEy4EcPOcdanztpUolxXv2V6xey2xPKUtqyHcgp4O/qWZO0vB/RxjdtYpLSFqkauOpleO6Fdox6RMGusXh6Bnw+XSqjNV/6mPeG6oLIYxotammgUIlVTYIU+btB7fkAAACRAZ8takJ/AJ95xG5YYzu1jLsR/LW7cegKQyOfV17haLPma903dKsnswAVxF2bHvbBc5NwpBRP7ObVm02cKBZHFTEuF5L59aO6NCHKsOxf5RH3g7MZKHXNDyScRyjm7XX3TwIPY0ZwVdh6XxebvjXsPSzswdJJHzxm8LYPQN4e+bBpWRA+hUddTCLAqpvzJkDpgQAAAWFBmzJJ4QpSZTAhv/6nhAAAAwDz+t6XjfBfdHoiQAlq5Luwki/VD+t17L27dT0bGzkDM4n5WzSb8w0pyw0cb7cFrNmr7ToMlMf+wAb+3nPSawz9RrDjEoA45sLFNCzfLaIEcBW5BQpLr+sOTcI8FTUEgXEcCHowQfRR3bIpYDExIjUZAX4nuHILwJp1+JA1lVD9NhVvG/GiLAzyypKrcTYB5X8wnE5gyDmZfZHtDgHFHPLnz7g1AZZI6yKHEwtfACvz4ao3YNYiuEnmL/E3jh/43jfJoGtz6DMhaLrIwAb2jyGGq4ISJ1U5aNjtWOSEl9HMGo8TrmP8/++ILVFU3QkEj/kbsPP8NNon4ZMF/mUi+YocHppMrpLf5bldJxy+7ramco5WY73cAX2AnxTnMMxG2KvplC07484/W677IzTRcfF3DeduODHjhz/QkbobGV31W6WA8xqgKoy9LRPWrV7lSQAAAINBn1BFNEwr/wFRzZFOtT8psYjARBobR5mngoXy/ANGsasC2KK4/uVy5cZBc4AIPIoa/3dHveDKpo2aDRzs5hGb1HafzwlXa1v/MIGVYVPcpQSFvguCiNf+dPY59kBD1yS+Zyril6fyE+WNJ7f6bV06ubKYv7+fx3yGLkn8N9jDHFob0AAAAKoBn290Qn8BrfOMfZPElGiayoUh6Dy4q1SU+Qdn9cIARkQ+brF+1g+7BZ4bHCjz+jWmEUVjr3QTLjuu7fjgu1I5o/bp2ERg719JYZAqxm0wZ5rkRQM3s0dBJ6f/OhOmp8a2rCi8rDGv4hd58orcX70FsFwPnRpnuLAvnNHZ1mRwNhAWs6ks8XhFh2ZM4BvmmcdhIgC4vZ8QeC+NI6g85DqkUsU0HjYhbAAUkAAAAMYBn3FqQn8BrnjMh0PLSenDT9I3hf8uKPnkEK3aoAADZwZEepiw2V2lwEllvD0bYueN+ftMtyAdZZSMMWvv4Q1km7LxnNcttsAgapO5dsabuv4aMLmTZF5ttvLBatBTmrkMFFOBOBkG4xnuB5tLq9Mb6y0J0u49hzoh6jIb32wsuYepIIs0a+Db0xsUmLFuYmSC7wAfZ/h+7WbFYUnua8t7ljgtPt848565xPU3xrVqb3ouV0w2LJUaSe4JJuRyXxe+Kug/BgUAAAFFQZt2SahBaJlMCG///qeEAAADAPl7KilkEtj1gkALYMLsSJz9pksNkxe0/Zy0qvcgUTHgtJaNqxnPG69FikZgpzvGZo6Q0P1Bfc5Loa1OtNGTnUpMArlO0WWXTRSdYRhmV4oiemdbI2EK+LN1cPunKkyfMYygO3Ay3OaZkuMEPdez700uUzYt5BS9f1lTGTuXHItVw6jHFuPPozGEjUUsPNOF2qU7iEvAYkqRHreXZKUPCWWAjhNbHVp6rMlfq2qKlMTZxNNCEq/Ev/HFm4jNKYcQA1czC1w+RLnkuzZlAtvttwb1yy6iJt51N+iG7z56NXscF9rdpY24rjBgVrCi8QmmxhSIMFoC0RUJrjMeqRmp9YU1xvVjKMyQMD6jW80kGlXLENtmEfh4se4roryzU6S4R15FDf1Xse4W6Fnx+LagCrNy8AAAAM1Bn5RFESwr/wFR5NH+5txWbmrICV/YJM30FDRX8JtwTXdO0XWGM1WP5HMAI6KneQM7S6DXr99ugZ7VN/ZIl2UUhIbcSIcR/j/XSGPcJrLG/en8XMH2RkbvtlNQUEM5OONoBcpsjaPxLf96/JxFRoMpanAjycFNR/b9vpZaMmdyFELiDM4NJJVg1yiYdkODd2+ZNtMrDw9ZK38WUJ/dbvlJnQC6RbiKsl5gfLB1ar2sP6CJcELWEbx7pZhsfRYUoZ9myb7y2dYpHkG7zjqgAAAAxwGfs3RCfwGt84x9k8SUaJrKhSHoPLirVJU557WdqamABwS2fWNIOz9zl0Uf6qQIClmlPfM0Uhd6tz1BhcMIR0xkghLb2gt+Z+G4Bq4Oc/5Z2DjcPVZlMghzjFP/jER8U1afgqCZ1OVH0id6s7gWaiYnkNM8UtF5YsxKq8HhZYc8v20Tbn9jiS+oXlpZ8gPgeRYeG9tS7uOPybjGh7wTo6hqGIR8OzO0QYzah9NFrxP9qKQutlr9pYubJ52yArEv4H5Qx9cgA8MAAADSAZ+1akJ/Aa54zIdDy0npw0/SN4X/LiiMjn2wj1r1zgA4vQioJG/0akTMHualuPXEkE99RdZUnwYiEZHqKn13F7sUiX117APMJT26Q49GqcrH8a92qXuS/sOL6cysooPzLpXOeCi3ocHJAJnnFndOfsZUKv/+LuIMrC6aHtMyktcIAlcHVPCe5LBvL0eb5dPDZ30L36/vz8Ed6urm4l2Auy2x7LBAD3rfFF/j3LXQe96Tke6I5pL7lQO477DNEUXcsAtMuKij8K7EgLlHuAmZTsHpAAABZ0GbukmoQWyZTAhn//6eEAAAAwGd9judIj49OrQpACH6UKaePAybkPl5cU3SlN1pSGEbklvaVJoiq3+E4/tcVBmHNr0VdmEimhSoNrY3PH37CZEawBg6MhznaS6gxJxA7mTj03qjUIwYQkY8FHtJDdGKvyh7Xo0M+9abOZ91OMIt7EpKxRDNb3kRm1dt2Bny+Hso9pntvM1OX8P23V0xZllAj8MkBoJzwZxxFKjvzw+Iw5JpFdwTJL4b7+SuMJPmlyGrIogxivIX3lPt4J8pEdx2BHCZZJH/TlArLYOaAbynG1LNuWfknjknFj3tSGSJHsAouz0sewzW6svw7koKPrUCuCVSQj/TQkTnrS677kg7vULqyTte7Ptw79jtF6+zaXd3ddmRtndt2PDDjupB+o1qzsWilsMlUakmLr4zoay/d3ef8fLdVsH8HQVRAsu07nE3xp0dJPewdUfmFZGhgskwDMAAwCB5AAAAw0Gf2EUVLCv/AVHk0f7m3FZuasgJX9gkzfQUNFfwm3BNIE61BDzc6a9VVqLLFcjtmbf9+jAEDjoQYb9mZCculSsKzjMtceCuae8tZ0BGF/RXjHsDhb0CoVFluAskay0T7EU3Rc0E8843R+Pwab8/qBX0ZxLc/uX26KgYhy/Zqss58stmP89L7OFmyYWOKWT4SEJzZGN0hnSatgyHQOSZ2OpPmW3DekHLF62vxCwQNYb7nxU0UpnhCqHIqN3m66/tYHAu4QAAAJoBn/d0Qn8BrfOMfZPElGiayoUh6Dy4p/VtNoU3TAH7ZpnOUAUr8DZUCSCsfHrZuZs5wszOjgjCs0Oq7/dSCHQM3eD0SVMWuEvptw66buC4AcsGVr5r3lk0nYQcxMjVLhPnxXXFlAmLeC2X4tmOVbnXklgf/grdZj0lBsvHYr6v7cBMyhguTMd0ypL4ksTbRb2UTpCRpC7ZIAm4AAAA0QGf+WpCfwGueMyHQ8tJ6cNP0jeF/y4nnE27JMcmWPKUNDgBbPK3pdcNZaeGFtXMMJam3diEFQlqHoZNaRik7p6RDOJAuIR74NssBH8pBMDu/5OsGgfCOwbvukQLId5GGTkTw6spNs5byCugJ+oWEWpiC67lmxwjNoEvc6t3PZPtk7rvJfp7MWCBtmf18aLo7OzWvbGxrL9xXV0TJUNL5bL4xfkbF2CVJp5fFHlMBC8bJVC0JvE71r6zF/QrK7jQ5TstyGs5NCsTk5qFoILeABhRAAAA2kGb+0moQWyZTAhv//6nhAAAAwDz+yopiafDv0AgBEHto09FZaY1rz+WIiwajVGKgK9QLNUztRX7fsGwJtXOLpvEl2YslaWTSyifCSYGeKNouNN0FquHN1OtVy9gj8eL1X4N025JylfcWnCuxgN4vGXaduC2H/usgxABIFfcD8LdJpw11UXdB6ZdJajFa29bhKERhrMho207RYZj0Cfg9tRzz0FFX94WgZ+FH/+GsyTSSe8ApkbPDqnmEs/pqHVRv7lAxp+DEuPMmA2xffNiRoN/P7l2ZFfoq0fAAAAA/kGaHEnhClJlMCG//qeEAAADAPlwnmi22RaAB+WksBEZ2jDFR+dScIC00sxqvByrdZ0Ly6R43TMO33Obh/GrZi6ngNhvdmJLd2zUk04o+qDgLLY3jQ2fSU3PgAnf3oA+PVvdCEmdngLHQO21aBLAffIovZuhrBCMRRUpti71di4FzvkoB9sFoucOeinSl2IzSWI97WIBIFAjFhFF5sYicCHDwfNjtUAMeyTJTYSkOm+y4SxqhcZQ9bWhrFQI1UkagvUsntII1M3JqY0gBCfYhrl6Ojrof+qSgH42VmhtL8VjjGbH3mGxI7powPRBhDUrPL9uYaPzhP6tlEOS5KkhAAABT0GaIEnhDomUwIb//qeEAAADAPlwnmawT4S7J8ARKf+XDLpIYMZ1MjpmWYfbTMjUntV5GBs0ySh84zfnLxdxLVSEQiJ9xeViLu2VRE2bdxkyoPL3kohCp7NoRQbZxj4Y2QSvobry1Qj+Wlnn8jOFUgdGFrBs38jpBzd84pGuD0QtXbgMKgoGbuGvyKhorjn/W3abmgq1Pip51enGAkBFTjbGxLHQqK1M8LvN08B004O/6HnEN52Dv1v5biv+Sr65rDHqUXT2iUQTekEAWxULIEk4uXIdAOpRd/y51Wb4D2e4o80d9l/6IY2QaoXmRXAA9TOnmRpo5r0B61/7sjPQAHTK549YmwaH8/4QYbROXSrxjxg1eVxDExOd8MGqn4JJjDL7yqtPzxKmkBRR5OVbNZxBtuT9rYIW2ACJ/J+0eWo0PloAXNI5A+flpNB88SzBAAAA4kGeXkURPCv/AVHNkU61PymxiMBEGhtHmaeChfL8A0axoInbXDfvmwBOcpwfB3BxXGtH7RHVI8l7LOlTdy5/JOfZj6AK+sywGbVo6qCuEX0eBErMgtLpY57zoqQiyEgrGe2ojeC8xbq9jLYKdJchmRHGv7gALKpePlzuXRAEVgZ7DWcoQll84hDpRCumqwyd9Yn161inzwp+CanRfAE3Wytzx/fo51UoDIqHcsHZxcWes4DTFuqWk3wmsN034e/YOWzqOzfAE4nizxxClbmt8DRZddrurxLvbJR7W4yuLZDnAVsAAACUAZ59dEJ/Aa3zjH2TxJRomsqFIeg8uKf1blerHYBMFCY/VtwNnpD6YhQTelC3vE4m/XhArorTMiw+OtKEsbDNAOByimglhbom+0t5vv0DPkXaDoSeAnS7pYzAWsspPkTjdRvfQmnFRVes6J3+iwP/ekgZkZiX0mlXUWqSY3WsBVSvwUtMUg+IdklVHGHv6IBTJgA/wAAAAKMBnn9qQn8BrnjMh0PLSenDT9I3hf8uJobaBzKDWcAI7R7umzcSlt/utO56t1KjXBPiCz5NkCMrIteQbvx+N4948t7/Z62zlYMeGQphmaC0KuLsSMDBIhmDpW9gcIVmASKW6bOI1WEsS3C7DGxyUfFGnCKqwiwSIdbr5ahGQsefREsDg7cwI+qB41kiHSMriSRiwdYafWL05o7fIouKhgi4AAspAAABSEGaZEmoQWiZTAhv//6nhAAAAwBsfZUuCwQ/5SesAQ7w2z4ST2U6ACslBJ+Kn0jX19ErmiS3NxG9p/qOL/TtcbtW7HxaqsErk4cVWfb159VIYLtDuU4b2dx6hVIohRjBvUjykJG0cBDVNcqVR1jSfILLnA4hTb6xOPPuQu5oj6P0o9njRtKl3DOIU5T7/bCHKGM5iQAg2HJ44KkMWRODhz4OoKfk2FMUHm86RF47GChbt3FX4qLFLr3glGpkZPTB9a77Lap8wZsYM7Tgbsc1FTP6cX0ryVlcpENz+sEOq2Mo37QvVvrAyAGk5zIl8bMN8T/FPAPtBpz73sWxJPJjOBawWYMQSKSt9OdBGNdBvXZoc9w8WohKx7L+80fKANLNpvmIUftjhfOvV9J/YXJwIRWWFpgi6ft+94QMrPY9vR5/kLsk/0zAF/gAAADNQZ6CRREsK/8BUeTR/ubcVm5qyAlf2CTN9BQ0V/CbcEzIkoFxsZDSRJKfTMALF9PX+HND5YkaV+5jKHKEJY2fNPsNEYS6nSFAvECpbbR+CaHHgZS5w3Oa0TzMa3WexsM1CJ3zvCbjM3hONcCy+QYCwxcnU3n+g4j4o3e5g1xaxcZxRXpFcJr1S9MgAAuLM30OZjVJJXw+8eEFrDWWk172hHivjB1+HlRJKPvrg3yAmSC/J0d8x/3/Hj3UznEWbjzurY5M6L8FpCvsaiABvQAAALcBnqF0Qn8BrfOMfZPElGiayoUh6Dy4o1rMWqmk+SqWDL9VcDAyZkAIq9zCZK3KYjlEWuuPHr1EdByr0mfmW/32o6z6ctUzIlTFkq3bpCOYKm3etSPdRN7Ot3IqhjH6nypxYc5S/U5D07IhuANP6Zg9lJ7h7K8s2cJbr2yfUoWD05DLixjzO2IktC4hOGq4eVMW4dXtBEL5cctbE6G9m/nbRfKoPFBa4xsrmuUxgJ8W2GYCx/IAu4AAAACwAZ6jakJ/Aa54zIdDy0npw0/SN4X/LiaGrTWuMckxpj/s4DdiGPEncAQ9qPgYNGBQ3uJoo2K89gn+Th1BMMeVmoxm35tsL4LxumNYU+hWWfGwl9+8P36EarmHG5FaWAe9TPKaFtDB6hs7nvJ0Ecfn3cP1p98xTsjvT0YXV+WwYx5PWvQLtAC8GGnolNa+AOHV7+bZx8Y6edROzCA9yzdVUOMCmN3QVxRqhnn12YxnDlkAAAE/QZqoSahBbJlMCG///qeEAAADAGJ9k5iLCkAQvJs6lGC/RaaitStWfrnoIqvnEcveae7znQGj5qJU3oKhYX9e+5STfApIo9bG2qpAnMJorwCmj1BmPbHadq+nuCjJdwNwP5EHaaQfe8Taqfl7ClrS9N0e+zDTt7Irz3BKb4/fEwsLxgrfBSfOLo35LhXzlKeGMdApIfq/VnQFE1nKPsXG8y0Hy+tnrIyQN5SYCbwa8K2944PakyLnbKk195rYAQcclpCvyNdn7IineCtvsoQ6vu5arv+yFCOTseRNKgSHy4ag7+xEdZhQxhLnseY9Z6l4jZeALCf8jpfpgu98n3+oOAAIdbDqimm345k149Hh8W6rI0+YUgvsyj91MfWL/ZCRkCml25JgjplPGi8zLm1acYUcv6M5g+Epr4FR4ELuHwAAANlBnsZFFSwr/wFR5NH+5txWbmrICV/YJM30FDRX8JtwTMiSGLj/I0DpA/nbXq4AvhsoVEo/2uMbBD1YQujtnaWhWOv2i5uc1ZWtS2Jtlk45d6alJ6pTu7AAJLlCNZ0pbgy5J7vd5Uer4jAv5mSt0TvN2R2tao/kjWq5hHYD2KoW9383RobIW0RMtesQE4R+JtCm+Cmg3t0nj1htYUJ+Wo4AwnkfEXWi5L7tH9W7/lL99LKmeBTDzRlr1d8ukKAy7edSOnr9AEN6d4dpvZwG+SIfdjtrU6X9bgN/AAAArgGe5XRCfwGt84x9k8SUaJrKhSHoPLijWiyIySX5cLAC/2hCEQP29TnMJX2Ia2HdWjj0s+WbiwGGVLyDILJUl4is51pasGT2BIdqLj2rVsMMvwJ5GzciRM5u48ph8IHfqxLTZOMmga7mIues+X/APO1MfIqUPEHSxGLeyM//7zivQmHpe0VlbefBXJIUDqSi1J9AYuOutpMIvpgypdHAfUVplfozPNTNDLZ0pUAPSQAAAMEBnudqQn8BrnjMh0PLSenDT9I3hf8uJoamapIrvaxC4IYAvKeNK4Tudfg1ukH88h1FZcN1ub2faR849dOH3DxX01NOS7qvdygGVrOAI3N2uQcbW5Lj5TKu+Qg+GtAaPBd4TT7gmP1qAjFeInh3ot/lkkZkGW8tzQ09GRZWR6U0IH1IBq11NAygxNOaWJ0kQKQ0DM2JEvZMOO3u0fr4g7rKjQiMR2bRSM5As2nzxR9lyOX1TNioUIkajCsgsgFpogz4AAABQ0Ga7EmoQWyZTAhv//6nhAAAAwBfXA6YQAONn5ZqUl7t6+9whReWZ3mkMiRIcxz6Q+wU2jbfBsZCHbDsp9pt5VLqb2U095XP271BCP2qyVxkeWEOLpvt7le2I1EL3rowLS1PTn9hkEEDNt8Ff+yROvjRQ5Kji/XUpd5M1Epbi1nLP1gZw6MIC0vdChBSAdhB5fUlTJ8s0RyLDqbOa259DsjJhrCOdd/EZZl0k/d34dJtuDhFpPQMIhEnNQXQFPtUY6CFxoyP3tXoAvNrfgCs3HUq7r6WqrU90Nec2QkQT5Vpqx1Y5pyh+1KwvnYKRiqi8Zfak+V3KwZ2XPQVgxRtNt2TNSXa6HBKl+3n7VtDY9OKBV6+l+oKrzLMzc2z+AE6yClrKlxvPArlWTaKHFZ8HEOSoPFU602hFpif0EKlIwO0XrKAAAAAxkGfCkUVLCv/AVHk0f7m3FZuasgJX9gkzfQUNFfwm3BMyJIXxh1Kih0lNdOo0efxEb99KJ3DVat5aU0BRirwsIsAF0/bEn86WpWJ+0pZOyuifzgb0C2dUgBTFLNN4zV/H3cDxJaXGeqUJfUY1U8SW/m8Iu1F+yuiFf3r+bT/1zVGiozV494+oF64K2z23DvY9Nw5xDM5HaHh3FSXnJfISqib+FP1UKWhqJYKEwQsM4ys+jYxKmqDHGDpiwSj+rtDa9oeeAAwIQAAAKgBnyl0Qn8BrfOMfZPElGiayoUh6Dy4o1ngWM84b4A5RRQgYuGSGPoOYKWFUzc5KWg3zy8pLnFT2hZW0tvfRNWiS0P5ecUvEyg9QOyq4iOLSwOirKpzoIylR+rYereSgy+u+DpmAdySQ3I94+Tcuy6fAMsx2cnBVaf/eG6larZS9a+DJ9K63wG1N6i60Nng4edZNt7/eMelZ2ii0RvwKUljNNxOJuPgB4wAAACeAZ8rakJ/Aa54zIdDy0npw0/SN4X/LiaGpYSm9eIxd8x5c8ACgM+4eLAxyexzsFKQAahT+Cu8wzt+Rkar8YdDTUebnmuQR0NRGXeG0BFnxQX1UZySDMsNJe1AitD4rucNQ/uGkdgimyZmVLxiKw9wTIDuQuPuTQpqwtafR+9H+Ezurj1hXx9fhpxrBspm6LmXIRJ6dMilvudXu3dQAwIAAAE3QZswSahBbJlMCG///qeEAAADAF9eFmPAQAOcUtFt6X2XyLB0MTcXv8gK9G9nZaNq5RPxoEnKkWyyCmna2Tf3s9YXNGhmtEcBX2ILPU5C7mKE/jV4Pl+ktuZ5z5OkxyMu9BmZkb55+wUSTNyZ5qmPltPtGBONaChCqjhJSqEGJkNAJFoUU/SmkDLk4b2FxFNmvNXEF7m1v76uQcnVKgBc8HhcINLZU4pE9a1Z6vc8CJtPsPTxM6WOEQ6oZSANW2whffJyPHgO86fGpBOhbkaHjC6mJKfLl/oxar9HXou3Nc7/8GOIj7tnpxvV5qaIg2WI0xygDotMI0vDytT4+Qyid7PwaeELjg6R6LQzWGqv0OuZY1rVrkQWNiW1T5wGnZ0pF8qbaoEuHXVaxCtbUI7XGmFQGNRq5sEAAADdQZ9ORRUsK/8BUeTR/ubcVm5qyAlf2CTN9BQ0V/CbcEzaZRpGk28tVZ/XKoLjJMn7IFiAB1n9IrNuY4fbzYhK+dxt3wh2HMDvXt8RW9g4UdrXRWYzYUafUQ9LbcSe0YP/RyTp9/bclM6YTLuj4xZDziw1bk1ZS5JaoLgRdXQEVaPdeJa/5r3Nnr0vN72JDjERH+xBmtjnZr9AnLQOBHr8Iu+epnw8yrsqkygh82CGJEVE7ViavxzQw6HrUrPc5gQ66nziGHHCTGCth2P9FfY00j51F4rgj47UFW4YCBkAAAC5AZ9tdEJ/Aa3zjH2TxJRomsqFIeg8uKNaNb4ccHGA+C5MqAkQAQfSSs4yTjVv0apR+/xENSEvlppAAqkaVoBZ4sN8d6DV2pqgbN7n3qSLQET4hp+vK5KRuIBgpsUDxHA6G9bLdh7WPirqjCbN4fBjqj823kl9ieuE2vc8X740o7c+FbRGJcGi9+4lCnHjzgNYLTd77A2vWy+8be1NyM1vo6zuE2jL8gki88C0UVUuIdeuRWZo3hJwApMAAACcAZ9vakJ/Aa54zIdDy0npw0/SN4X/Lg+CMGQfH59t3mB94Be1/iEAEIxzjIBD/Yl4AcsYlqsmBxRjKCMVdzaOBzsVn5h/3NA4myg5dV6i1Mooc2Nwa5+cr7wesoy0wq8CNmCmcX1knwlYV+1Sm8AcDgEGhbYQkIjQy10oBRLh4p5fudeoHa6B7XCkTDLWVbSFYrXuEz3wJv1GwAtoAAABR0GbdEmoQWyZTAhv//6nhAAAAwBm48OgAXRjVw3LFMDzooo0milaJWKgquOts9rgr4IAm1grLFZoue4ODhJuL0rDsNcu5wz3CjIXMtg+UUAPSVtatM8lLMNuL6sS5qu/OLCtEHKtrrRJIOijs4CzmmDMSfoTovOxA1ZHWjhbPM3/SVz5vdLK1LHsPt3TsBPFe6/JLVjBn/65/rPLnTg/qN/+eHUZipWxEmsTKDgq99Blm8v+3+RUqhPuImFZzjJj5yurQvWcsvMu+0fEcpXc91yIfTuxKASblHz0GAKs1iBDDDKhKjlRTOlb7qLKk5b3R0LSTky3SdaTh36B27Da6Ue3uiQMJ8Q9yliHnvKLWhh6TsstFzFhFRpSFoJr1ck7fE3OHI1eW/2/IF5gTepdOA1CMl6sR2uxZ19BDfTEz4BDeTU0KMKVUAAAAMZBn5JFFSwr/wFR5NH+5txWbmrICV/YJM30FDRX8JtwRezcBihu26QrUpGgCrZszmq7D08li2W4M9JoV1Kj+jz/s7oc5m2P6A3y3PCvSH+m49GtLfgSeLVM1shqNiVRKBAA2+FmVtz0uo+MDysk7ELy0MShef/hFBCGO+NJnTlvKqVRDh55HCqUKo9hAVMSEoo6KPgVCx17Y2fhpjnqUukq61pKJEwQnu5F6aEimZy3mc3v9uDxT9mgsqjMQMtVNUCbVmB4ARcAAADQAZ+xdEJ/Aa3zjH2TxJRomsqFIeg8uEl4o9JtTtG5l9kneAKNLofYSVfm7Zgke+iX4oYwjPi4PyzL9waWnCA8q6YrH1uV2Gr6lohClLjcyoVmrBbi1/FY4AMtNlF04HWtKMlIPbcxeW0yzZll2Oc5Q2UdZIBwEaSoBY/0cxAT2q6LzfEv5USiUvOf6Beje1BgODnznpgQgMjCJvd55ez0JOX1anVhC4ln0Rd8xyQD2XGCyQRLflMpMBtgbuK0BYvNAGUg4eErtgq5bORiKAAh4AAAAKcBn7NqQn8BrnjMh0PLSenDT9I3hf8uEVrisUZlYHbmqtr5RABB/4Hpq8EaUzQHx/ZTQuF3G8OaP8wIrL3Cgri45XdEpfJxg4dU/UkCmGO3Kmu/tveyiRMyfcFgHV0UhoGu8smNiyGfUMKrjJxvUCL5v3OF5RJJzn7uTb4tXvSPl8kF+Qpl8pG08+QW1teWP5cNUrG1fNQpvX+rn22q9JkOS5Rzx3A9oAAAAT1Bm7hJqEFsmUwIb//+p4QAAAMAZ32VNGT27JhsKyRsIAVTnVUPJRSX6IxQ1XIPviHiK5Vh1Fs6BsX8Enq43Qhj6C9V42uqhATT6ahVLNc5pZzVaaWbqAcMBL6S92xQV9rw3V5sjRsO1qTDN0Rm/2GzHGyoE11TQeuyn04zthSL9EjHAMFOyuSyzHSTrjavBK1lXrpDzazzDEtpiHAARZVg8rG8uulet9eh1r2mFOtEHfJNkxNPWwYkdcvha7fpOCa2vWoaSuEdYdt+dQ0NZWe3jXb6haZXI1Q64TQNb8PBoxCCCLB4yBa+VlXcmNHhMcBXWGAVIobrAJGlAKRKHP+o9KAYW2SRItlZGDVtbYNLSZB7viWe0X9g06mPHzrKOXmwCd1KUpXq6O9cZu+XRVNl02StS7jkT6qmAO2m4QAAAN9Bn9ZFFSwr/wFR5NH+5txWbmrICV/YJM30FDRX8JtwRePexgCgE8whyWkQMOZuzA6oCrzBtUff0S5O48mPu04k4aQahJ9Vb4AFVOrTdaah4a0SOjNo3Z0c+ToKNsNYbuxgpD6uduqWxxNgnkDk+86ipcjmqU5g2dujbyiPZHIywC491It485jHC0+gX17nFUjCN9FjcXXzooSSy0DXatf+2J3JfROgy91LgWcMUT4WTWfA9HhOHGmTmEbKwwlpmdI//18Yh/b2xp3iCyVPAMlDYg4xIpujD5JAk5gLjA9IAAAArQGf9XRCfwGt84x9k8SUaJrKhSHoPLhJd75tACgEeCaSfSIOv7K5678J0EpGUV2RWZPM6OVb5OlNZSCYMcpyLsI4f+a5qzxBFZp1DcaBaS6n0Ni3xkkXutYWXxB9c9xbxvepOAAz01K/BGTgfd3sG6Pf6mjxKsfyjeAQt6Kmqzm1ab4y0Lflz9lEs+J4r5MRU3NBve5eEN9VAzHWI3W+WstbM/TF1SwHJc4B4AFtAAAAxQGf92pCfwGueMyHQ8tJ6cNP0jeF/y4SbpmAFBq+NK2hpB/JCxFdMnkKROcMgA3KW0CjGRKdrQjQabde1vve/XKZTsn0rcBdBUTQXtXGuyR0srHT/EhuMb6sFc/DuNxWxna6J8qabY7Aln3DK17YcW5KcAFJPm4A3SgmTxKN/geJNucJ2kunAU8IGRaXgsr3x8j/zJS7zfMVbhRNxmQCjDe6mjvdzEgOh9POFjZoyF/pE90UnGgc7eUCKjc6WGsFs99sADuhAAABLkGb/EmoQWyZTAhv//6nhAAAAwBp9e/BVv7gBNNWt6yMIUNwrl9vGPuuY7lnvUowqGdA+zwmQ6pYp5NJEE5CSc76k4MPcT7aCD699t7teHXoxy+CET9pdDIoben1+A+SM8LfaHDBaCEgidvrUDzfRmGqJtanu6Zgk5mnjy6cu96hzSggRh9ikqUR5lOV1QS0EGy28Yo7Ya74E9cUNWZ+OEJyVURtI9l3EmKBaC50ejAw6AdKeLsh1L9gMCnMk0LGJdB6neyJJ2Mki7f9CHbW1WyUDiFnlkuCp0DhePBBLqazjBneFMnsFMtO+cWA5O/TH4FNfgNMyA09cPyPJ0gN5mpQ25JzOKdULSC2DOLoOpWcSJKCvR/O92UIdbnqHjTyB7BxXcxh8ECJu0g/siVUAAAAxkGeGkUVLCv/AVHk0f7m3FZuasgJX9gkzfQUNFfwm3BFqhbDQuAEdp6dfTL9kIUYEEocvX4MZHuMHwElYahwbXmHtKgLcAv9bt8P5MU4QDyTKNx5GYlhrqppwMKWldZiTSzpbHbAt7HVHGYuogT8wRJ3EvbPg94bzGpS4zQzKAf+cLUzX7Dzmy7zM/YO109LAhoYm3ikw+bkxO1H848ymuappiuSB/qmXm1btkFnAYpfwhWODdYOU+uyCoyirbhDv3h06pwakQAAAKoBnjl0Qn8BrfOMfZPElGiayoUh6Dy4RXiup/sJ6PMqACD83Mo2qvC+bLuhK8mSZYGAWTLRv9a16/ndxDiXKaOvOPGu/LLR7rJDgBbdkahlD4dCbAz6Copw0V6PGTWHyFq7AzES+eriYrRURzrHDWZdWWONpo+6YKPMHEsR9FGoQJe/203W9vpHWTEv2tNU39zPSbD7dUaq7B/riM37ta5DXOYkeJm4XwAyoAAAAKMBnjtqQn8BrnjMh0PLSenDT9I3hf8uEMZXYAAcw5+J2iurvpaXQlmGe0WucRmUUAcBwHFCSoX0UVtmn+khNytlQT01konMtEk/y/70mJ0X+dnO0lOT0rzMwFA9fCqMl1TrpJXsd614QQzAIu7ok7ZG8//XRRKE9U86AFiSbFNi/mifSgBHCWqUM5pYPxsokBP1TXQrefZXbywGUcSgo9mCIAIXAAABXkGaIEmoQWyZTAhv//6nhAAAAwBxCOOgAsFZ9cO/0zb/3xqm9Jhvcl2TMZI4y6xWpvA3RFbDCYz/fadcExXQOUS8GKxKIUwtQbt3xXqkiKm0r/U9hSD3R198Y92VwGLfQ9xFJLBtzbz1/HuIcYa7mthUAe2Qul4D0s2YYNEcyeGn2yMfN5ETP2EqD5Lit0jggwxuIScRERCDIDoKnCTEbOCqsX2qlmcdL+ilMDY2PF9ThY3O4JcerJs2fvAexpl2lsi8y6vw5JfyvH1T3ny0/lImhf/gmAARH6KIVAy2bwkYQbm/TtdiE0csxTtN7gvMjQIJLJyhyrnCqQy7MGlbJW4r45vyYcOPnMBbu3QkzfThZ2yrSXfUy0MfwfbehB5fCPpUNzTSR+9Fb8dXle2HksSmzzUbKIZmg8MQ9HsmVwQrvzneNlUUVm08+tr6rzn/il4zMQgQFykXUpdomGWBAAAAykGeXkUVLCv/AVHk0f7m3FZuasgJX9gkzfQUNFfwm3BGGl0uUFwsNkSZ1grGf8sOAHBaLSDFNsTNwFUqMYBksTkzflnAXpcAkSBp0FD7lKzxs2gP2MOiWnx9294BalsiCw+vcKHT2DRCDpoYXVe/nZlEVzgFUpvwKxwTkYTlZ7ERajvF6s7EcxLbLTKVwS1T5kf28r/lmUmWQ67qD52nwkxbBsjRGiuPCnkEs+SSKyiAgyo3uiyMQaThyMt1wFy1a/2tbYJeEzfAOOAAAACcAZ59dEJ/Aa3zjH2TxJRomsqFIeg8uEm6ZgBt8YmP1bnOkIqgL2Ri1+l3FbQ1Es7GzxUTS9fyh+yQ6GzW4u9GcP4tGQWtZMiv+EIeq6/R6HQK+x6XTPWUOx+ifKsrqfBJ1v1s6vV8TG+j5kSRE/YHP23zFGQlcJzg9uhbrPTEiq1xzwSLMg1q2CfeOERb3rAz7TOC6Sx3OwtJADugAAAAowGef2pCfwGueMyHQ8tJ6cNP0jeF/y4SRHLidHhcLw8AI0iZ65ztkFRbWBB3eMnpe+dmTcbxv1r2IGM4eR92LDMfKYNhNJWXdCOrjNWE5WzrVMa1DokIEzOFFdeZ0GBg0te50vOr9QXRiXxi4o7VzAzCPc5ky8TX7jdx9pQ8O1VUErkv7trNQFczB6oWCTWQx1cKrr21pql4c4ccgMD5BBAA+YEAAAErQZpkSahBbJlMCG///qeEAAADAHG9lRJ13N10E8AK9lBe+zmBQTvGH//tAzEbWv4jJwxlfKHLdjmNTgYLtdJPeRucDlrVPcyyPupCTPYLUZY+J+igxvmbS7A9yT73pc+UDROeGvNfn2l9xt/LczmqlRQxWv0pLsb9OJBWFjninNTdd5tcsfd1zcT1niPAFri8zJD71TieR7opQaE76VH97iIlKKmxPCXNyx+qtGjrdqVsBBwpZZh3zFJNA5/S7rDpz8dpZ4sbFqqhcl9pIUSWyaNG+9Bzm7WhnzPj2AeAOEisZS1XClhG9T9USPYAQJeQsRbTptn/hViFb3KPyUUOWlzsi1DNL39j+ffC9M69NrXXq/LhFe1X4Wkoh8UiDztC8EkZ0VO8iIX+LNgAAADCQZ6CRRUsK/8BUeTR/ubcVm5qyAlf2CTN9BQ0V/CbcEYdwOHKarkkfHJlJ42wBEhW1pdYfhj++a+EiuPdRQSubHi8Kc/Lg+Yc6OEQ6itOEroapWCkZoHknKupUn/6zWuoiZezZMK4NBIFLax/z76CoaOQc3rD3qD2CJiMDAa5p6ihxqZuWkIfPLG2a/oiQNBEno6ZksEIGsyAIOPdegnMfOBllkmCftzULHcy8j+QEAUkDVWQUv7o2E9HNsjVhqLMEnEAAAClAZ6hdEJ/Aa3zjH2TxJRomsqFIeg8uE0TYw/RPQpOx+jxACwDh0YnvMAzCH6rBAru3Lgs3neNgiRmzZgls6rOfncPjGC9v3rl9xHYxd+Eoc4WyfV9k1n+wC6OUXqGsd4zG0f6b2Ymmg4PIASj1y6+/wXXPkFncA2a5pX9OWrfwzqP+Ql08HG3l9zAm43aogmzH4ExVsfhbKFdLFm/u0FVa+FlgBqQAAAAuQGeo2pCfwGueMyHQ8tJ6cNP0jeF/y4PdoHuMDAlm7LJlJPEAcoYAezR7nLTf/Ko0guVvGNeGxuG2cocHvLI84yYJiWpNOVMTeiifRyVbbsG8xRtXE4SYeQikfc9FVc14d2t9TcOjQAUpu0lbAzNljl/LdVyr3Sp6akwtqI8ErP+2zTnU5POjm7b43asY7X9g31/d2ak9q/gKDlCKLnDhhKzxGuE7mdTGQnmchn3FQaTXAi2CYi0/xHxAAABAUGaqEmoQWyZTAhv//6nhAAAAwAp+3JABzNZ9yuW5yatbT2bAktIVVXaN+KYmwD9edFDiv8kvUn1E5yr/w9EAOGukoT9sku6AvOv/Ek91CCjUfhMn0w8Wpxur69txHX7aJp/ZCx02yhB5AOYrHnCqoQ2uMmDfxptK2HLZpL0PicksZvKja7/M9D4kFjAdN3fjcCAh7m6Fo5QzJe/64Y0vNR18QS2j8311jTYJJQteDOPVTxe7ZjxPch7ZR4rCZ2iCOjh0Yn4YHigLEzfyfqHASKQcEj0fJM8QQMC0Ru+1eN9DZxL61pM5mMUMMp5NSXVY9bT85AztaCirzgTiTTu6JmBAAAAx0GexkUVLCv/AVHk0f7m3FZuasgJX9gkzfQUNFfwm3BFOMqU19OWz4KFQpACw90EtmQfga7zZzfutreCmW8knjAe4RFmCLEI+KzGBITXJjebtERulVUP2PL+j59wvcOOhKY2n7ZePYPK4JCkI4gzzfDMfiQwrH/Bm6dtdybLs1it2Kyg6zxE4hqXD72S7IIvs8pnV4xxlEyTUOiCH55Ng92+dLlx3G7+E+tuYqeCWRtHVtHZl7aImvorV/nG1KH5m1YDANoQDUkAAAChAZ7ldEJ/Aa3zjH2TxJRomsqFIeg8uEEWD3iQJVBnACuY8Amkpfcs0+TD8RcVGonmMyxl+9Y4JTCi0hD+ErcegAidflWIgBg+LKmYQpILaIsc8eRquTpH4XLJ/Ldeh8ZaClLAjeF/4uBntM8JFqJBSp9wSfC6zf8VVZf2/mbzan0mIe1e1d8k6mR+B31QfJ/XHhE0koFURiJzcvvWwtwAq4EAAACiAZ7nakJ/Aa54zIdDy0npw0/SN4X/Lg92D2hs5HaFgRuPlAahCMH2xuUoAvmRG1QxyZiGrLbmZ4BaqZYFWARfROvEgPWolIn06Mno40DvF5YMI2E0jB64flx+xvfpCUB2oQBRMWcPbKtFQYrT6oZqabs6w59iWfRN2DpRXSNazL1B4SWEz7e1oZNbj8ZBZupKuCZfSWdk8ODYn4bno9TiKRnwAAAAsEGa7EmoQWyZTAhv//6nhAAAAwAqPvAaBEQ0AHiK9aDi254AztRF87ks6TBo3s9m1SxDNiD5vI3oPmvLd4EnB3iXTe/wWF0QscIPPVJmEIhctM87+Q1K9mpSinQOptKTaEnL1BNeKhgHIrY7V6H2Ytb9MR6VXW1u50ZAWlKBImGOI1NGJlJzUgasYDoks48s9zUBdwfW0PL9S3XI8c9iF3tm249UGNp7QMv8+I22xyzgAAAApkGfCkUVLCv/AVHk0f7m3FZuasgJX9gkzfQUNFfwm3BFOMqU1+brnY54ADjecCfu4ldK05VtyE65IRtrw34LZ+5GYcEw63X+tQt/JNl7AUAU7zzpXCde5toeovcTnXJ8lKi17IJ3B0upD19W7XaYa152PJpG9Yy7etO21G5zhdGW4NHH+AqTYM53ug13/U/Zw+Eg+clIOBcNviwREX+bsKWJ6nPA6YEAAACJAZ8pdEJ/Aa3zjH2TxJRomsqFIeg8uEEWD3i1wQAQRi3lxAnfXLwBK6gYZP48NnUdkIqC7hNChXXKgcqVRMBIsZdxybBAxL1bq0Gv6DhnaHaPzT9E0sELcBgMoJQ3+QJ593V886S3tm0rqWYFoqAZQBuyMEEg8DOIuIGs7W3rVoDxBRy0cz2gEPAAAACVAZ8rakJ/Aa54zIdDy0npw0/SN4X/Lg92D2hsCr4JoAiPsRUEjdrsreFTOqjG1KqfmkCSxap1TYvrkk41wwTe+CtU4av0mCjmevt0PWdz6dhpGS6lhMh9T79g3WgbpuR9rOqIiVMrvplAMGeSYHvG0EGeGiUfTmSr6f4A8FPLbELsvvzeZLdXcRVFFcN/sAK5TguYAwIAAADtQZswSahBbJlMCG///qeEAAADACke8JbwocTEIVcBGQfhw2YQAnb2mb9MBBZ1mK90fK9QsQ4yePrM1seRlGQbNrKdyYEkDFttMfWMxN3ZWqhGDTpIb9wSDMCSA90UgQ89W1YNf+nTmTIzrn7Yma263Jixujbqc5xlHRLvPjkXT73T49YybVG8MPp7GGRGUcYFH/jLRsvuRxjNtOl84QA9fI0Y5gOpxpEEF6xlt1dGcAMi/sHblCU9bnE53VXJyQYe0VLUthlULSN6jWVOFUriIJdzjq4KmtC/hnkVenJTBkg7FHLOqDIp2l5k9x85AAAAh0GfTkUVLCv/AVHk0f7m3FZuasgJX9gkzfQUNFfwm3BFOMqU2eLbgArcHO2GhszGUkT7BOuZwFgrjPARNH7uq7Re6LJt3GEiPXMGL+giXnUOoyjJ87qHsoxAwQkwooQ0E+Oq+Ww8KY7dfYRsp+7aPP/RoefQpQF+G0OyG/4up33UtweWU45CLwAAAKIBn210Qn8BrfOMfZPElGiayoUh6Dy4QRYPeMH8EdAEIjRuzECel+ZpzaGNUIwPhf4arBycGk6B+GkbVJ8HqCHuch2mYRc68637Oin6KbGz/9/qyvBIEJnEw55RCOKe/oz0gIdRbG+ui9KYlefiCJzYJCb7ao+Zrt4qJkDzXMJlORY+0Y/k0ZI3Ovb8099Uivi1qfl2MmwHxSKs3PRHvEQAu4EAAACVAZ9vakJ/Aa54zIdDy0npw0/SN4X/Lg92D2hyUYHvC/NvgC/1y/Ky+6eVcdCWMpcI1l4l5Aqd3QbujVUtfSKXM6CxPGW0SKtYNoW2XV7zbE75Y6mCjhLSVsj3C5uRtFOz7fZl3bypeyDcv7E8AB/rAqKnvzPF4NuDiyfdx63h72gTyhPEvvKYsfn8YKvjz5Z5q3QAnYAAAAErQZt0SahBbJlMCG///qeEAAADAA+XCfM3wAktxm9gWIooXfTbxDEyNFSwtESacUDEHgBZh9Mhe+AKui4ddge3YU7vtprS3CRz0OjMYGooCAxn0u3/0N7xq7gJQnRHnrxpVOpktpjj+sXLxnMBj0r3vD1R1JHt+wKtnf0owCWP6IGDtlvUFdkNzWlf672LWn5Y1+gErwo20xNqiaxveX7vLC59W+IHgpckRc3TH60GAIrUtkmgu+Shs2Ej+J2wrlnjdctQgR36vA4KhGlr9LOnJ43Lm/Cjq79INQfKrBy+80cRC16BA2GGN2tHSX7NLxRQdKx6HKpikEPZb064Bihf8zCvUlvqel60YeTvyx3jG8VHZk6EaONWvcwCZ2zlz7WINotQINOSrMODFrQAAADMQZ+SRRUsK/8BUeTR/ubcVm5qyAlf2CTN9BQ0V/CbcEU4ypTT7p9dfMAFRLgbdQommNojNVcKuPeXeAWLZa+vYPLiZrK8aRtNvJFycqdPTKngB33W6ajXmBNMuO1qdbBlZDay3WaqAkrFoyjxfsQDqAVohHIYBeKAj3Ga91OfeWw73uOQxJVz23hJ+tc4VCezOx/XsEY2rfiK9U/49QV6vjmHxx6e4kJ8Rgcbxi9D3grnqc7kONZlooyys23n1wJKGIaVRJIQHE4+mAUlAAAAkgGfsXRCfwGt84x9k8SUaJrKhSHoPLhBFg94gwdGgS2QBt+Pe2TOczKvNHWlY8x9Mt7j6avg4RGx2gItt8uYPQpMO9fuwxOvsjPENYEiuGs4UlcoEo8pV3HQSEPhk1UHJ9CWKcFvDGfO32KUn57at9FZmp9kt8QhEv2WTu8r154jM0+k/gEAe6CWQRrruhCtgDFgAAAAfgGfs2pCfwGueMyHQ8tJ6cNP0jeF/y4Pdg9oanWVp3rgeVPQBA/n0GC2deV9WkRI89D15wBG5l02wYu1kJ20XVST8mEj1FYlXEyEqtPh9TrmgblKnn5jL1PTBtv0HIrDkaTt/7Tl/s4hY/36BOfL8NTdsb5yARLavbMOH4AoIAAAAU1Bm7hJqEFsmUwIb//+p4QAAAMAD4J4k4RI/OEKvIATOeP3rPR38OjgWouxGr7dIlYC1xB8KStgNKxgsavlnAAG33SR5WkOABHjk0YWs+npgEImww35t0y43vR/Ha5Mo7fO/9NgNyRuGmirNFYHlO559UQNzOCyaINujniYYWj3Yk769cLXFBlhQSlppuhw+mFn6XdFXh/r7bO9SBD7v7Hpgch/5aqzycSwS6NKLIAT4rIsqhm2q2gjD6FkRAJlZplfGOkqmyLR0rKVIwa8zv8Fzoq/ww4TwBm8zFIYtZDiaJT6Jkwl3vD9CIUN/oWDpm8t7Xja1D4VpWCKK2syw+9tZqeGyjxziNeP+2/Rz/heXGOvkrSGKXiCiIqZo1vkdkOBcvKZAzHlJ34y4BaOymWeZLJrptkWE9kNMKneSEv5ECw2eH6WENFPClSYM8EAAACuQZ/WRRUsK/8BUeTR/ubcVm5qyAlf2CTN9BQ0V/CbcEU4ypTXpAwFYAUAqBu3AJZ7dCVPvXiMCuIBoINWUVEEasGPorhG44jFrqDMlYRIRgYq+uuVkMrUIhUSSTsdKBZAfyBexu0tckbiUt0tME1oWgHPElocKtSVVhoh8hmBJg72yQkRDMwALN5Pg25SeyWiYykDHztYoquKPuSW29cGOuhTXgGCVkDwwLvjQAR8AAAAhAGf9XRCfwGt84x9k8SUaJrKhSHoPLhBFg94aB8El/12gBqHo3OO/+6eAq6cttK95YsEsy94tRVvvw0g6qWrN8ua1MHwqZK6k9CTeGx4LE9PjaauvPi7zv8bNlJsDt6oRhvhVcKl5IsL3DvvY4rEvS1Y4+UJRsK43GOhAZZO5iIJbAANmQAAAJsBn/dqQn8BrnjMh0PLSenDT9I3hf8uD3YPaGW+XdH+6fAQAdAmQYJoJl6CJmIjYN6L+JUaSGSCnvFGuRADaodELyA/+k3SuHz92g0CtyUbpeO0H08zJYgZEVBEzwTxrijdsWoeE5uqcPjcO9TQlj3V+1VqvGXp/vKc3XalvxiaPDP8JCM5KQdH1RKD3A8ov9XyoOSHp0l0YAAEXQAAAF1Bm/lJqEFsmUwIT//98QAAAwACOg57gClhwo8SyuVy6eIHbfgx8fehWid5dYjQzIrdEyQMsGvZt+bqqe7bXVhvZQPkA9JLuZb8ZRDElxQ5E/qgVjtXiiALX58WmYAAAAjGZYiCAAQ//veBvzLLZD+qyXH5530srM885DxyXYmuuNAAAAMAAAMAAUeHteuN3YNbSdAAABrAA6QfwXkYMdAj4+RwjoHARIvALcV9gsMxQQAGWbtKQmwphVeoka77WqGvL+tuceO6RpApU5W6c5GMjZk3Ode5mzkQLtaGEguA8ooEuGSRPviyx0D3cgEBDv4YuXqaUeBpb8GAg8H6Yx3PxpOgKI/5uAljkW+9ScKa44k2qGfP6U+MDKSbTjRWKiQrTSIIrRIwVp9qGWiVG83wtPOVjuCytBVqkuD11zd4DshCXouequzdMua+CXOCTGn4sFFoh2KaPq5LTyMz3KNUAJ2BhIxWQPz2QVzTvGVB9vMBKgSuwEov40CcVvdMC9dnKYpn4VxJfGYAHRRGWEOmozYihIMN0ilVuNNxiiEWkFPWXWys5rwbcNIbdP2oiHYWYK0iaMABf+h8Y1q3aW1henvCX6Vp0SKQLjLoO2M/LedByUjdfOO/7/QWsZRoeCXwgzEmbkYTKcqoLqGrW/X5TM7m1VJ9QqCcXQ67Ae9tfNdxvG3lsJA/nGO6WC91DdE9E6AJMf0I3hize9/dby0zUp9szJsoQzadXY1i0YekOBQnsvleR0FRAra+LrY1FhNeXYkdKb8xnB2VjVG/zcTuP3FKeZLT1VynuEJCYkA+N1xf3h2Vg0hQVNphF6m+WC3R9OtBOCr5qCWqOfbWfHzOk6gdP4q/5FKTv6+5WFdwo+pX/z4rWYZQClkWDanqP+ZdmPcXGyv1yTZZYBLyRXNdxG5VD6QqDPgEDt9rCfoWh1Q1afRNjqEbK5mhRmG8UmkyG6hdZwjU251IdKjvKVWAbFiF20Y2X2FQddijYCZzxxetXRxFbQ4AYwOuMpCQVQTJHfb82Z//RRkdlw95/GwtOXRfKE0ASaLAmONCskBMg5dcrHHGux3a8GorOZlLeEx/JQUKylc6HtYaVNYTICK7GVmABuvwjwn7ePmdubvWsjQOrDSPp58jPyF1ERpDYuaphsvXscQk9cD6NQgSdw0FJotNkIFkdRcVUpyilCPJdBbfrHcErx9lV/JRXNBZGV1f/9lxlXp2hsy11v8cpme5HodJSGW+0gxpqMtmwGT8TkuJcErk/uawK8bXC95fWoMz5dlZ0B2fXQWJR5DgENxYsLH7fcasnOhXqv/6PVrEETPoYVurR25wxf0xsliWvJg0Hi/pbcwG3s7PYZOmixwWtiZ1xEsZABKCpLrLm6eRIgHoyoCu57rhv6nnFIMJRobRK7RteZVTg97+Hb1LIEkTBH2WVxiXVs6Q9+jT4kGwAQKy6sYyC8C2JBPGgZkJ9C5mC4HxzOpjwrlGfegwp7DCxB0S1B25rB96No43fLifR6RaVVjn2U1ikfV4Exx4sUwpofVR8G3xmvuyKPfwO8B2jXL8Zp1vcSqWv1OgJ0G8qrF0sz88COpei5N6kS4l3Lm2+Hh/hDWguTcDUJfK0EzwMv2mrWSGnZEX+XBTBtQxTzbZwhgGAbkpjzvExqPvJqMTeTM8yyesjy0g8zmmlj5Cfb/L4GDlwUP5uhK/Z8b/Fb+m9ezQKCAHD+RDPMV7aS+CGZUm9YK5t4h+HDfqBXsUvLMLVmTe8Kqs2IWDbPPXqiEO/315iY8G3i8W/IQffSqCHDekPlp1iJPKSao9MluYJkuKG6oWXie+t+jGBct/LW/E+5lx1OH9hpQmpz2alx7hozGVBpvXTASsXNANyjohWssG4sv8Jbk3zND7w+Yzf/SJVTl0BrbgIZG2uY1VtKqN6H2agEUBM8dkA35ZOwZpT8euKMyv1z5aCmyCE/dzhPNussXlb7mfpZCyQx+Nsfa1buihtwE5MAj655gr8OjWyENoZHS5aMbWqZhDGm7YxHdDVDNNaU/1Sq+1nH31wRUQW3YGsffIUYfrBqZUm3H+bF9zcVpWI1SWTBL182swP7z+hud/aY8ePxGAIW7Ebpe9P7FjTEOgWyW6Dx9dJrxLMkgmxcsAUR1algTLar7aIoSzxEl316BTxdfmINSuXIOu5RT72nqZukhebI0XZ9dM8VjElZ/Ctnl2v/AnSHwqW/igY3gpILq0fjF4xfI+dZ1vMUwhCfwzfcSnOxMR2n+Hbh+mK6smm/SRd5IX/xt+3OqWm538B3p3gbCDyjvbyZD9NJ9LMT0y3lOhAuHm8CIbe4606e7HSsJRNse9kAExaxQp7rLgQKiVZsBe0BIK7HbU1ZNM4fHUoC+/XrZYyEZ9ADs4gp6o1ZhayZOr/u/QgnAmFLHmLt4UxBS6IGH1Kf1z5UHYVfcFGbLeoPc0Mz+LnqUdV00GnvmBz3Z+wJGQ1qf/WG3bsAoyztvm7wgOUrT6STo+fYcC4Y2feDIqcUYtuBcW0O/bvpErGj6lp2bskcugIVbmyQdVO93Az7+BQMG3UV9m//iTPpFrOM+sPTDUIbZ8kyphKR8RWocWuCbBvnxRDA98LYb3s9cwoeJpnTQMTz4pfowTGtOWNqB/1m+G4BlAUwIG6Dg9XbGI3DWCIWpKhKFehC+Ln1ppTaJfTGDmZvb7IOxnoGlmDC6+TcfNQvXp0G+LwesGAYEGsHtCwnZfMOSnXJLHnhmFyJ6S0D7ambJfnpbV8eQcxDCzpAVV81++DBJwqAjBZFzAl/ETERlWoPUS+aQh8wXflaE3WlCCYkJT93DTLaqpsmL7Uwc1OUR4jk7MdJT+F5PDptHq8STyYBKYQG+vlM4zlFzx8nNw6CKsTgRLGAnzhW7ebjcdFhpg1g0VXOrxBeeluAq2KFDvYngC0yzpy7sqPjwDrkzi5xzXWRIggodRnQyAUfsFcsBtXygvrNdYLKdHD9GpwRdrH4u6a37lUdQaDDqMC4jCqJcRr2sR/CrPNrl4JoJ2W8M+4T/on7BMCv+EKYJFL6Y034p1My4mZAKXReCEscz4yJk+TgRVXCdcrJ1u/8xjJn1aAh5UvYQOWBH/IAAAAwAAAwAALGEAAAETQZokbEN//qeEAAADACW+PQkAcb66BRm58CJGGO3RQEiSJbXNgdcgQ0vDLBWxpP4w6N1l4FTPZnrtrTTn7DzMsh3rKQ6IjJTTecaoUNm4dzlQuUB0ool2YaC52S5aorSUepPH5gFKAekiVdtDtjm0G2WKcmboTvChz0HCsqk0uqQxcTz96J5dZEJrUnFjU5i7qnRvZKz+TKkcx2jEnzldhbdPabRbFWB7whlcHOlVq4TCXBwqrfbpNx+1cmc/EqFX9iaheXOfyaD5qEDkWcMbnEsrq19LnGCA3Qw8a+1beTFYBczvP4XplITKGwELmE7DDFdyXFZDf+65yH1yrgOxq1S08xPeIKLrng1DLRI1TTQjrKQAAABaQZ5CeIV/AAADAB0IZvdAB0fs11PlaIKhSSFAnBmpwPXKCWOULR708WryxtRnUe5VztQ2W+xtJHRAqnhHlJfFzHpkZG/jezWNEvmE2EXeRoFI6EsS4+PZTB8xAAAAXwGeYXRCfwAAAwAkvs9s975fx0wAc+GOkuwCn5FlwYSCMnwLOGVmTWGKuSK5mPcaXJxy/pydrmwRRKIj/CIRQ4d0zQtGatyRxTuQnrrXk2lzt6+YXtseSeD/W5nrIBlRAAAAMwGeY2pCfwAAAwAlu3C2tguijjCn+fj4AJ24cKYDMA7rl09tMN46LomO5UHOu34Z6NAz4AAAAOFBmmhJqEFomUwIb//+p4QAAAMAJbPgLgDjHenyRjZSn4AEwHZcToqHm9vHWO2PNAn1rKUPzNLaYEnxJm8DsPV45x1zu9+sznrqehaecV1WOSEK9FhIAeQCP0U5xpHWX4ToexG7XFLBz7WnqYCG5ZOvnPeCpJLPRN/6cXJCkR11PyI6/EU7HkwVtZ7glIxWAGLNhj993YZYa5EEyb/Al6BdXXEul9D0b2BrHN3gvRnhsNO1qqIMVr3XZMLvfXiLwVZt5hsNlWJUaWPbaJvumKBcn9XLWehdT6dCkM9P7V6cX+AAAAArQZ6GRREsK/8AAAMAHmAde5yTVrLqxnKkSI7ad+q2RTTtWQkjkLmtbKYsBwAAAB4BnqV0Qn8AAAMAJ8ineNESCCZer4+XMym3UGwlCXgAAAAXAZ6nakJ/AAADACW7fs054/u/ucDmOLEAAAB1QZqsSahBbJlMCG///qeEAAADACSc48u0YTFq8EWgA7jv6U2BwPf7mb0cCFWW0MGJyL4prMsxPSWTKWoGam4Tvn39FUeeYWo8/254j+yJguXsshPhs+BpFkG9QazraS/kaA9rUGy3ilik/OumxuCI+LH3HHmAAAAAIUGeykUVLCv/AAADAB0K9yIhoSzjqv2PsSf4xY96YcDagQAAABcBnul0Qn8AAAMAJa1HpUlOL1+Dg2QtwQAAABgBnutqQn8AAAMAJbuAnqU6m/wG8TQxPuEAAAAwQZrwSahBbJlMCG///qeEAAADAA7Q9tQAmjwy+IAns3C50vG6JuXfOS/XTV8nghJxAAAAMUGfDkUVLCv/AAADAB0K912XqJRFCsgA2laOcZD+9DKaYNvzl+bZX1RY4dpuwNasAYUAAAA0AZ8tdEJ/AAADAA7j7gAIe8Izfs49gKMjGJk6nKtHk2KEME0HHkYutn/sz+NVv6N5b4j+zAAAADYBny9qQn8AAAMAD4uvBuM1BZcAVbHe2TPkBgNslm0ngpyWOHogBtacYLFgHgFPna7EwTmlBU0AAAAzQZs0SahBbJlMCG///qeEAAADACSwBqQAWBbhYsXVbubGTgK3HpfWanUZ8LbReA81BAxYAAAAF0GfUkUVLCv/AAADAB2wNxusAJPtL4jYAAAAKAGfcXRCfwAAAwAfxiwmgwAL8Jkd1HL1ZjtocjZDegaZvH8/sRQQlfEAAAAQAZ9zakJ/AAADAAVC37wj4QAAABhBm3hJqEFsmUwIb//+p4QAAAMAAAMA1IEAAAASQZ+WRRUsK/8AAAMAA/leiAWUAAAAEAGftXRCfwAAAwAFQRjQLKAAAAAQAZ+3akJ/AAADAAVC37wj4QAAABhBm7xJqEFsmUwIb//+p4QAAAMAAAMA1IAAAAASQZ/aRRUsK/8AAAMAA/leiAWUAAAAEAGf+XRCfwAAAwAFQRjQLKEAAAAQAZ/7akJ/AAADAAVC37wj4AAAABdBm+BJqEFsmUwIZ//+nhAAAAMAAAMDPwAAABJBnh5FFSwr/wAAAwAD+V6IBZUAAAAQAZ49dEJ/AAADAAVBGNAsoAAAABABnj9qQn8AAAMABULfvCPhAAAAF0GaJEmoQWyZTAhf//6MsAAAAwAAAwNCAAAAEkGeQkUVLCv/AAADAAP5XogFlQAAABABnmF0Qn8AAAMABUEY0CyhAAAAEAGeY2pCfwAAAwAFQt+8I+AAAAAYQZpmSahBbJlMFEwn//3xAAADAAADAB6QAAAAEAGehWpCfwAAAwAFQ836DUkAABChbW9vdgAAAGxtdmhkAAAAAAAAAAAAAAAAAAAD6AAAJaIAAQAAAQAAAAAAAAAAAAAAAAEAAAAAAAAAAAAAAAAAAAABAAAAAAAAAAAAAAAAAABAAAAAAAAAAAAAAAAAAAAAAAAAAAAAAAAAAAAAAAAAAgAAD8x0cmFrAAAAXHRraGQAAAADAAAAAAAAAAAAAAABAAAAAAAAJaIAAAAAAAAAAAAAAAAAAAAAAAEAAAAAAAAAAAAAAAAAAAABAAAAAAAAAAAAAAAAAABAAAAAAmAAAAGQAAAAAAAkZWR0cwAAABxlbHN0AAAAAAAAAAEAACWiAAAEAAABAAAAAA9EbWRpYQAAACBtZGhkAAAAAAAAAAAAAAAAAAA8AAACQgBVxAAAAAAALWhkbHIAAAAAAAAAAHZpZGUAAAAAAAAAAAAAAABWaWRlb0hhbmRsZXIAAAAO721pbmYAAAAUdm1oZAAAAAEAAAAAAAAAAAAAACRkaW5mAAAAHGRyZWYAAAAAAAAAAQAAAAx1cmwgAAAAAQAADq9zdGJsAAAAr3N0c2QAAAAAAAAAAQAAAJ9hdmMxAAAAAAAAAAEAAAAAAAAAAAAAAAAAAAAAAmABkABIAAAASAAAAAAAAAABFUxhdmM2MS4xOS4xMDAgbGlieDI2NAAAAAAAAAAAAAAAGP//AAAANWF2Y0MBZAAe/+EAGGdkAB6s2UCYM6EAAAMAAQAAAwA8DxYtlgEABmjr48siwP34+AAAAAAUYnRydAAAAAAAAL4ZAAC+GQAAABhzdHRzAAAAAAAAAAEAAAEhAAACAAAAABhzdHNzAAAAAAAAAAIAAAABAAAA+wAACQBjdHRzAAAAAAAAAR4AAAABAAAEAAAAAAEAAAoAAAAAAQAABAAAAAABAAAAAAAAAAEAAAIAAAAAAQAACgAAAAABAAAEAAAAAAEAAAAAAAAAAQAAAgAAAAABAAAKAAAAAAEAAAQAAAAAAQAAAAAAAAABAAACAAAAAAEAAAoAAAAAAQAABAAAAAABAAAAAAAAAAEAAAIAAAAAAQAACgAAAAABAAAEAAAAAAEAAAAAAAAAAQAAAgAAAAABAAAKAAAAAAEAAAQAAAAAAQAAAAAAAAABAAACAAAAAAEAAAoAAAAAAQAABAAAAAABAAAAAAAAAAEAAAIAAAAAAQAABAAAAAABAAAKAAAAAAEAAAQAAAAAAQAAAAAAAAABAAACAAAAAAEAAAYAAAAAAQAAAgAAAAABAAAKAAAAAAEAAAQAAAAAAQAAAAAAAAABAAACAAAAAAEAAAoAAAAAAQAABAAAAAABAAAAAAAAAAEAAAIAAAAAAQAACgAAAAABAAAEAAAAAAEAAAAAAAAAAQAAAgAAAAABAAAKAAAAAAEAAAQAAAAAAQAAAAAAAAABAAACAAAAAAEAAAoAAAAAAQAABAAAAAABAAAAAAAAAAEAAAIAAAAAAQAACgAAAAABAAAEAAAAAAEAAAAAAAAAAQAAAgAAAAABAAAKAAAAAAEAAAQAAAAAAQAAAAAAAAABAAACAAAAAAEAAAoAAAAAAQAABAAAAAABAAAAAAAAAAEAAAIAAAAAAQAACAAAAAACAAACAAAAAAEAAAYAAAAAAQAAAgAAAAABAAAKAAAAAAEAAAQAAAAAAQAAAAAAAAABAAACAAAAAAEAAAoAAAAAAQAABAAAAAABAAAAAAAAAAEAAAIAAAAAAQAACgAAAAABAAAEAAAAAAEAAAAAAAAAAQAAAgAAAAABAAAKAAAAAAEAAAQAAAAAAQAAAAAAAAABAAACAAAAAAEAAAoAAAAAAQAABAAAAAABAAAAAAAAAAEAAAIAAAAAAQAACgAAAAABAAAEAAAAAAEAAAAAAAAAAQAAAgAAAAABAAAKAAAAAAEAAAQAAAAAAQAAAAAAAAABAAACAAAAAAEAAAoAAAAAAQAABAAAAAABAAAAAAAAAAEAAAIAAAAAAQAACgAAAAABAAAEAAAAAAEAAAAAAAAAAQAAAgAAAAABAAAKAAAAAAEAAAQAAAAAAQAAAAAAAAABAAACAAAAAAEAAAoAAAAAAQAABAAAAAABAAAAAAAAAAEAAAIAAAAAAQAACgAAAAABAAAEAAAAAAEAAAAAAAAAAQAAAgAAAAABAAAKAAAAAAEAAAQAAAAAAQAAAAAAAAABAAACAAAAAAEAAAoAAAAAAQAABAAAAAABAAAAAAAAAAEAAAIAAAAAAQAACgAAAAABAAAEAAAAAAEAAAAAAAAAAQAAAgAAAAABAAAKAAAAAAEAAAQAAAAAAQAAAAAAAAABAAACAAAAAAEAAAoAAAAAAQAABAAAAAABAAAAAAAAAAEAAAIAAAAAAQAACgAAAAABAAAEAAAAAAEAAAAAAAAAAQAAAgAAAAABAAAKAAAAAAEAAAQAAAAAAQAAAAAAAAABAAACAAAAAAEAAAoAAAAAAQAABAAAAAABAAAAAAAAAAEAAAIAAAAAAQAACgAAAAABAAAEAAAAAAEAAAAAAAAAAQAAAgAAAAABAAAKAAAAAAEAAAQAAAAAAQAAAAAAAAABAAACAAAAAAEAAAoAAAAAAQAABAAAAAABAAAAAAAAAAEAAAIAAAAAAQAACgAAAAABAAAEAAAAAAEAAAAAAAAAAQAAAgAAAAABAAAKAAAAAAEAAAQAAAAAAQAAAAAAAAABAAACAAAAAAEAAAYAAAAAAQAAAgAAAAABAAAKAAAAAAEAAAQAAAAAAQAAAAAAAAABAAACAAAAAAEAAAoAAAAAAQAABAAAAAABAAAAAAAAAAEAAAIAAAAAAQAACgAAAAABAAAEAAAAAAEAAAAAAAAAAQAAAgAAAAACAAAEAAAAAAEAAAoAAAAAAQAABAAAAAABAAAAAAAAAAEAAAIAAAAAAQAACgAAAAABAAAEAAAAAAEAAAAAAAAAAQAAAgAAAAABAAAKAAAAAAEAAAQAAAAAAQAAAAAAAAABAAACAAAAAAEAAAoAAAAAAQAABAAAAAABAAAAAAAAAAEAAAIAAAAAAQAACgAAAAABAAAEAAAAAAEAAAAAAAAAAQAAAgAAAAABAAAKAAAAAAEAAAQAAAAAAQAAAAAAAAABAAACAAAAAAEAAAoAAAAAAQAABAAAAAABAAAAAAAAAAEAAAIAAAAAAQAACgAAAAABAAAEAAAAAAEAAAAAAAAAAQAAAgAAAAABAAAKAAAAAAEAAAQAAAAAAQAAAAAAAAABAAACAAAAAAEAAAoAAAAAAQAABAAAAAABAAAAAAAAAAEAAAIAAAAAAQAACgAAAAABAAAEAAAAAAEAAAAAAAAAAQAAAgAAAAABAAAKAAAAAAEAAAQAAAAAAQAAAAAAAAABAAACAAAAAAEAAAoAAAAAAQAABAAAAAABAAAAAAAAAAEAAAIAAAAAAQAACgAAAAABAAAEAAAAAAEAAAAAAAAAAQAAAgAAAAABAAAKAAAAAAEAAAQAAAAAAQAAAAAAAAABAAACAAAAAAIAAAQAAAAAAQAACgAAAAABAAAEAAAAAAEAAAAAAAAAAQAAAgAAAAABAAAKAAAAAAEAAAQAAAAAAQAAAAAAAAABAAACAAAAAAEAAAoAAAAAAQAABAAAAAABAAAAAAAAAAEAAAIAAAAAAQAACgAAAAABAAAEAAAAAAEAAAAAAAAAAQAAAgAAAAABAAAKAAAAAAEAAAQAAAAAAQAAAAAAAAABAAACAAAAAAEAAAoAAAAAAQAABAAAAAABAAAAAAAAAAEAAAIAAAAAAQAACgAAAAABAAAEAAAAAAEAAAAAAAAAAQAAAgAAAAABAAAKAAAAAAEAAAQAAAAAAQAAAAAAAAABAAACAAAAAAEAAAoAAAAAAQAABAAAAAABAAAAAAAAAAEAAAIAAAAAAQAABgAAAAABAAACAAAAABxzdHNjAAAAAAAAAAEAAAABAAABIQAAAAEAAASYc3RzegAAAAAAAAAAAAABIQAACR4AAAE7AAAAWAAAAEEAAABDAAAAlwAAAEgAAAAwAAAASQAAAKMAAABAAAAAIwAAADoAAAChAAAAZAAAADoAAABBAAAA5QAAAEgAAAApAAAAMAAAAPUAAABgAAAANAAAAEgAAADxAAAAUwAAAD0AAAA7AAAAygAAAUQAAAB7AAAAaQAAAIgAAAE7AAAAegAAASIAAACmAAAAkAAAAJEAAAFZAAAA2AAAAMsAAADEAAABSgAAANkAAADnAAAAvwAAATwAAADJAAAAugAAAOgAAAEuAAABCAAAAOgAAADjAAABYgAAAPMAAADXAAAA1gAAAPkAAAEHAAAA5wAAANUAAAEKAAAAwgAAALsAAACzAAABCQAAAL8AAAB/AAABAgAAAIwAAAE3AAAAswAAAHgAAACgAAABOgAAAM0AAAC4AAAArQAAARgAAADIAAAAqAAAALUAAAEoAAAAvAAAAKkAAADOAAABIQAAALIAAADEAAAAxQAAATgAAADXAAAAwwAAAMIAAAFwAAAAtgAAAM0AAADUAAABYAAAANoAAADUAAAAyAAAAS4AAADZAAAApwAAAOUAAAEVAAAAyAAAAMoAAACxAAABUwAAANYAAADmAAAA4gAAATwAAADbAAAA2QAAALkAAAEsAAAAxwAAANYAAADFAAABTQAAAMIAAADIAAAA1wAAATcAAADqAAAAwQAAALAAAAFBAAAAtgAAAN8AAACyAAABLQAAAP0AAADaAAAA4AAAAYEAAADuAAAA7wAAAL8AAAHJAAAA6wAAALgAAADHAAABagAAAOUAAAC+AAAAvAAAAXIAAADNAAAAvQAAAK0AAAFzAAAAvwAAAMMAAAC5AAABRQAAAOsAAACrAAAApQAAAX4AAAD5AAAAwQAAAJYAAAE3AAAA0gAAALgAAADFAAAA3gAAAJUAAAFlAAAAhwAAAK4AAADKAAABSQAAANEAAADLAAAA1gAAAWsAAADHAAAAngAAANUAAADeAAABAgAAAVMAAADmAAAAmAAAAKcAAAFMAAAA0QAAALsAAAC0AAABQwAAAN0AAACyAAAAxQAAAUcAAADKAAAArAAAAKIAAAE7AAAA4QAAAL0AAACgAAABSwAAAMoAAADUAAAAqwAAAUEAAADjAAAAsQAAAMkAAAEyAAAAygAAAK4AAACnAAABYgAAAM4AAACgAAAApwAAAS8AAADGAAAAqQAAAL0AAAEFAAAAywAAAKUAAACmAAAAtAAAAKoAAACNAAAAmQAAAPEAAACLAAAApgAAAJkAAAEvAAAA0AAAAJYAAACCAAABUQAAALIAAACIAAAAnwAAAGEAAAjKAAABFwAAAF4AAABjAAAANwAAAOUAAAAvAAAAIgAAABsAAAB5AAAAJQAAABsAAAAcAAAANAAAADUAAAA4AAAAOgAAADcAAAAbAAAALAAAABQAAAAcAAAAFgAAABQAAAAUAAAAHAAAABYAAAAUAAAAFAAAABsAAAAWAAAAFAAAABQAAAAbAAAAFgAAABQAAAAUAAAAHAAAABQAAAAUc3RjbwAAAAAAAAABAAAAMAAAAGF1ZHRhAAAAWW1ldGEAAAAAAAAAIWhkbHIAAAAAAAAAAG1kaXJhcHBsAAAAAAAAAAAAAAAALGlsc3QAAAAkqXRvbwAAABxkYXRhAAAAAQAAAABMYXZmNjEuNy4xMDA=\" type=\"video/mp4\">\n",
       "    Your browser does not support the video tag.\n",
       "    </video>"
      ],
      "text/plain": [
       "<IPython.core.display.HTML object>"
      ]
     },
     "execution_count": 18,
     "metadata": {},
     "output_type": "execute_result"
    }
   ],
   "source": [
    "import importlib\n",
    "importlib.reload(utils)\n",
    "\n",
    "filename = \"./videos/lunar_lander.mp4\"\n",
    "\n",
    "utils.create_video(filename, env, q_network)\n",
    "utils.embed_mp4(filename)"
   ]
  },
  {
   "cell_type": "markdown",
   "metadata": {
    "id": "ENQlCju4mKgZ"
   },
   "source": [
    "<a name=\"11\"></a>\n",
    "## 11 - Congratulations!\n",
    "\n",
    "You have successfully used Deep Q-Learning with Experience Replay to train an agent to land a lunar lander safely on a landing pad on the surface of the moon. Congratulations!"
   ]
  },
  {
   "cell_type": "markdown",
   "metadata": {
    "id": "fM9txkuYmKgZ"
   },
   "source": [
    "<a name=\"12\"></a>\n",
    "## 12 - References\n",
    "\n",
    "If you would like to learn more about Deep Q-Learning, we recommend you check out the following papers.\n",
    "\n",
    "\n",
    "* Mnih, V., Kavukcuoglu, K., Silver, D. et al. Human-level control through deep reinforcement learning. Nature 518, 529–533 (2015).\n",
    "\n",
    "\n",
    "* Lillicrap, T. P., Hunt, J. J., Pritzel, A., et al. Continuous Control with Deep Reinforcement Learning. ICLR (2016).\n",
    "\n",
    "\n",
    "* Mnih, V., Kavukcuoglu, K., Silver, D. et al. Playing Atari with Deep Reinforcement Learning. arXiv e-prints.  arXiv:1312.5602 (2013)."
   ]
  },
  {
   "cell_type": "markdown",
   "metadata": {
    "id": "MNugViv7mKgZ"
   },
   "source": [
    "<details>\n",
    "  <summary><font size=\"2\" color=\"darkgreen\"><b>Please click here if you want to experiment with any of the non-graded code.</b></font></summary>\n",
    "    <p><i><b>Important Note: Please only do this when you've already passed the assignment to avoid problems with the autograder.</b></i>\n",
    "    <ol>\n",
    "        <li> On the notebook’s menu, click “View” > “Cell Toolbar” > “Edit Metadata”</li>\n",
    "        <li> Hit the “Edit Metadata” button next to the code cell which you want to lock/unlock</li>\n",
    "        <li> Set the attribute value for “editable” to:\n",
    "            <ul>\n",
    "                <li> “true” if you want to unlock it </li>\n",
    "                <li> “false” if you want to lock it </li>\n",
    "            </ul>\n",
    "        </li>\n",
    "        <li> On the notebook’s menu, click “View” > “Cell Toolbar” > “None” </li>\n",
    "    </ol>\n",
    "    <p> Here's a short demo of how to do the steps above:\n",
    "        <br>\n",
    "        <img src=\"https://lh3.google.com/u/0/d/14Xy_Mb17CZVgzVAgq7NCjMVBvSae3xO1\" align=\"center\" alt=\"unlock_cells.gif\">\n",
    "</details>"
   ]
  }
 ],
 "metadata": {
  "accelerator": "GPU",
  "colab": {
   "gpuType": "T4",
   "include_colab_link": true,
   "name": "TensorFlow - Lunar Lander.ipynb",
   "provenance": [],
   "toc_visible": true
  },
  "kernelspec": {
   "display_name": "Python 3 (ipykernel)",
   "language": "python",
   "name": "python3"
  },
  "language_info": {
   "codemirror_mode": {
    "name": "ipython",
    "version": 3
   },
   "file_extension": ".py",
   "mimetype": "text/x-python",
   "name": "python",
   "nbconvert_exporter": "python",
   "pygments_lexer": "ipython3",
   "version": "3.9.6"
  }
 },
 "nbformat": 4,
 "nbformat_minor": 4
}
