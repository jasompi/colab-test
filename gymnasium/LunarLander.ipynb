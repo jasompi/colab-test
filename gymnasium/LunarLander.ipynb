{
  "cells": [
    {
      "cell_type": "markdown",
      "metadata": {
        "id": "view-in-github",
        "colab_type": "text"
      },
      "source": [
        "<a href=\"https://colab.research.google.com/github/jasompi/colab-test/blob/main/gymnasium/LunarLander.ipynb\" target=\"_parent\"><img src=\"https://colab.research.google.com/assets/colab-badge.svg\" alt=\"Open In Colab\"/></a>"
      ]
    },
    {
      "cell_type": "markdown",
      "metadata": {
        "id": "s1tFJZOimKgG"
      },
      "source": [
        "# Deep Q-Learning - Lunar Lander\n",
        "\n",
        "In this assignment, you will train an agent to land a lunar lander safely on a landing pad on the surface of the moon.\n",
        "\n",
        "\n",
        "# Outline\n",
        "- [ 1 - Import Packages <img align=\"Right\" src=\"https://github.com/jasompi/colab-test/blob/main/gymnasium/images/lunar_lander.gif?raw=1\" width = 60% >](#1)\n",
        "- [ 2 - Hyperparameters](#2)\n",
        "- [ 3 - The Lunar Lander Environment](#3)\n",
        "  - [ 3.1 Action Space](#3.1)\n",
        "  - [ 3.2 Observation Space](#3.2)\n",
        "  - [ 3.3 Rewards](#3.3)\n",
        "  - [ 3.4 Episode Termination](#3.4)\n",
        "- [ 4 - Load the Environment](#4)\n",
        "- [ 5 - Interacting with the Gym Environment](#5)\n",
        "    - [ 5.1 Exploring the Environment's Dynamics](#5.1)\n",
        "- [ 6 - Deep Q-Learning](#6)\n",
        "  - [ 6.1 Target Network](#6.1)\n",
        "    - [ Exercise 1](#ex01)\n",
        "  - [ 6.2 Experience Replay](#6.2)\n",
        "- [ 7 - Deep Q-Learning Algorithm with Experience Replay](#7)\n",
        "  - [ Exercise 2](#ex02)\n",
        "- [ 8 - Update the Network Weights](#8)\n",
        "- [ 9 - Train the Agent](#9)\n",
        "- [ 10 - See the Trained Agent In Action](#10)\n",
        "- [ 11 - Congratulations!](#11)\n",
        "- [ 12 - References](#12)\n"
      ]
    },
    {
      "cell_type": "markdown",
      "metadata": {
        "id": "_CLqqz5JmKgI"
      },
      "source": [
        "_**NOTE:** To prevent errors from the autograder, you are not allowed to edit or delete non-graded cells in this lab. Please also refrain from adding any new cells.\n",
        "**Once you have passed this assignment** and want to experiment with any of the non-graded code, you may follow the instructions at the bottom of this notebook._"
      ]
    },
    {
      "cell_type": "markdown",
      "metadata": {
        "id": "THPrwLSYmKgI"
      },
      "source": [
        "<a name=\"1\"></a>\n",
        "## 1 - Import Packages\n",
        "\n",
        "We'll make use of the following packages:\n",
        "- `numpy` is a package for scientific computing in python.\n",
        "- `deque` will be our data structure for our memory buffer.\n",
        "- `namedtuple` will be used to store the experience tuples.\n",
        "- The `gym` toolkit is a collection of environments that can be used to test reinforcement learning algorithms. We should note that in this notebook we are using `gym` version `0.24.0`.\n",
        "- `PIL.Image` and `pyvirtualdisplay` are needed to render the Lunar Lander environment.\n",
        "- We will use several modules from the `tensorflow.keras` framework for building deep learning models.\n",
        "- `utils` is a module that contains helper functions for this assignment. You do not need to modify the code in this file.\n",
        "\n",
        "Run the cell below to import all the necessary packages."
      ]
    },
    {
      "cell_type": "code",
      "source": [
        "!apt-get update\n",
        "!apt-get install -y xvfb\n",
        "!apt-get install -y swig"
      ],
      "metadata": {
        "id": "MX4L_1ULpI0F",
        "outputId": "4ca15bdd-c4a2-4050-ab66-1cc844e16cb9",
        "colab": {
          "base_uri": "https://localhost:8080/"
        }
      },
      "execution_count": 12,
      "outputs": [
        {
          "output_type": "stream",
          "name": "stdout",
          "text": [
            "\r0% [Working]\r            \rHit:1 https://cloud.r-project.org/bin/linux/ubuntu jammy-cran40/ InRelease\n",
            "\r0% [Connecting to archive.ubuntu.com (91.189.91.83)] [Connecting to security.ubuntu.com] [Connected \r                                                                                                    \rHit:2 http://archive.ubuntu.com/ubuntu jammy InRelease\n",
            "\r0% [Waiting for headers] [Connecting to security.ubuntu.com] [Waiting for headers] [Connecting to pp\r                                                                                                    \rHit:3 http://archive.ubuntu.com/ubuntu jammy-updates InRelease\n",
            "\r0% [Waiting for headers] [Connecting to security.ubuntu.com (185.125.190.83)] [Waiting for headers] \r                                                                                                    \rHit:4 http://archive.ubuntu.com/ubuntu jammy-backports InRelease\n",
            "Hit:5 https://r2u.stat.illinois.edu/ubuntu jammy InRelease\n",
            "Hit:6 http://security.ubuntu.com/ubuntu jammy-security InRelease\n",
            "Hit:7 https://ppa.launchpadcontent.net/deadsnakes/ppa/ubuntu jammy InRelease\n",
            "Hit:8 https://ppa.launchpadcontent.net/ubuntugis/ppa/ubuntu jammy InRelease\n",
            "Reading package lists... Done\n",
            "W: Skipping acquire of configured file 'main/source/Sources' as repository 'https://r2u.stat.illinois.edu/ubuntu jammy InRelease' does not seem to provide it (sources.list entry misspelt?)\n",
            "Reading package lists... Done\n",
            "Building dependency tree... Done\n",
            "Reading state information... Done\n",
            "xvfb is already the newest version (2:21.1.4-2ubuntu1.7~22.04.13).\n",
            "0 upgraded, 0 newly installed, 0 to remove and 23 not upgraded.\n",
            "Reading package lists... Done\n",
            "Building dependency tree... Done\n",
            "Reading state information... Done\n",
            "swig is already the newest version (4.0.2-1ubuntu1).\n",
            "0 upgraded, 0 newly installed, 0 to remove and 23 not upgraded.\n"
          ]
        }
      ]
    },
    {
      "cell_type": "code",
      "source": [
        "!pip install -q gymnasium\n",
        "!pip install -q tensorflow\n",
        "!pip install -q numpy\n",
        "!pip install -q pillow\n",
        "!pip install -q PyVirtualDisplay\n",
        "!pip install box2d box2d-kengz\n",
        "!pip install imageio==2.19.3\n",
        "!pip install imageio-ffmpeg==0.4.7"
      ],
      "metadata": {
        "id": "Tua68wnkmYbi",
        "outputId": "afbfdb30-951c-4871-d32e-2f3c068b31fa",
        "colab": {
          "base_uri": "https://localhost:8080/"
        }
      },
      "execution_count": 13,
      "outputs": [
        {
          "output_type": "stream",
          "name": "stdout",
          "text": [
            "Collecting box2d\n",
            "  Downloading Box2D-2.3.10-cp311-cp311-manylinux_2_17_x86_64.manylinux2014_x86_64.whl.metadata (573 bytes)\n",
            "Collecting box2d-kengz\n",
            "  Downloading Box2D-kengz-2.3.3.tar.gz (425 kB)\n",
            "\u001b[2K     \u001b[90m━━━━━━━━━━━━━━━━━━━━━━━━━━━━━━━━━━━━━━━━\u001b[0m \u001b[32m425.4/425.4 kB\u001b[0m \u001b[31m7.4 MB/s\u001b[0m eta \u001b[36m0:00:00\u001b[0m\n",
            "\u001b[?25h  Preparing metadata (setup.py) ... \u001b[?25l\u001b[?25hdone\n",
            "Downloading Box2D-2.3.10-cp311-cp311-manylinux_2_17_x86_64.manylinux2014_x86_64.whl (3.7 MB)\n",
            "\u001b[2K   \u001b[90m━━━━━━━━━━━━━━━━━━━━━━━━━━━━━━━━━━━━━━━━\u001b[0m \u001b[32m3.7/3.7 MB\u001b[0m \u001b[31m62.5 MB/s\u001b[0m eta \u001b[36m0:00:00\u001b[0m\n",
            "\u001b[?25hBuilding wheels for collected packages: box2d-kengz\n",
            "  Building wheel for box2d-kengz (setup.py) ... \u001b[?25l\u001b[?25hdone\n",
            "  Created wheel for box2d-kengz: filename=Box2D_kengz-2.3.3-cp311-cp311-linux_x86_64.whl size=2369376 sha256=01f8a9f5b623bddc3334e8b41f24226c639fa9ab79ada01a26caa216c728584b\n",
            "  Stored in directory: /root/.cache/pip/wheels/52/6a/a7/b49372347210a86f54c6603329c24c48dba26c98586ae80fbb\n",
            "Successfully built box2d-kengz\n",
            "Installing collected packages: box2d-kengz, box2d\n",
            "Successfully installed box2d-2.3.10 box2d-kengz-2.3.3\n"
          ]
        }
      ]
    },
    {
      "cell_type": "code",
      "source": [
        "#!Xvfb :1 -screen 0 1600x1200x16 &\n",
        "import os\n",
        "os.environ['DISPLAY'] = ':1'"
      ],
      "metadata": {
        "id": "DDbCTF1_pPrl"
      },
      "execution_count": 6,
      "outputs": []
    },
    {
      "cell_type": "code",
      "execution_count": 29,
      "metadata": {
        "deletable": false,
        "editable": true,
        "id": "KYbOPKRtfQOr",
        "tags": []
      },
      "outputs": [],
      "source": [
        "import time\n",
        "from collections import deque, namedtuple\n",
        "\n",
        "import gymnasium as gym\n",
        "import numpy as np\n",
        "import PIL.Image\n",
        "import tensorflow as tf\n",
        "import utils\n",
        "\n",
        "from pyvirtualdisplay import Display\n",
        "from tensorflow.keras import Sequential\n",
        "from tensorflow.keras.layers import Dense, Input\n",
        "from tensorflow.keras.losses import MSE\n",
        "from tensorflow.keras.optimizers import Adam"
      ]
    },
    {
      "cell_type": "code",
      "execution_count": 7,
      "metadata": {
        "deletable": false,
        "editable": true,
        "id": "F-2bLfXXmKgJ"
      },
      "outputs": [],
      "source": [
        "# Set up a virtual display to render the Lunar Lander environment.\n",
        "Display(visible=0, size=(840, 480)).start();\n",
        "\n",
        "# Set the random seed for TensorFlow\n",
        "tf.random.set_seed(utils.SEED)"
      ]
    },
    {
      "cell_type": "markdown",
      "metadata": {
        "id": "WKGsWpLtmKgJ"
      },
      "source": [
        "<a name=\"2\"></a>\n",
        "## 2 - Hyperparameters\n",
        "\n",
        "Run the cell below to set the hyperparameters."
      ]
    },
    {
      "cell_type": "code",
      "execution_count": 8,
      "metadata": {
        "deletable": false,
        "editable": true,
        "id": "fLOJgabImKgK"
      },
      "outputs": [],
      "source": [
        "MEMORY_SIZE = 100_000     # size of memory buffer\n",
        "GAMMA = 0.995             # discount factor\n",
        "ALPHA = 1e-3              # learning rate\n",
        "NUM_STEPS_FOR_UPDATE = 4  # perform a learning update every C time steps"
      ]
    },
    {
      "cell_type": "markdown",
      "metadata": {
        "id": "8xxyomONmKgK"
      },
      "source": [
        "<a name=\"3\"></a>\n",
        "## 3 - The Lunar Lander Environment\n",
        "\n",
        "In this notebook we will be using [OpenAI's Gym Library](https://www.gymlibrary.dev/). The Gym library provides a wide variety of environments for reinforcement learning. To put it simply, an environment represents a problem or task to be solved. In this notebook, we will try to solve the Lunar Lander environment using reinforcement learning.\n",
        "\n",
        "The goal of the Lunar Lander environment is to land the lunar lander safely on the landing pad on the surface of the moon. The landing pad is designated by two flag poles and its center is at coordinates `(0,0)` but the lander is also allowed to land outside of the landing pad. The lander starts at the top center of the environment with a random initial force applied to its center of mass and has infinite fuel. The environment is considered solved if you get `200` points.\n",
        "\n",
        "<br>\n",
        "<br>\n",
        "<figure>\n",
        "  <img src = \"images/lunar_lander.gif\" width = 40%>\n",
        "      <figcaption style = \"text-align: center; font-style: italic\">Fig 1. Lunar Lander Environment.</figcaption>\n",
        "</figure>\n",
        "\n",
        "\n",
        "\n",
        "<a name=\"3.1\"></a>\n",
        "### 3.1 Action Space\n",
        "\n",
        "The agent has four discrete actions available:\n",
        "\n",
        "* Do nothing.\n",
        "* Fire right engine.\n",
        "* Fire main engine.\n",
        "* Fire left engine.\n",
        "\n",
        "Each action has a corresponding numerical value:\n",
        "\n",
        "```python\n",
        "Do nothing = 0\n",
        "Fire right engine = 1\n",
        "Fire main engine = 2\n",
        "Fire left engine = 3\n",
        "```\n",
        "\n",
        "<a name=\"3.2\"></a>\n",
        "### 3.2 Observation Space\n",
        "\n",
        "The agent's observation space consists of a state vector with 8 variables:\n",
        "\n",
        "* Its $(x,y)$ coordinates. The landing pad is always at coordinates $(0,0)$.\n",
        "* Its linear velocities $(\\dot x,\\dot y)$.\n",
        "* Its angle $\\theta$.\n",
        "* Its angular velocity $\\dot \\theta$.\n",
        "* Two booleans, $l$ and $r$, that represent whether each leg is in contact with the ground or not.\n",
        "\n",
        "<a name=\"3.3\"></a>\n",
        "### 3.3 Rewards\n",
        "\n",
        "After every step, a reward is granted. The total reward of an episode is the sum of the rewards for all the steps within that episode.\n",
        "\n",
        "For each step, the reward:\n",
        "- is increased/decreased the closer/further the lander is to the landing pad.\n",
        "- is increased/decreased the slower/faster the lander is moving.\n",
        "- is decreased the more the lander is tilted (angle not horizontal).\n",
        "- is increased by 10 points for each leg that is in contact with the ground.\n",
        "- is decreased by 0.03 points each frame a side engine is firing.\n",
        "- is decreased by 0.3 points each frame the main engine is firing.\n",
        "\n",
        "The episode receives an additional reward of -100 or +100 points for crashing or landing safely respectively.\n",
        "\n",
        "<a name=\"3.4\"></a>\n",
        "### 3.4 Episode Termination\n",
        "\n",
        "An episode ends (i.e the environment enters a terminal state) if:\n",
        "\n",
        "* The lunar lander crashes (i.e if the body of the lunar lander comes in contact with the surface of the moon).\n",
        "\n",
        "* The absolute value of the lander's $x$-coordinate is greater than 1 (i.e. it goes beyond the left or right border)\n",
        "\n",
        "You can check out the [Open AI Gym documentation](https://www.gymlibrary.dev/environments/box2d/lunar_lander/) for a full description of the environment."
      ]
    },
    {
      "cell_type": "markdown",
      "metadata": {
        "id": "Dpt8BXHamKgK"
      },
      "source": [
        "<a name=\"4\"></a>\n",
        "## 4 - Load the Environment\n",
        "\n",
        "We start by loading the `LunarLander-v2` environment from the `gym` library by using the `.make()` method. `LunarLander-v2` is the latest version of the Lunar Lander environment and you can read about its version history in the [Open AI Gym documentation](https://www.gymlibrary.dev/environments/box2d/lunar_lander/#version-history)."
      ]
    },
    {
      "cell_type": "code",
      "execution_count": 14,
      "metadata": {
        "deletable": false,
        "editable": true,
        "id": "ILVMYKewfR0n",
        "tags": []
      },
      "outputs": [],
      "source": [
        "env = gym.make('LunarLander-v3', render_mode='rgb_array')"
      ]
    },
    {
      "cell_type": "markdown",
      "metadata": {
        "id": "f6jJIe-7mKgK"
      },
      "source": [
        "Once we load the environment we use the `.reset()` method to reset the environment to the initial state. The lander starts at the top center of the environment and we can render the first frame of the environment by using the `.render()` method."
      ]
    },
    {
      "cell_type": "code",
      "execution_count": 15,
      "metadata": {
        "deletable": false,
        "editable": true,
        "id": "LVh8uRhZmKgK",
        "outputId": "01b2e727-4090-4cba-bf91-82c8a476e7a0",
        "colab": {
          "base_uri": "https://localhost:8080/",
          "height": 417
        }
      },
      "outputs": [
        {
          "output_type": "execute_result",
          "data": {
            "text/plain": [
              "<PIL.Image.Image image mode=RGB size=600x400>"
            ],
            "image/png": "[encoded data removed]",
            "image/jpeg": "[encoded data removed]"
          },
          "metadata": {},
          "execution_count": 15
        }
      ],
      "source": [
        "env.reset()\n",
        "PIL.Image.fromarray(env.render())"
      ]
    },
    {
      "cell_type": "markdown",
      "metadata": {
        "id": "crBokUxRmKgL"
      },
      "source": [
        "In order to build our neural network later on we need to know the size of the state vector and the number of valid actions. We can get this information from our environment by using the `.observation_space.shape` and `action_space.n` methods, respectively."
      ]
    },
    {
      "cell_type": "code",
      "execution_count": 16,
      "metadata": {
        "deletable": false,
        "editable": true,
        "id": "x3fdqdG4CUu2",
        "outputId": "d9875c56-e972-419a-e18e-f1521e6de5c7",
        "colab": {
          "base_uri": "https://localhost:8080/"
        }
      },
      "outputs": [
        {
          "output_type": "stream",
          "name": "stdout",
          "text": [
            "State Shape: (8,)\n",
            "Number of actions: 4\n"
          ]
        }
      ],
      "source": [
        "state_size = env.observation_space.shape\n",
        "num_actions = env.action_space.n\n",
        "\n",
        "print('State Shape:', state_size)\n",
        "print('Number of actions:', num_actions)"
      ]
    },
    {
      "cell_type": "markdown",
      "source": [
        "<a name=\"5\"></a>\n",
        "## 5 - Interacting with the Gym Environment\n",
        "\n",
        "The Gym library implements the standard “agent-environment loop” formalism:\n",
        "\n",
        "<br>\n",
        "<center>\n",
        "<video src = \"./videos/rl_formalism.m4v\" width=\"840\" height=\"480\" controls autoplay loop poster=\"./images/rl_formalism.png\"> </video>\n",
        "<figcaption style = \"text-align:center; font-style:italic\">Fig 2. Agent-environment Loop Formalism.</figcaption>\n",
        "</center>\n",
        "<br>\n",
        "\n",
        "In the standard “agent-environment loop” formalism, an agent interacts with the environment in discrete time steps $t=0,1,2,...$. At each time step $t$, the agent uses a policy $\\pi$ to select an action $A_t$ based on its observation of the environment's state $S_t$. The agent receives a numerical reward $R_t$ and on the next time step, moves to a new state $S_{t+1}$.\n",
        "\n",
        "<a name=\"5.1\"></a>\n",
        "### 5.1 Exploring the Environment's Dynamics\n",
        "\n",
        "In Open AI's Gym environments, we use the `.step()` method to run a single time step of the environment's dynamics. In the version of `gym` that we are using the `.step()` method accepts an action and returns four values:\n",
        "\n",
        "* `observation` (**object**): an environment-specific object representing your observation of the environment. In the Lunar Lander environment this corresponds to a numpy array containing the positions and velocities of the lander as described in section [3.2 Observation Space](#3.2).\n",
        "\n",
        "\n",
        "* `reward` (**float**): amount of reward returned as a result of taking the given action. In the Lunar Lander environment this corresponds to a float of type `numpy.float64` as described in section [3.3 Rewards](#3.3).\n",
        "\n",
        "\n",
        "* `done` (**boolean**): When done is `True`, it indicates the episode has terminated and it’s time to reset the environment.\n",
        "\n",
        "\n",
        "* `info` (**dictionary**): diagnostic information useful for debugging. We won't be using this variable in this notebook but it is shown here for completeness.\n",
        "\n",
        "To begin an episode, we need to reset the environment to an initial state. We do this by using the `.reset()` method."
      ],
      "metadata": {
        "id": "T91xJm3SuY_d"
      }
    },
    {
      "cell_type": "code",
      "execution_count": 17,
      "metadata": {
        "deletable": false,
        "editable": true,
        "id": "B5BB6qW6mKgL"
      },
      "outputs": [],
      "source": [
        "# Reset the environment and get the initial state.\n",
        "current_state, info = env.reset()"
      ]
    },
    {
      "cell_type": "markdown",
      "metadata": {
        "id": "eK_o6reomKgL"
      },
      "source": [
        "Once the environment is reset, the agent can start taking actions in the environment by using the `.step()` method. Note that the agent can only take one action per time step.\n",
        "\n",
        "In the cell below you can select different actions and see how the returned values change depending on the action taken. Remember that in this environment the agent has four discrete actions available and we specify them in code by using their corresponding numerical value:\n",
        "\n",
        "```python\n",
        "Do nothing = 0\n",
        "Fire right engine = 1\n",
        "Fire main engine = 2\n",
        "Fire left engine = 3\n",
        "```"
      ]
    },
    {
      "cell_type": "code",
      "execution_count": 18,
      "metadata": {
        "deletable": false,
        "editable": true,
        "tags": [],
        "id": "0CYxNo7gmKgL",
        "outputId": "aec2b652-5cc4-4df8-bd70-4bdd9272cb02",
        "colab": {
          "base_uri": "https://localhost:8080/",
          "height": 923
        }
      },
      "outputs": [
        {
          "output_type": "stream",
          "name": "stdout",
          "text": [
            "3\n",
            "current: [ 0.00211296  1.4157531   0.21400194  0.2148037  -0.00244157 -0.0484746\n",
            "  0.          0.        ]\n",
            "next: [ 0.00422573  1.4200082   0.21371281  0.18910979 -0.00483684 -0.04790932\n",
            "  0.          0.        ]\n"
          ]
        },
        {
          "output_type": "stream",
          "name": "stderr",
          "text": [
            "/content/utils.py:355: FutureWarning: Styler.applymap has been deprecated. Use Styler.map instead.\n",
            "  .applymap(lambda x: 'background-color : grey' if x == '' else '')\\\n"
          ]
        },
        {
          "output_type": "display_data",
          "data": {
            "text/plain": [
              "<pandas.io.formats.style.Styler at 0x7eea94bc33d0>"
            ],
            "text/html": [
              "<style type=\"text/css\">\n",
              "#T_347ac th {\n",
              "  border: 1px solid grey;\n",
              "  text-align: center;\n",
              "}\n",
              "#T_347ac tbody td {\n",
              "  border: 1px solid grey;\n",
              "  text-align: center;\n",
              "}\n",
              "#T_347ac_row0_col0, #T_347ac_row1_col1, #T_347ac_row1_col2, #T_347ac_row1_col3, #T_347ac_row1_col4, #T_347ac_row1_col5, #T_347ac_row1_col6, #T_347ac_row1_col7, #T_347ac_row1_col8, #T_347ac_row1_col9, #T_347ac_row1_col10, #T_347ac_row1_col11, #T_347ac_row2_col0, #T_347ac_row3_col1, #T_347ac_row3_col2, #T_347ac_row3_col3, #T_347ac_row3_col4, #T_347ac_row3_col5, #T_347ac_row3_col6, #T_347ac_row3_col7, #T_347ac_row3_col8, #T_347ac_row3_col9, #T_347ac_row3_col10, #T_347ac_row3_col11, #T_347ac_row4_col1, #T_347ac_row4_col2, #T_347ac_row4_col3, #T_347ac_row4_col4, #T_347ac_row4_col5, #T_347ac_row4_col6, #T_347ac_row4_col7, #T_347ac_row4_col8, #T_347ac_row4_col9, #T_347ac_row4_col10, #T_347ac_row4_col11 {\n",
              "  background-color: grey;\n",
              "}\n",
              "</style>\n",
              "<table id=\"T_347ac\" class=\"dataframe\">\n",
              "  <thead>\n",
              "    <tr>\n",
              "      <th class=\"blank level0\" >&nbsp;</th>\n",
              "      <th id=\"T_347ac_level0_col0\" class=\"col_heading level0 col0\" ></th>\n",
              "      <th id=\"T_347ac_level0_col1\" class=\"col_heading level0 col1\" colspan=\"8\">State Vector</th>\n",
              "      <th id=\"T_347ac_level0_col9\" class=\"col_heading level0 col9\" colspan=\"3\">Derived from the State Vector (the closer to zero, the better)</th>\n",
              "    </tr>\n",
              "    <tr>\n",
              "      <th class=\"blank level1\" >&nbsp;</th>\n",
              "      <th id=\"T_347ac_level1_col0\" class=\"col_heading level1 col0\" ></th>\n",
              "      <th id=\"T_347ac_level1_col1\" class=\"col_heading level1 col1\" colspan=\"2\">Coordinate</th>\n",
              "      <th id=\"T_347ac_level1_col3\" class=\"col_heading level1 col3\" colspan=\"2\">Velocity</th>\n",
              "      <th id=\"T_347ac_level1_col5\" class=\"col_heading level1 col5\" colspan=\"2\">Tilting</th>\n",
              "      <th id=\"T_347ac_level1_col7\" class=\"col_heading level1 col7\" colspan=\"2\">Ground contact</th>\n",
              "      <th id=\"T_347ac_level1_col9\" class=\"col_heading level1 col9\" >Distance from landing pad</th>\n",
              "      <th id=\"T_347ac_level1_col10\" class=\"col_heading level1 col10\" >Velocity</th>\n",
              "      <th id=\"T_347ac_level1_col11\" class=\"col_heading level1 col11\" >Tilting Angle (absolute value)</th>\n",
              "    </tr>\n",
              "    <tr>\n",
              "      <th class=\"blank level2\" >&nbsp;</th>\n",
              "      <th id=\"T_347ac_level2_col0\" class=\"col_heading level2 col0\" ></th>\n",
              "      <th id=\"T_347ac_level2_col1\" class=\"col_heading level2 col1\" >X (Horizontal)</th>\n",
              "      <th id=\"T_347ac_level2_col2\" class=\"col_heading level2 col2\" >Y (Vertical)</th>\n",
              "      <th id=\"T_347ac_level2_col3\" class=\"col_heading level2 col3\" >X (Horizontal)</th>\n",
              "      <th id=\"T_347ac_level2_col4\" class=\"col_heading level2 col4\" >Y (Vertical)</th>\n",
              "      <th id=\"T_347ac_level2_col5\" class=\"col_heading level2 col5\" >Angle</th>\n",
              "      <th id=\"T_347ac_level2_col6\" class=\"col_heading level2 col6\" >Angular Velocity</th>\n",
              "      <th id=\"T_347ac_level2_col7\" class=\"col_heading level2 col7\" >Left Leg?</th>\n",
              "      <th id=\"T_347ac_level2_col8\" class=\"col_heading level2 col8\" >Right Leg?</th>\n",
              "      <th id=\"T_347ac_level2_col9\" class=\"col_heading level2 col9\" ></th>\n",
              "      <th id=\"T_347ac_level2_col10\" class=\"col_heading level2 col10\" ></th>\n",
              "      <th id=\"T_347ac_level2_col11\" class=\"col_heading level2 col11\" ></th>\n",
              "    </tr>\n",
              "  </thead>\n",
              "  <tbody>\n",
              "    <tr>\n",
              "      <th id=\"T_347ac_level0_row0\" class=\"row_heading level0 row0\" >Current State</th>\n",
              "      <td id=\"T_347ac_row0_col0\" class=\"data row0 col0\" ></td>\n",
              "      <td id=\"T_347ac_row0_col1\" class=\"data row0 col1\" >0.002113</td>\n",
              "      <td id=\"T_347ac_row0_col2\" class=\"data row0 col2\" >1.415753</td>\n",
              "      <td id=\"T_347ac_row0_col3\" class=\"data row0 col3\" >0.214002</td>\n",
              "      <td id=\"T_347ac_row0_col4\" class=\"data row0 col4\" >0.214804</td>\n",
              "      <td id=\"T_347ac_row0_col5\" class=\"data row0 col5\" >-0.002442</td>\n",
              "      <td id=\"T_347ac_row0_col6\" class=\"data row0 col6\" >-0.048475</td>\n",
              "      <td id=\"T_347ac_row0_col7\" class=\"data row0 col7\" >False</td>\n",
              "      <td id=\"T_347ac_row0_col8\" class=\"data row0 col8\" >False</td>\n",
              "      <td id=\"T_347ac_row0_col9\" class=\"data row0 col9\" >1.415755</td>\n",
              "      <td id=\"T_347ac_row0_col10\" class=\"data row0 col10\" >0.303212</td>\n",
              "      <td id=\"T_347ac_row0_col11\" class=\"data row0 col11\" >0.002442</td>\n",
              "    </tr>\n",
              "    <tr>\n",
              "      <th id=\"T_347ac_level0_row1\" class=\"row_heading level0 row1\" >Action</th>\n",
              "      <td id=\"T_347ac_row1_col0\" class=\"data row1 col0\" >Fire left engine</td>\n",
              "      <td id=\"T_347ac_row1_col1\" class=\"data row1 col1\" ></td>\n",
              "      <td id=\"T_347ac_row1_col2\" class=\"data row1 col2\" ></td>\n",
              "      <td id=\"T_347ac_row1_col3\" class=\"data row1 col3\" ></td>\n",
              "      <td id=\"T_347ac_row1_col4\" class=\"data row1 col4\" ></td>\n",
              "      <td id=\"T_347ac_row1_col5\" class=\"data row1 col5\" ></td>\n",
              "      <td id=\"T_347ac_row1_col6\" class=\"data row1 col6\" ></td>\n",
              "      <td id=\"T_347ac_row1_col7\" class=\"data row1 col7\" ></td>\n",
              "      <td id=\"T_347ac_row1_col8\" class=\"data row1 col8\" ></td>\n",
              "      <td id=\"T_347ac_row1_col9\" class=\"data row1 col9\" ></td>\n",
              "      <td id=\"T_347ac_row1_col10\" class=\"data row1 col10\" ></td>\n",
              "      <td id=\"T_347ac_row1_col11\" class=\"data row1 col11\" ></td>\n",
              "    </tr>\n",
              "    <tr>\n",
              "      <th id=\"T_347ac_level0_row2\" class=\"row_heading level0 row2\" >Next State</th>\n",
              "      <td id=\"T_347ac_row2_col0\" class=\"data row2 col0\" ></td>\n",
              "      <td id=\"T_347ac_row2_col1\" class=\"data row2 col1\" >0.004226</td>\n",
              "      <td id=\"T_347ac_row2_col2\" class=\"data row2 col2\" >1.420008</td>\n",
              "      <td id=\"T_347ac_row2_col3\" class=\"data row2 col3\" >0.213713</td>\n",
              "      <td id=\"T_347ac_row2_col4\" class=\"data row2 col4\" >0.189110</td>\n",
              "      <td id=\"T_347ac_row2_col5\" class=\"data row2 col5\" >-0.004837</td>\n",
              "      <td id=\"T_347ac_row2_col6\" class=\"data row2 col6\" >-0.047909</td>\n",
              "      <td id=\"T_347ac_row2_col7\" class=\"data row2 col7\" >False</td>\n",
              "      <td id=\"T_347ac_row2_col8\" class=\"data row2 col8\" >False</td>\n",
              "      <td id=\"T_347ac_row2_col9\" class=\"data row2 col9\" >1.420015</td>\n",
              "      <td id=\"T_347ac_row2_col10\" class=\"data row2 col10\" >0.285369</td>\n",
              "      <td id=\"T_347ac_row2_col11\" class=\"data row2 col11\" >0.004837</td>\n",
              "    </tr>\n",
              "    <tr>\n",
              "      <th id=\"T_347ac_level0_row3\" class=\"row_heading level0 row3\" >Reward</th>\n",
              "      <td id=\"T_347ac_row3_col0\" class=\"data row3 col0\" >1.118749</td>\n",
              "      <td id=\"T_347ac_row3_col1\" class=\"data row3 col1\" ></td>\n",
              "      <td id=\"T_347ac_row3_col2\" class=\"data row3 col2\" ></td>\n",
              "      <td id=\"T_347ac_row3_col3\" class=\"data row3 col3\" ></td>\n",
              "      <td id=\"T_347ac_row3_col4\" class=\"data row3 col4\" ></td>\n",
              "      <td id=\"T_347ac_row3_col5\" class=\"data row3 col5\" ></td>\n",
              "      <td id=\"T_347ac_row3_col6\" class=\"data row3 col6\" ></td>\n",
              "      <td id=\"T_347ac_row3_col7\" class=\"data row3 col7\" ></td>\n",
              "      <td id=\"T_347ac_row3_col8\" class=\"data row3 col8\" ></td>\n",
              "      <td id=\"T_347ac_row3_col9\" class=\"data row3 col9\" ></td>\n",
              "      <td id=\"T_347ac_row3_col10\" class=\"data row3 col10\" ></td>\n",
              "      <td id=\"T_347ac_row3_col11\" class=\"data row3 col11\" ></td>\n",
              "    </tr>\n",
              "    <tr>\n",
              "      <th id=\"T_347ac_level0_row4\" class=\"row_heading level0 row4\" >Episode Terminated</th>\n",
              "      <td id=\"T_347ac_row4_col0\" class=\"data row4 col0\" >False</td>\n",
              "      <td id=\"T_347ac_row4_col1\" class=\"data row4 col1\" ></td>\n",
              "      <td id=\"T_347ac_row4_col2\" class=\"data row4 col2\" ></td>\n",
              "      <td id=\"T_347ac_row4_col3\" class=\"data row4 col3\" ></td>\n",
              "      <td id=\"T_347ac_row4_col4\" class=\"data row4 col4\" ></td>\n",
              "      <td id=\"T_347ac_row4_col5\" class=\"data row4 col5\" ></td>\n",
              "      <td id=\"T_347ac_row4_col6\" class=\"data row4 col6\" ></td>\n",
              "      <td id=\"T_347ac_row4_col7\" class=\"data row4 col7\" ></td>\n",
              "      <td id=\"T_347ac_row4_col8\" class=\"data row4 col8\" ></td>\n",
              "      <td id=\"T_347ac_row4_col9\" class=\"data row4 col9\" ></td>\n",
              "      <td id=\"T_347ac_row4_col10\" class=\"data row4 col10\" ></td>\n",
              "      <td id=\"T_347ac_row4_col11\" class=\"data row4 col11\" ></td>\n",
              "    </tr>\n",
              "  </tbody>\n",
              "</table>\n"
            ]
          },
          "metadata": {}
        },
        {
          "output_type": "execute_result",
          "data": {
            "text/plain": [
              "<PIL.Image.Image image mode=RGB size=600x400>"
            ],
            "image/png": "[encoded data removed]",
            "image/jpeg": "[encoded data removed]"
          },
          "metadata": {},
          "execution_count": 18
        }
      ],
      "source": [
        "# Select an action\n",
        "action = env.action_space.sample()\n",
        "print(action)\n",
        "\n",
        "# Run a single time step of the environment's dynamics with the given action.\n",
        "next_state, reward, done, truncated, info = env.step(0)\n",
        "\n",
        "print(f'current: {current_state}')\n",
        "print(f'next: {next_state}')\n",
        "# Display table with values.\n",
        "utils.display_table(current_state, action, next_state, reward, done)\n",
        "\n",
        "# Replace the `current_state` with the state after the action is taken\n",
        "current_state = next_state\n",
        "PIL.Image.fromarray(env.render())"
      ]
    },
    {
      "cell_type": "markdown",
      "metadata": {
        "editable": true,
        "tags": [],
        "id": "QCOuvS37mKgL"
      },
      "source": [
        "In practice, when we train the agent we use a loop to allow the agent to take many consecutive actions during an episode."
      ]
    },
    {
      "cell_type": "markdown",
      "metadata": {
        "editable": true,
        "tags": [],
        "id": "AevIDvpbmKgL"
      },
      "source": [
        "<a name=\"6\"></a>\n",
        "## 6 - Deep Q-Learning\n",
        "\n",
        "In cases where both the state and action space are discrete we can estimate the action-value function iteratively by using the Bellman equation:\n",
        "\n",
        "$$\n",
        "Q_{i+1}(s,a) = R + \\gamma \\max_{a'}Q_i(s',a')\n",
        "$$\n",
        "\n",
        "This iterative method converges to the optimal action-value function $Q^*(s,a)$ as $i\\to\\infty$. This means that the agent just needs to gradually explore the state-action space and keep updating the estimate of $Q(s,a)$ until it converges to the optimal action-value function $Q^*(s,a)$. However, in cases where the state space is continuous it becomes practically impossible to explore the entire state-action space. Consequently, this also makes it practically impossible to gradually estimate $Q(s,a)$ until it converges to $Q^*(s,a)$.\n",
        "\n",
        "In the Deep $Q$-Learning, we solve this problem by using a neural network to estimate the action-value function $Q(s,a)\\approx Q^*(s,a)$. We call this neural network a $Q$-Network and it can be trained by adjusting its weights at each iteration to minimize the mean-squared error in the Bellman equation.\n",
        "\n",
        "Unfortunately, using neural networks in reinforcement learning to estimate action-value functions has proven to be highly unstable. Luckily, there's a couple of techniques that can be employed to avoid instabilities. These techniques consist of using a ***Target Network*** and ***Experience Replay***. We will explore these two techniques in the following sections."
      ]
    },
    {
      "cell_type": "markdown",
      "metadata": {
        "id": "pV9U_cgPmKgL"
      },
      "source": [
        "<a name=\"6.1\"></a>\n",
        "### 6.1 Target Network\n",
        "\n",
        "We can train the $Q$-Network by adjusting it's weights at each iteration to minimize the mean-squared error in the Bellman equation, where the target values are given by:\n",
        "\n",
        "$$\n",
        "y = R + \\gamma \\max_{a'}Q(s',a';w)\n",
        "$$\n",
        "\n",
        "where $w$ are the weights of the $Q$-Network. This means that we are adjusting the weights $w$ at each iteration to minimize the following error:\n",
        "\n",
        "$$\n",
        "\\overbrace{\\underbrace{R + \\gamma \\max_{a'}Q(s',a'; w)}_{\\rm {y~target}} - Q(s,a;w)}^{\\rm {Error}}\n",
        "$$\n",
        "\n",
        "Notice that this forms a problem because the $y$ target is changing on every iteration. Having a constantly moving target can lead to oscillations and instabilities. To avoid this, we can create\n",
        "a separate neural network for generating the $y$ targets. We call this separate neural network the **target $\\hat Q$-Network** and it will have the same architecture as the original $Q$-Network. By using the target $\\hat Q$-Network, the above error becomes:\n",
        "\n",
        "$$\n",
        "\\overbrace{\\underbrace{R + \\gamma \\max_{a'}\\hat{Q}(s',a'; w^-)}_{\\rm {y~target}} - Q(s,a;w)}^{\\rm {Error}}\n",
        "$$\n",
        "\n",
        "where $w^-$ and $w$ are the weights of the target $\\hat Q$-Network and $Q$-Network, respectively.\n",
        "\n",
        "In practice, we will use the following algorithm: every $C$ time steps we will use the $\\hat Q$-Network to generate the $y$ targets and update the weights of the target $\\hat Q$-Network using the weights of the $Q$-Network. We will update the weights $w^-$ of the the target $\\hat Q$-Network using a **soft update**. This means that we will update the weights $w^-$ using the following rule:\n",
        "\n",
        "$$\n",
        "w^-\\leftarrow \\tau w + (1 - \\tau) w^-\n",
        "$$\n",
        "\n",
        "where $\\tau\\ll 1$. By using the soft update, we are ensuring that the target values, $y$, change slowly, which greatly improves the stability of our learning algorithm."
      ]
    },
    {
      "cell_type": "markdown",
      "metadata": {
        "id": "9tfoPB_3mKgL"
      },
      "source": [
        "<a name=\"ex01\"></a>\n",
        "### Exercise 1\n",
        "\n",
        "In this exercise you will create the $Q$ and target $\\hat Q$ networks and set the optimizer. Remember that the Deep $Q$-Network (DQN) is a neural network that approximates the action-value function $Q(s,a)\\approx Q^*(s,a)$. It does this by learning how to map states to $Q$ values.\n",
        "\n",
        "To solve the Lunar Lander environment, we are going to employ a DQN with the following architecture:\n",
        "\n",
        "* An `Input` layer that takes `state_size` as input.\n",
        "\n",
        "* A `Dense` layer with `64` units and a `relu` activation function.\n",
        "\n",
        "* A `Dense` layer with `64` units and a `relu` activation function.\n",
        "\n",
        "* A `Dense` layer with `num_actions` units and a `linear` activation function. This will be the output layer of our network.\n",
        "\n",
        "\n",
        "In the cell below you should create the $Q$-Network and the target $\\hat Q$-Network using the model architecture described above. Remember that both the $Q$-Network and the target $\\hat Q$-Network have the same architecture.\n",
        "\n",
        "Lastly, you should set `Adam` as the optimizer with a learning rate equal to `ALPHA`. Recall that `ALPHA` was defined in the [Hyperparameters](#2) section. We should note that for this exercise you should use the already imported packages:\n",
        "```python\n",
        "from tensorflow.keras.layers import Dense, Input\n",
        "from tensorflow.keras.optimizers import Adam\n",
        "```"
      ]
    },
    {
      "cell_type": "code",
      "execution_count": 19,
      "metadata": {
        "deletable": false,
        "editable": true,
        "tags": [],
        "id": "Q8XEgyXmmKgM"
      },
      "outputs": [],
      "source": [
        "# UNQ_C1\n",
        "# GRADED CELL\n",
        "\n",
        "# Create the Q-Network\n",
        "q_network = Sequential([\n",
        "    ### START CODE HERE ###\n",
        "    Input(state_size),\n",
        "    Dense(64, activation='relu'),\n",
        "    Dense(64, activation='relu'),\n",
        "    Dense(num_actions, activation='linear'),\n",
        "    ### END CODE HERE ###\n",
        "    ])\n",
        "\n",
        "# Create the target Q^-Network\n",
        "target_q_network = Sequential([\n",
        "    ### START CODE HERE ###\n",
        "    Input(state_size),\n",
        "    Dense(64, activation='relu'),\n",
        "    Dense(64, activation='relu'),\n",
        "    Dense(num_actions, activation='linear'),\n",
        "    ### END CODE HERE ###\n",
        "    ])\n",
        "\n",
        "### START CODE HERE ###\n",
        "optimizer = Adam(learning_rate=ALPHA)\n",
        "### END CODE HERE ###"
      ]
    },
    {
      "cell_type": "code",
      "execution_count": null,
      "metadata": {
        "deletable": false,
        "editable": true,
        "tags": [],
        "id": "dj0geKWkmKgM"
      },
      "outputs": [],
      "source": [
        "# UNIT TEST\n",
        "# from public_tests import *\n",
        "\n",
        "# test_network(q_network)\n",
        "# test_network(target_q_network)\n",
        "# test_optimizer(optimizer, ALPHA)"
      ]
    },
    {
      "cell_type": "markdown",
      "metadata": {
        "editable": true,
        "tags": [],
        "id": "OYfbCqcemKgM"
      },
      "source": [
        "<details>\n",
        "  <summary><font size=\"3\" color=\"darkgreen\"><b>Click for hints</b></font></summary>\n",
        "    \n",
        "```python\n",
        "# Create the Q-Network\n",
        "q_network = Sequential([\n",
        "    Input(shape=state_size),                      \n",
        "    Dense(units=64, activation='relu'),            \n",
        "    Dense(units=64, activation='relu'),            \n",
        "    Dense(units=num_actions, activation='linear'),\n",
        "    ])\n",
        "\n",
        "# Create the target Q^-Network\n",
        "target_q_network = Sequential([\n",
        "    Input(shape=state_size),                       \n",
        "    Dense(units=64, activation='relu'),            \n",
        "    Dense(units=64, activation='relu'),            \n",
        "    Dense(units=num_actions, activation='linear'),\n",
        "    ])\n",
        "\n",
        "optimizer = Adam(learning_rate=ALPHA)                                  \n",
        "```"
      ]
    },
    {
      "cell_type": "markdown",
      "metadata": {
        "id": "xXI57AA5mKgM"
      },
      "source": [
        "<a name=\"6.2\"></a>\n",
        "### 6.2 Experience Replay\n",
        "\n",
        "When an agent interacts with the environment, the states, actions, and rewards the agent experiences are sequential by nature. If the agent tries to learn from these consecutive experiences it can run into problems due to the strong correlations between them. To avoid this, we employ a technique known as **Experience Replay** to generate uncorrelated experiences for training our agent. Experience replay consists of storing the agent's experiences (i.e the states, actions, and rewards the agent receives) in a memory buffer and then sampling a random mini-batch of experiences from the buffer to do the learning. The experience tuples $(S_t, A_t, R_t, S_{t+1})$ will be added to the memory buffer at each time step as the agent interacts with the environment.\n",
        "\n",
        "For convenience, we will store the experiences as named tuples."
      ]
    },
    {
      "cell_type": "code",
      "execution_count": 20,
      "metadata": {
        "deletable": false,
        "editable": true,
        "tags": [],
        "id": "DgUQeEs3mKgM"
      },
      "outputs": [],
      "source": [
        "# Store experiences as named tuples\n",
        "experience = namedtuple(\"Experience\", field_names=[\"state\", \"action\", \"reward\", \"next_state\", \"done\"])"
      ]
    },
    {
      "cell_type": "markdown",
      "metadata": {
        "editable": true,
        "tags": [],
        "id": "JPeebzZkmKgM"
      },
      "source": [
        "By using experience replay we avoid problematic correlations, oscillations and instabilities. In addition, experience replay also allows the agent to potentially use the same experience in multiple weight updates, which increases data efficiency."
      ]
    },
    {
      "cell_type": "markdown",
      "metadata": {
        "id": "nJTyDqmOmKgM"
      },
      "source": [
        "<a name=\"7\"></a>\n",
        "## 7 - Deep Q-Learning Algorithm with Experience Replay\n",
        "\n",
        "Now that we know all the techniques that we are going to use, we can put them together to arrive at the Deep Q-Learning Algorithm With Experience Replay.\n",
        "<br>\n",
        "<br>\n",
        "<figure>\n",
        "  <img src = \"images/deep_q_algorithm.png\" width = 90% style = \"border: thin silver solid; padding: 0px\">\n",
        "      <figcaption style = \"text-align: center; font-style: italic\">Fig 3. Deep Q-Learning with Experience Replay.</figcaption>\n",
        "</figure>"
      ]
    },
    {
      "cell_type": "markdown",
      "metadata": {
        "id": "bukIY3-7mKgM"
      },
      "source": [
        "<a name=\"ex02\"></a>\n",
        "### Exercise 2\n",
        "\n",
        "In this exercise you will implement line ***12*** of the algorithm outlined in *Fig 3* above and you will also compute the loss between the $y$ targets and the $Q(s,a)$ values. In the cell below, complete the `compute_loss` function by setting the $y$ targets equal to:\n",
        "\n",
        "$$\n",
        "\\begin{equation}\n",
        "    y_j =\n",
        "    \\begin{cases}\n",
        "      R_j & \\text{if episode terminates at step  } j+1\\\\\n",
        "      R_j + \\gamma \\max_{a'}\\hat{Q}(s_{j+1},a') & \\text{otherwise}\\\\\n",
        "    \\end{cases}       \n",
        "\\end{equation}\n",
        "$$\n",
        "\n",
        "Here are a couple of things to note:\n",
        "\n",
        "* The `compute_loss` function takes in a mini-batch of experience tuples. This mini-batch of experience tuples is unpacked to extract the `states`, `actions`, `rewards`, `next_states`, and `done_vals`. You should keep in mind that these variables are *TensorFlow Tensors* whose size will depend on the mini-batch size. For example, if the mini-batch size is `64` then both `rewards` and `done_vals` will be TensorFlow Tensors with `64` elements.\n",
        "\n",
        "\n",
        "* Using `if/else` statements to set the $y$ targets will not work when the variables are tensors with many elements. However, notice that you can use the `done_vals` to implement the above in a single line of code. To do this, recall that the `done` variable is a Boolean variable that takes the value `True` when an episode terminates at step $j+1$ and it is `False` otherwise. Taking into account that a Boolean value of `True` has the numerical value of `1` and a Boolean value of `False` has the numerical value of `0`, you can use the factor `(1 - done_vals)` to implement the above in a single line of code. Here's a hint: notice that `(1 - done_vals)` has a value of `0` when `done_vals` is `True` and a value of `1` when `done_vals` is `False`.\n",
        "\n",
        "Lastly, compute the loss by calculating the Mean-Squared Error (`MSE`) between the `y_targets` and the `q_values`. To calculate the mean-squared error you should use the already imported package `MSE`:\n",
        "```python\n",
        "from tensorflow.keras.losses import MSE\n",
        "```"
      ]
    },
    {
      "cell_type": "code",
      "execution_count": 21,
      "metadata": {
        "deletable": false,
        "editable": true,
        "tags": [],
        "id": "QCMCeRj0mKgM"
      },
      "outputs": [],
      "source": [
        "# UNQ_C2\n",
        "# GRADED FUNCTION: calculate_loss\n",
        "\n",
        "def compute_loss(experiences, gamma, q_network, target_q_network):\n",
        "    \"\"\"\n",
        "    Calculates the loss.\n",
        "\n",
        "    Args:\n",
        "      experiences: (tuple) tuple of [\"state\", \"action\", \"reward\", \"next_state\", \"done\"] namedtuples\n",
        "      gamma: (float) The discount factor.\n",
        "      q_network: (tf.keras.Sequential) Keras model for predicting the q_values\n",
        "      target_q_network: (tf.keras.Sequential) Keras model for predicting the targets\n",
        "\n",
        "    Returns:\n",
        "      loss: (TensorFlow Tensor(shape=(0,), dtype=int32)) the Mean-Squared Error between\n",
        "            the y targets and the Q(s,a) values.\n",
        "    \"\"\"\n",
        "\n",
        "    # Unpack the mini-batch of experience tuples\n",
        "    states, actions, rewards, next_states, done_vals = experiences\n",
        "\n",
        "    # Compute max Q^(s,a)\n",
        "    max_qsa = tf.reduce_max(target_q_network(next_states), axis=-1)\n",
        "\n",
        "    # Set y = R if episode terminates, otherwise set y = R + γ max Q^(s,a).\n",
        "    ### START CODE HERE ###\n",
        "    y_targets = rewards + (1 - done_vals) * gamma * max_qsa\n",
        "    ### END CODE HERE ###\n",
        "\n",
        "    # Get the q_values and reshape to match y_targets\n",
        "    q_values = q_network(states)\n",
        "    q_values = tf.gather_nd(q_values, tf.stack([tf.range(q_values.shape[0]),\n",
        "                                                tf.cast(actions, tf.int32)], axis=1))\n",
        "\n",
        "    # Compute the loss\n",
        "    ### START CODE HERE ###\n",
        "    loss = MSE(y_targets, q_values)\n",
        "    ### END CODE HERE ###\n",
        "\n",
        "    return loss"
      ]
    },
    {
      "cell_type": "code",
      "execution_count": null,
      "metadata": {
        "deletable": false,
        "editable": true,
        "tags": [],
        "id": "zwNc_iu2mKgN",
        "outputId": "ccd0d62a-2310-4073-d019-09489d8690e4"
      },
      "outputs": [
        {
          "name": "stdout",
          "output_type": "stream",
          "text": [
            "\u001b[92mAll tests passed!\n"
          ]
        }
      ],
      "source": [
        "# UNIT TEST\n",
        "# test_compute_loss(compute_loss)"
      ]
    },
    {
      "cell_type": "markdown",
      "metadata": {
        "id": "lw1SRRqrmKgN"
      },
      "source": [
        "<details>\n",
        "  <summary><font size=\"3\" color=\"darkgreen\"><b>Click for hints</b></font></summary>\n",
        "    \n",
        "```python\n",
        "def compute_loss(experiences, gamma, q_network, target_q_network):\n",
        "    \"\"\"\n",
        "    Calculates the loss.\n",
        "    \n",
        "    Args:\n",
        "      experiences: (tuple) tuple of [\"state\", \"action\", \"reward\", \"next_state\", \"done\"] namedtuples\n",
        "      gamma: (float) The discount factor.\n",
        "      q_network: (tf.keras.Sequential) Keras model for predicting the q_values\n",
        "      target_q_network: (tf.keras.Sequential) Keras model for predicting the targets\n",
        "          \n",
        "    Returns:\n",
        "      loss: (TensorFlow Tensor(shape=(0,), dtype=int32)) the Mean-Squared Error between\n",
        "            the y targets and the Q(s,a) values.\n",
        "    \"\"\"\n",
        "\n",
        "    \n",
        "    # Unpack the mini-batch of experience tuples\n",
        "    states, actions, rewards, next_states, done_vals = experiences\n",
        "    \n",
        "    # Compute max Q^(s,a)\n",
        "    max_qsa = tf.reduce_max(target_q_network(next_states), axis=-1)\n",
        "    \n",
        "    # Set y = R if episode terminates, otherwise set y = R + γ max Q^(s,a).\n",
        "    y_targets = rewards + (gamma * max_qsa * (1 - done_vals))\n",
        "    \n",
        "    # Get the q_values\n",
        "    q_values = q_network(states)\n",
        "    q_values = tf.gather_nd(q_values, tf.stack([tf.range(q_values.shape[0]),\n",
        "                                                tf.cast(actions, tf.int32)], axis=1))\n",
        "    \n",
        "    # Calculate the loss\n",
        "    loss = MSE(y_targets, q_values)\n",
        "    \n",
        "    return loss\n",
        "\n",
        "```\n",
        "    "
      ]
    },
    {
      "cell_type": "markdown",
      "metadata": {
        "id": "QdeqqrH9mKgN"
      },
      "source": [
        "<a name=\"8\"></a>\n",
        "## 8 - Update the Network Weights\n",
        "\n",
        "We will use the `agent_learn` function below to implement lines ***12 -14*** of the algorithm outlined in [Fig 3](#7). The `agent_learn` function will update the weights of the $Q$ and target $\\hat Q$ networks using a custom training loop. Because we are using a custom training loop we need to retrieve the gradients via a `tf.GradientTape` instance, and then call `optimizer.apply_gradients()` to update the weights of our $Q$-Network. Note that we are also using the `@tf.function` decorator to increase performance. Without this decorator our training will take twice as long. If you would like to know more about how to increase performance with `@tf.function` take a look at the [TensorFlow documentation](https://www.tensorflow.org/guide/function).\n",
        "\n",
        "The last line of this function updates the weights of the target $\\hat Q$-Network using a [soft update](#6.1). If you want to know how this is implemented in code we encourage you to take a look at the `utils.update_target_network` function in the `utils` module."
      ]
    },
    {
      "cell_type": "code",
      "execution_count": 22,
      "metadata": {
        "deletable": false,
        "editable": true,
        "tags": [],
        "id": "W3kLNjU4mKgN"
      },
      "outputs": [],
      "source": [
        "@tf.function\n",
        "def agent_learn(experiences, gamma, tau):\n",
        "    \"\"\"\n",
        "    Updates the weights of the Q networks.\n",
        "\n",
        "    Args:\n",
        "      experiences: (tuple) tuple of [\"state\", \"action\", \"reward\", \"next_state\", \"done\"] namedtuples\n",
        "      gamma: (float) The discount factor.\n",
        "\n",
        "    \"\"\"\n",
        "\n",
        "    # Calculate the loss\n",
        "    with tf.GradientTape() as tape:\n",
        "        loss = compute_loss(experiences, gamma, q_network, target_q_network)\n",
        "\n",
        "    # Get the gradients of the loss with respect to the weights.\n",
        "    gradients = tape.gradient(loss, q_network.trainable_variables)\n",
        "\n",
        "    # Update the weights of the q_network.\n",
        "    optimizer.apply_gradients(zip(gradients, q_network.trainable_variables))\n",
        "\n",
        "    # update the weights of target q_network\n",
        "    utils.update_target_network(q_network, target_q_network, tau=tau)"
      ]
    },
    {
      "cell_type": "markdown",
      "metadata": {
        "editable": true,
        "tags": [],
        "id": "K4WnVxsKmKgN"
      },
      "source": [
        "<a name=\"9\"></a>\n",
        "## 9 - Train the Agent\n",
        "\n",
        "We are now ready to train our agent to solve the Lunar Lander environment. In the cell below we will implement the algorithm in [Fig 3](#7) line by line (please note that we have included the same algorithm below for easy reference. This will prevent you from scrolling up and down the notebook):\n",
        "\n",
        "* **Line 1**: We initialize the `memory_buffer` with a capacity of $N =$ `MEMORY_SIZE`. Notice that we are using a `deque` as the data structure for our `memory_buffer`.\n",
        "\n",
        "\n",
        "* **Line 2**: We skip this line since we already initialized the `q_network` in [Exercise 1](#ex01).\n",
        "\n",
        "\n",
        "* **Line 3**: We initialize the `target_q_network` by setting its weights to be equal to those of the `q_network`.\n",
        "\n",
        "\n",
        "* **Line 4**: We start the outer loop. Notice that we have set $M =$ `num_episodes = 2000`. This number is reasonable because the agent should be able to solve the Lunar Lander environment in less than `2000` episodes using this notebook's default parameters.\n",
        "\n",
        "\n",
        "* **Line 5**: We use the `.reset()` method to reset the environment to the initial state and get the initial state.\n",
        "\n",
        "\n",
        "* **Line 6**: We start the inner loop. Notice that we have set $T =$ `max_num_timesteps = 1000`. This means that the episode will automatically terminate if the episode hasn't terminated after `1000` time steps.\n",
        "\n",
        "\n",
        "* **Line 7**: The agent observes the current `state` and chooses an `action` using an $\\epsilon$-greedy policy. Our agent starts out using a value of $\\epsilon =$ `epsilon = 1` which yields an $\\epsilon$-greedy policy that is equivalent to the equiprobable random policy. This means that at the beginning of our training, the agent is just going to take random actions regardless of the observed `state`. As training progresses we will decrease the value of $\\epsilon$ slowly towards a minimum value using a given $\\epsilon$-decay rate. We want this minimum value to be close to zero because a value of $\\epsilon = 0$ will yield an $\\epsilon$-greedy policy that is equivalent to the greedy policy. This means that towards the end of training, the agent will lean towards selecting the `action` that it believes (based on its past experiences) will maximize $Q(s,a)$. We will set the minimum $\\epsilon$ value to be `0.01` and not exactly 0 because we always want to keep a little bit of exploration during training. If you want to know how this is implemented in code we encourage you to take a look at the `utils.get_action` function in the `utils` module.\n",
        "\n",
        "\n",
        "* **Line 8**: We use the `.step()` method to take the given `action` in the environment and get the `reward` and the `next_state`.\n",
        "\n",
        "\n",
        "* **Line 9**: We store the `experience(state, action, reward, next_state, done)` tuple in our `memory_buffer`. Notice that we also store the `done` variable so that we can keep track of when an episode terminates. This allowed us to set the $y$ targets in [Exercise 2](#ex02).\n",
        "\n",
        "\n",
        "* **Line 10**: We check if the conditions are met to perform a learning update. We do this by using our custom `utils.check_update_conditions` function. This function checks if $C =$ `NUM_STEPS_FOR_UPDATE = 4` time steps have occured and if our `memory_buffer` has enough experience tuples to fill a mini-batch. For example, if the mini-batch size is `64`, then our `memory_buffer` should have more than `64` experience tuples in order to pass the latter condition. If the conditions are met, then the `utils.check_update_conditions` function will return a value of `True`, otherwise it will return a value of `False`.\n",
        "\n",
        "\n",
        "* **Lines 11 - 14**: If the `update` variable is `True` then we perform a learning update. The learning update consists of sampling a random mini-batch of experience tuples from our `memory_buffer`, setting the $y$ targets, performing gradient descent, and updating the weights of the networks. We will use the `agent_learn` function we defined in [Section 8](#8) to perform the latter 3.\n",
        "\n",
        "\n",
        "* **Line 15**: At the end of each iteration of the inner loop we set `next_state` as our new `state` so that the loop can start again from this new state. In addition, we check if the episode has reached a terminal state (i.e we check if `done = True`). If a terminal state has been reached, then we break out of the inner loop.\n",
        "\n",
        "\n",
        "* **Line 16**: At the end of each iteration of the outer loop we update the value of $\\epsilon$, and check if the environment has been solved. We consider that the environment has been solved if the agent receives an average of `200` points in the last `100` episodes. If the environment has not been solved we continue the outer loop and start a new episode.\n",
        "\n",
        "Finally, we wanted to note that we have included some extra variables to keep track of the total number of points the agent received in each episode. This will help us determine if the agent has solved the environment and it will also allow us to see how our agent performed during training. We also use the `time` module to measure how long the training takes.\n",
        "\n",
        "<br>\n",
        "<br>\n",
        "<figure>\n",
        "  <img src = \"images/deep_q_algorithm.png\" width = 90% style = \"border: thin silver solid; padding: 0px\">\n",
        "      <figcaption style = \"text-align: center; font-style: italic\">Fig 4. Deep Q-Learning with Experience Replay.</figcaption>\n",
        "</figure>\n",
        "<br>\n",
        "\n",
        "**Note:** With this notebook's default parameters, the following cell takes between 10 to 15 minutes to run."
      ]
    },
    {
      "cell_type": "code",
      "execution_count": 23,
      "metadata": {
        "deletable": false,
        "editable": true,
        "tags": [],
        "id": "VfEmVk9lmKgN",
        "outputId": "b53463c8-cd86-49cc-c38f-9591c0df18bb",
        "colab": {
          "base_uri": "https://localhost:8080/"
        }
      },
      "outputs": [
        {
          "output_type": "stream",
          "name": "stdout",
          "text": [
            "Episode 100 | epsilon=0.606 Total point average of the last 100 episodes: -152.51\n",
            "Episode 200 | epsilon=0.367 Total point average of the last 100 episodes: -99.99\n",
            "Episode 300 | epsilon=0.222 Total point average of the last 100 episodes: -34.84\n",
            "Episode 400 | epsilon=0.135 Total point average of the last 100 episodes: 27.62\n",
            "Episode 500 | epsilon=0.082 Total point average of the last 100 episodes: 162.33\n",
            "Episode 555 | epsilon=0.062 Total point average of the last 100 episodes: 199.59"
          ]
        },
        {
          "output_type": "stream",
          "name": "stderr",
          "text": [
            "WARNING:absl:You are saving your model as an HDF5 file via `model.save()` or `keras.saving.save_model(model)`. This file format is considered legacy. We recommend using instead the native Keras format, e.g. `model.save('my_model.keras')` or `keras.saving.save_model(model, 'my_model.keras')`. \n"
          ]
        },
        {
          "output_type": "stream",
          "name": "stdout",
          "text": [
            "\rEpisode 556 | epsilon=0.062 Total point average of the last 100 episodes: 200.30\n",
            "\n",
            "Environment solved in 556 episodes!\n",
            "\n",
            "Total Runtime: 1318.49 s (21.97 min)\n"
          ]
        }
      ],
      "source": [
        "start = time.time()\n",
        "\n",
        "num_episodes = 2000\n",
        "max_num_timesteps = 1000\n",
        "\n",
        "total_point_history = []\n",
        "\n",
        "num_p_av = 100    # number of total points to use for averaging\n",
        "epsilon = 1.0     # initial ε value for ε-greedy policy\n",
        "\n",
        "# Create a memory buffer D with capacity N\n",
        "memory_buffer = deque(maxlen=MEMORY_SIZE)\n",
        "\n",
        "# Set the target network weights equal to the Q-Network weights\n",
        "target_q_network.set_weights(q_network.get_weights())\n",
        "\n",
        "for i in range(num_episodes):\n",
        "\n",
        "    # Reset the environment to the initial state and get the initial state\n",
        "    state, info = env.reset()\n",
        "    total_points = 0\n",
        "\n",
        "    for t in range(max_num_timesteps):\n",
        "\n",
        "        # From the current state S choose an action A using an ε-greedy policy\n",
        "        state_qn = np.expand_dims(state, axis=0)  # state needs to be the right shape for the q_network\n",
        "        q_values = q_network(state_qn)\n",
        "        action = utils.get_action(q_values, epsilon)\n",
        "\n",
        "        # Take action A and receive reward R and the next state S'\n",
        "        next_state, reward, done, truncated, info = env.step(action)\n",
        "\n",
        "        # Store experience tuple (S,A,R,S') in the memory buffer.\n",
        "        # We store the done variable as well for convenience.\n",
        "        memory_buffer.append(experience(state, action, reward, next_state, done))\n",
        "\n",
        "        # Only update the network every NUM_STEPS_FOR_UPDATE time steps.\n",
        "        update = utils.check_update_conditions(t, NUM_STEPS_FOR_UPDATE, memory_buffer)\n",
        "\n",
        "        if update:\n",
        "            # Sample random mini-batch of experience tuples (S,A,R,S') from D\n",
        "            experiences = utils.get_experiences(memory_buffer)\n",
        "\n",
        "            # Set the y targets, perform a gradient descent step,\n",
        "            # and update the network weights.\n",
        "            agent_learn(experiences, GAMMA, 1e-3)\n",
        "\n",
        "        state = next_state.copy()\n",
        "        total_points += reward\n",
        "\n",
        "        if done:\n",
        "            break\n",
        "\n",
        "    total_point_history.append(total_points)\n",
        "    av_latest_points = np.mean(total_point_history[-num_p_av:])\n",
        "\n",
        "    # Update the ε value\n",
        "    epsilon = utils.get_new_eps(epsilon, 0.995)\n",
        "\n",
        "    print(f\"\\rEpisode {i+1} | epsilon={epsilon:.3f} Total point average of the last {num_p_av} episodes: {av_latest_points:.2f}\", end=\"\")\n",
        "\n",
        "    if (i+1) % num_p_av == 0:\n",
        "       print(f\"\\rEpisode {i+1} | epsilon={epsilon:.3f} Total point average of the last {num_p_av} episodes: {av_latest_points:.2f}\")\n",
        "\n",
        "    # We will consider that the environment is solved if we get an\n",
        "    # average of 200 points in the last 100 episodes.\n",
        "    if av_latest_points >= 200.0:\n",
        "        print(f\"\\n\\nEnvironment solved in {i+1} episodes!\")\n",
        "        q_network.save('lunar_lander_model.h5')\n",
        "        break\n",
        "\n",
        "tot_time = time.time() - start\n",
        "\n",
        "print(f\"\\nTotal Runtime: {tot_time:.2f} s ({(tot_time/60):.2f} min)\")"
      ]
    },
    {
      "cell_type": "markdown",
      "metadata": {
        "editable": true,
        "tags": [],
        "id": "bvRz6GxBmKgO"
      },
      "source": [
        "We can plot the total point history along with the moving average to see how our agent improved during training. If you want to know about the different plotting options available in the `utils.plot_history` function we encourage you to take a look at the `utils` module."
      ]
    },
    {
      "cell_type": "code",
      "execution_count": 24,
      "metadata": {
        "deletable": false,
        "editable": true,
        "id": "E_EUXxurfe8m",
        "outputId": "18d590ef-5bdf-4d5f-cedf-de8f80e5394e",
        "colab": {
          "base_uri": "https://localhost:8080/",
          "height": 647
        }
      },
      "outputs": [
        {
          "output_type": "display_data",
          "data": {
            "text/plain": [
              "<Figure size 1000x700 with 1 Axes>"
            ],
            "image/png": "[encoded data removed]"
          },
          "metadata": {}
        }
      ],
      "source": [
        "# Plot the total point history along with the moving average\n",
        "utils.plot_history(total_point_history)"
      ]
    },
    {
      "cell_type": "markdown",
      "metadata": {
        "id": "c_xwgaX5MnYt"
      },
      "source": [
        "<a name=\"10\"></a>\n",
        "## 10 - See the Trained Agent In Action\n",
        "\n",
        "Now that we have trained our agent, we can see it in action. We will use the `utils.create_video` function to create a video of our agent interacting with the environment using the trained $Q$-Network. The `utils.create_video` function uses the `imageio` library to create the video. This library produces some warnings that can be distracting, so, to suppress these warnings we run the code below."
      ]
    },
    {
      "cell_type": "code",
      "execution_count": 25,
      "metadata": {
        "deletable": false,
        "editable": true,
        "id": "HPiXcT2KmKgY"
      },
      "outputs": [],
      "source": [
        "# Suppress warnings from imageio\n",
        "import logging\n",
        "logging.getLogger().setLevel(logging.ERROR)"
      ]
    },
    {
      "cell_type": "markdown",
      "metadata": {
        "id": "LGRJML_wmKgY"
      },
      "source": [
        "In the cell below we create a video of our agent interacting with the Lunar Lander environment using the trained `q_network`. The video is saved to the `videos` folder with the given `filename`. We use the `utils.embed_mp4` function to embed the video in the Jupyter Notebook so that we can see it here directly without having to download it.\n",
        "\n",
        "We should note that since the lunar lander starts with a random initial force applied to its center of mass, every time you run the cell below you will see a different video. If the agent was trained properly, it should be able to land the lunar lander in the landing pad every time, regardless of the initial force applied to its center of mass."
      ]
    },
    {
      "cell_type": "code",
      "execution_count": 34,
      "metadata": {
        "deletable": false,
        "editable": true,
        "id": "3Ttb_zLeJKiG",
        "tags": [],
        "outputId": "82a5c3d2-8a20-449b-f24f-11c0e8f72560",
        "colab": {
          "base_uri": "https://localhost:8080/",
          "height": 840
        }
      },
      "outputs": [
        {
          "output_type": "stream",
          "name": "stdout",
          "text": [
            "Collecting imageio==2.19.3\n",
            "  Downloading imageio-2.19.3-py3-none-any.whl.metadata (4.9 kB)\n",
            "Requirement already satisfied: numpy in /usr/local/lib/python3.11/dist-packages (from imageio==2.19.3) (2.0.2)\n",
            "Requirement already satisfied: pillow>=8.3.2 in /usr/local/lib/python3.11/dist-packages (from imageio==2.19.3) (11.1.0)\n",
            "Downloading imageio-2.19.3-py3-none-any.whl (3.4 MB)\n",
            "\u001b[?25l   \u001b[90m━━━━━━━━━━━━━━━━━━━━━━━━━━━━━━━━━━━━━━━━\u001b[0m \u001b[32m0.0/3.4 MB\u001b[0m \u001b[31m?\u001b[0m eta \u001b[36m-:--:--\u001b[0m\r\u001b[2K   \u001b[91m━\u001b[0m\u001b[91m╸\u001b[0m\u001b[90m━━━━━━━━━━━━━━━━━━━━━━━━━━━━━━━━━━━━━━\u001b[0m \u001b[32m0.1/3.4 MB\u001b[0m \u001b[31m4.0 MB/s\u001b[0m eta \u001b[36m0:00:01\u001b[0m\r\u001b[2K   \u001b[91m━━━━━━━━━━━━━━\u001b[0m\u001b[90m╺\u001b[0m\u001b[90m━━━━━━━━━━━━━━━━━━━━━━━━━\u001b[0m \u001b[32m1.2/3.4 MB\u001b[0m \u001b[31m17.6 MB/s\u001b[0m eta \u001b[36m0:00:01\u001b[0m\r\u001b[2K   \u001b[91m━━━━━━━━━━━━━━━━━━━━━━━━━━━━━━━━━━━━━━━\u001b[0m\u001b[91m╸\u001b[0m \u001b[32m3.3/3.4 MB\u001b[0m \u001b[31m38.7 MB/s\u001b[0m eta \u001b[36m0:00:01\u001b[0m\r\u001b[2K   \u001b[90m━━━━━━━━━━━━━━━━━━━━━━━━━━━━━━━━━━━━━━━━\u001b[0m \u001b[32m3.4/3.4 MB\u001b[0m \u001b[31m30.5 MB/s\u001b[0m eta \u001b[36m0:00:00\u001b[0m\n",
            "\u001b[?25hInstalling collected packages: imageio\n",
            "  Attempting uninstall: imageio\n",
            "    Found existing installation: imageio 2.37.0\n",
            "    Uninstalling imageio-2.37.0:\n",
            "      Successfully uninstalled imageio-2.37.0\n",
            "\u001b[31mERROR: pip's dependency resolver does not currently take into account all the packages that are installed. This behaviour is the source of the following dependency conflicts.\n",
            "scikit-image 0.25.2 requires imageio!=2.35.0,>=2.33, but you have imageio 2.19.3 which is incompatible.\u001b[0m\u001b[31m\n",
            "\u001b[0mSuccessfully installed imageio-2.19.3\n"
          ]
        },
        {
          "output_type": "display_data",
          "data": {
            "application/vnd.colab-display-data+json": {
              "pip_warning": {
                "packages": [
                  "imageio"
                ]
              },
              "id": "e5c5b9ed817d4062b4e11ec72a579bda"
            }
          },
          "metadata": {}
        },
        {
          "output_type": "stream",
          "name": "stdout",
          "text": [
            "Collecting imageio-ffmpeg==0.4.7\n",
            "  Downloading imageio_ffmpeg-0.4.7-py3-none-manylinux2010_x86_64.whl.metadata (1.6 kB)\n",
            "Downloading imageio_ffmpeg-0.4.7-py3-none-manylinux2010_x86_64.whl (26.9 MB)\n",
            "\u001b[2K   \u001b[90m━━━━━━━━━━━━━━━━━━━━━━━━━━━━━━━━━━━━━━━━\u001b[0m \u001b[32m26.9/26.9 MB\u001b[0m \u001b[31m58.7 MB/s\u001b[0m eta \u001b[36m0:00:00\u001b[0m\n",
            "\u001b[?25hInstalling collected packages: imageio-ffmpeg\n",
            "Successfully installed imageio-ffmpeg-0.4.7\n"
          ]
        },
        {
          "output_type": "error",
          "ename": "ValueError",
          "evalue": "setting an array element with a sequence. The requested array has an inhomogeneous shape after 1 dimensions. The detected shape was (2,) + inhomogeneous part.",
          "traceback": [
            "\u001b[0;31m---------------------------------------------------------------------------\u001b[0m",
            "\u001b[0;31mValueError\u001b[0m                                Traceback (most recent call last)",
            "\u001b[0;32m<ipython-input-34-af7073860d22>\u001b[0m in \u001b[0;36m<cell line: 0>\u001b[0;34m()\u001b[0m\n\u001b[1;32m      4\u001b[0m \u001b[0mfilename\u001b[0m \u001b[0;34m=\u001b[0m \u001b[0;34m\"./videos/lunar_lander.mp4\"\u001b[0m\u001b[0;34m\u001b[0m\u001b[0;34m\u001b[0m\u001b[0m\n\u001b[1;32m      5\u001b[0m \u001b[0;34m\u001b[0m\u001b[0m\n\u001b[0;32m----> 6\u001b[0;31m \u001b[0mutils\u001b[0m\u001b[0;34m.\u001b[0m\u001b[0mcreate_video\u001b[0m\u001b[0;34m(\u001b[0m\u001b[0mfilename\u001b[0m\u001b[0;34m,\u001b[0m \u001b[0menv\u001b[0m\u001b[0;34m,\u001b[0m \u001b[0mq_network\u001b[0m\u001b[0;34m)\u001b[0m\u001b[0;34m\u001b[0m\u001b[0;34m\u001b[0m\u001b[0m\n\u001b[0m\u001b[1;32m      7\u001b[0m \u001b[0mutils\u001b[0m\u001b[0;34m.\u001b[0m\u001b[0membed_mp4\u001b[0m\u001b[0;34m(\u001b[0m\u001b[0mfilename\u001b[0m\u001b[0;34m)\u001b[0m\u001b[0;34m\u001b[0m\u001b[0;34m\u001b[0m\u001b[0m\n",
            "\u001b[0;32m/content/utils.py\u001b[0m in \u001b[0;36mcreate_video\u001b[0;34m(filename, env, q_network, fps)\u001b[0m\n\u001b[1;32m    425\u001b[0m         \u001b[0mvideo\u001b[0m\u001b[0;34m.\u001b[0m\u001b[0mappend_data\u001b[0m\u001b[0;34m(\u001b[0m\u001b[0mframe\u001b[0m\u001b[0;34m)\u001b[0m\u001b[0;34m\u001b[0m\u001b[0;34m\u001b[0m\u001b[0m\n\u001b[1;32m    426\u001b[0m         \u001b[0;32mwhile\u001b[0m \u001b[0;32mnot\u001b[0m \u001b[0mdone\u001b[0m\u001b[0;34m:\u001b[0m\u001b[0;34m\u001b[0m\u001b[0;34m\u001b[0m\u001b[0m\n\u001b[0;32m--> 427\u001b[0;31m             \u001b[0mstate\u001b[0m \u001b[0;34m=\u001b[0m \u001b[0mnp\u001b[0m\u001b[0;34m.\u001b[0m\u001b[0mexpand_dims\u001b[0m\u001b[0;34m(\u001b[0m\u001b[0mstate\u001b[0m\u001b[0;34m,\u001b[0m \u001b[0maxis\u001b[0m\u001b[0;34m=\u001b[0m\u001b[0;36m0\u001b[0m\u001b[0;34m)\u001b[0m\u001b[0;34m\u001b[0m\u001b[0;34m\u001b[0m\u001b[0m\n\u001b[0m\u001b[1;32m    428\u001b[0m             \u001b[0mq_values\u001b[0m \u001b[0;34m=\u001b[0m \u001b[0mq_network\u001b[0m\u001b[0;34m(\u001b[0m\u001b[0mstate\u001b[0m\u001b[0;34m)\u001b[0m\u001b[0;34m\u001b[0m\u001b[0;34m\u001b[0m\u001b[0m\n\u001b[1;32m    429\u001b[0m             \u001b[0maction\u001b[0m \u001b[0;34m=\u001b[0m \u001b[0mnp\u001b[0m\u001b[0;34m.\u001b[0m\u001b[0margmax\u001b[0m\u001b[0;34m(\u001b[0m\u001b[0mq_values\u001b[0m\u001b[0;34m.\u001b[0m\u001b[0mnumpy\u001b[0m\u001b[0;34m(\u001b[0m\u001b[0;34m)\u001b[0m\u001b[0;34m[\u001b[0m\u001b[0;36m0\u001b[0m\u001b[0;34m]\u001b[0m\u001b[0;34m)\u001b[0m\u001b[0;34m\u001b[0m\u001b[0;34m\u001b[0m\u001b[0m\n",
            "\u001b[0;32m/usr/local/lib/python3.11/dist-packages/numpy/lib/_shape_base_impl.py\u001b[0m in \u001b[0;36mexpand_dims\u001b[0;34m(a, axis)\u001b[0m\n\u001b[1;32m    586\u001b[0m         \u001b[0ma\u001b[0m \u001b[0;34m=\u001b[0m \u001b[0masarray\u001b[0m\u001b[0;34m(\u001b[0m\u001b[0ma\u001b[0m\u001b[0;34m)\u001b[0m\u001b[0;34m\u001b[0m\u001b[0;34m\u001b[0m\u001b[0m\n\u001b[1;32m    587\u001b[0m     \u001b[0;32melse\u001b[0m\u001b[0;34m:\u001b[0m\u001b[0;34m\u001b[0m\u001b[0;34m\u001b[0m\u001b[0m\n\u001b[0;32m--> 588\u001b[0;31m         \u001b[0ma\u001b[0m \u001b[0;34m=\u001b[0m \u001b[0masanyarray\u001b[0m\u001b[0;34m(\u001b[0m\u001b[0ma\u001b[0m\u001b[0;34m)\u001b[0m\u001b[0;34m\u001b[0m\u001b[0;34m\u001b[0m\u001b[0m\n\u001b[0m\u001b[1;32m    589\u001b[0m \u001b[0;34m\u001b[0m\u001b[0m\n\u001b[1;32m    590\u001b[0m     \u001b[0;32mif\u001b[0m \u001b[0mtype\u001b[0m\u001b[0;34m(\u001b[0m\u001b[0maxis\u001b[0m\u001b[0;34m)\u001b[0m \u001b[0;32mnot\u001b[0m \u001b[0;32min\u001b[0m \u001b[0;34m(\u001b[0m\u001b[0mtuple\u001b[0m\u001b[0;34m,\u001b[0m \u001b[0mlist\u001b[0m\u001b[0;34m)\u001b[0m\u001b[0;34m:\u001b[0m\u001b[0;34m\u001b[0m\u001b[0;34m\u001b[0m\u001b[0m\n",
            "\u001b[0;31mValueError\u001b[0m: setting an array element with a sequence. The requested array has an inhomogeneous shape after 1 dimensions. The detected shape was (2,) + inhomogeneous part."
          ]
        }
      ],
      "source": [
        "filename = \"./videos/lunar_lander.mp4\"\n",
        "\n",
        "utils.create_video(filename, env, q_network)\n",
        "utils.embed_mp4(filename)"
      ]
    },
    {
      "cell_type": "markdown",
      "metadata": {
        "id": "ENQlCju4mKgZ"
      },
      "source": [
        "<a name=\"11\"></a>\n",
        "## 11 - Congratulations!\n",
        "\n",
        "You have successfully used Deep Q-Learning with Experience Replay to train an agent to land a lunar lander safely on a landing pad on the surface of the moon. Congratulations!"
      ]
    },
    {
      "cell_type": "markdown",
      "metadata": {
        "id": "fM9txkuYmKgZ"
      },
      "source": [
        "<a name=\"12\"></a>\n",
        "## 12 - References\n",
        "\n",
        "If you would like to learn more about Deep Q-Learning, we recommend you check out the following papers.\n",
        "\n",
        "\n",
        "* Mnih, V., Kavukcuoglu, K., Silver, D. et al. Human-level control through deep reinforcement learning. Nature 518, 529–533 (2015).\n",
        "\n",
        "\n",
        "* Lillicrap, T. P., Hunt, J. J., Pritzel, A., et al. Continuous Control with Deep Reinforcement Learning. ICLR (2016).\n",
        "\n",
        "\n",
        "* Mnih, V., Kavukcuoglu, K., Silver, D. et al. Playing Atari with Deep Reinforcement Learning. arXiv e-prints.  arXiv:1312.5602 (2013)."
      ]
    },
    {
      "cell_type": "markdown",
      "metadata": {
        "id": "MNugViv7mKgZ"
      },
      "source": [
        "<details>\n",
        "  <summary><font size=\"2\" color=\"darkgreen\"><b>Please click here if you want to experiment with any of the non-graded code.</b></font></summary>\n",
        "    <p><i><b>Important Note: Please only do this when you've already passed the assignment to avoid problems with the autograder.</b></i>\n",
        "    <ol>\n",
        "        <li> On the notebook’s menu, click “View” > “Cell Toolbar” > “Edit Metadata”</li>\n",
        "        <li> Hit the “Edit Metadata” button next to the code cell which you want to lock/unlock</li>\n",
        "        <li> Set the attribute value for “editable” to:\n",
        "            <ul>\n",
        "                <li> “true” if you want to unlock it </li>\n",
        "                <li> “false” if you want to lock it </li>\n",
        "            </ul>\n",
        "        </li>\n",
        "        <li> On the notebook’s menu, click “View” > “Cell Toolbar” > “None” </li>\n",
        "    </ol>\n",
        "    <p> Here's a short demo of how to do the steps above:\n",
        "        <br>\n",
        "        <img src=\"https://lh3.google.com/u/0/d/14Xy_Mb17CZVgzVAgq7NCjMVBvSae3xO1\" align=\"center\" alt=\"unlock_cells.gif\">\n",
        "</details>"
      ]
    }
  ],
  "metadata": {
    "accelerator": "GPU",
    "colab": {
      "name": "TensorFlow - Lunar Lander.ipynb",
      "provenance": [],
      "toc_visible": true,
      "gpuType": "T4",
      "include_colab_link": true
    },
    "kernelspec": {
      "display_name": "Python 3",
      "name": "python3"
    },
    "language_info": {
      "codemirror_mode": {
        "name": "ipython",
        "version": 3
      },
      "file_extension": ".py",
      "mimetype": "text/x-python",
      "name": "python",
      "nbconvert_exporter": "python",
      "pygments_lexer": "ipython3",
      "version": "3.9.6"
    }
  },
  "nbformat": 4,
  "nbformat_minor": 0
}